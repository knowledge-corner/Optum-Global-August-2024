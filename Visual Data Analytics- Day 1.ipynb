{
 "cells": [
  {
   "cell_type": "markdown",
   "id": "a9022bd5-9018-467e-962f-2f40de5c0258",
   "metadata": {},
   "source": [
    "# Data Analytics and Visualization with Python\n",
    "\n",
    "### Learning Objective - \n",
    "\n",
    "- Introduction to Analytics using Python\n",
    "    - Python Basics for Analytics (Revision)\n",
    "    - numpy and pandas library\n",
    "    - Reading data from various sources (excel, csv, database, json)\n",
    "    - Cleaning and Preparing Data\n",
    "- Descriptive Statistics\n",
    "- Visualizing Data\n",
    "    - Introduction to matplotlib library\n",
    "    - Anatomy of a figure\n",
    "    - Creating sub-plots\n",
    "    - Chart aesthetics\n",
    "- Visual Data Analytics\n",
    "    - Univariate Analysis\n",
    "        - count plots\n",
    "        - histograms and boxplot\n",
    "    - Bivariate Analysis\n",
    "        - scatter plot\n",
    "        - bar plot\n",
    "        - line charts\n",
    "        - pair plots, heatmaps"
   ]
  },
  {
   "cell_type": "markdown",
   "id": "04b7a805-d27a-4f18-98e0-39e8514305a2",
   "metadata": {},
   "source": [
    "## Python Basics for Analytics "
   ]
  },
  {
   "cell_type": "markdown",
   "id": "997d95c5-2495-4299-a3f3-818d87e8c2a2",
   "metadata": {},
   "source": [
    "#### Built-in data structure - \n",
    "- list  - [], mutable, mixed data, indexed\n",
    "- tuples - (), immutable, mixed data, indexed\n",
    "- set  - {}, mutable, no duplicates, unordered, mixed data but only immutable objects\n",
    "- dict - {}, mutable, key:value, key - no duplicates, immutable object; Value - any type\n",
    "\n",
    "#### Python Functions\n",
    "\n",
    "- sorted(), zip(), enumerate(), lambda functions"
   ]
  },
  {
   "cell_type": "markdown",
   "id": "ee9c2edd-93df-4df2-b1a2-1cd2e81b6307",
   "metadata": {},
   "source": [
    "## Working on Arrays"
   ]
  },
  {
   "cell_type": "code",
   "execution_count": null,
   "id": "a34d16a5-e9b0-4587-8b5a-eab2e0933b6f",
   "metadata": {},
   "outputs": [],
   "source": [
    "!pip install numpy  # Install only if np is not present"
   ]
  },
  {
   "cell_type": "code",
   "execution_count": null,
   "id": "5397a917-8f1c-4317-8a76-f668ebaf1654",
   "metadata": {},
   "outputs": [],
   "source": [
    "import numpy as np"
   ]
  },
  {
   "cell_type": "code",
   "execution_count": null,
   "id": "8685b754-0223-44e9-8abd-70236998d9e5",
   "metadata": {},
   "outputs": [],
   "source": [
    "names = np.array([\"Olivia\", \"Liam\", \"Emma\", \"Noah\", \"Ava\", \"Sophia\", \"Jackson\", \"Isabella\", \"Lucas\", \"Mia\"])\n",
    "maths = np.array([93, 60, 68, 53, 63, 30, 46, 63, 66, 53])\n",
    "english = np.array([75, 69, 78, 66, 53, 26, 65, 62, 63, 70])\n",
    "science = np.array([96, 57, 55, 52, 52, 31, 96, 58, 52, 70])"
   ]
  },
  {
   "cell_type": "markdown",
   "id": "b704f2a4-2b1f-4614-b113-ae61c9cf8781",
   "metadata": {},
   "source": [
    "#### Array Attributes"
   ]
  },
  {
   "cell_type": "markdown",
   "id": "31750cd0-bd8f-41a9-9c5c-1ef657f103cc",
   "metadata": {},
   "source": [
    "###### How many students appreared for the exam?"
   ]
  },
  {
   "cell_type": "code",
   "execution_count": null,
   "id": "7a84e830-9abe-4d9f-80d3-ca756623274b",
   "metadata": {},
   "outputs": [],
   "source": [
    "names.size"
   ]
  },
  {
   "cell_type": "code",
   "execution_count": null,
   "id": "4cdbc6e9-38e6-4408-bc08-1b9a74f28908",
   "metadata": {},
   "outputs": [],
   "source": [
    "names.dtype"
   ]
  },
  {
   "cell_type": "code",
   "execution_count": null,
   "id": "c42bd3c4-5aae-4e45-92d9-0ae45978bd94",
   "metadata": {},
   "outputs": [],
   "source": [
    "maths.dtype"
   ]
  },
  {
   "cell_type": "code",
   "execution_count": null,
   "id": "e8a45c37-aa5e-4a01-b060-770c8a492ad2",
   "metadata": {},
   "outputs": [],
   "source": [
    "names.ndim  # dimensions of array"
   ]
  },
  {
   "cell_type": "markdown",
   "id": "2e6e8a08-33cf-440e-8c85-650c6d76dc45",
   "metadata": {},
   "source": [
    "#### Accessing Array elemenets and Operations on Arrays"
   ]
  },
  {
   "cell_type": "markdown",
   "id": "eb83e6dc-4134-4e73-9817-bc628ee2f836",
   "metadata": {},
   "source": [
    "###### Ex. Who scored maximum marks in science?"
   ]
  },
  {
   "cell_type": "code",
   "execution_count": null,
   "id": "7675f397-ce92-4b8d-855e-45a034561e0d",
   "metadata": {},
   "outputs": [],
   "source": [
    "int(science.max())"
   ]
  },
  {
   "cell_type": "code",
   "execution_count": null,
   "id": "6bd8f956-29a2-4fce-b315-159dd9e6e481",
   "metadata": {},
   "outputs": [],
   "source": [
    "science.argmax()  # Returns the index position of largest element"
   ]
  },
  {
   "cell_type": "code",
   "execution_count": null,
   "id": "3132e825-cda7-40b8-b8d2-720771b9da68",
   "metadata": {},
   "outputs": [],
   "source": [
    "science == science.max()  # Returns a bool array after comparing based on condition"
   ]
  },
  {
   "cell_type": "code",
   "execution_count": null,
   "id": "68ed15ad-e224-43ca-9c95-b7934789f34c",
   "metadata": {},
   "outputs": [],
   "source": [
    "science[science == science.max()]"
   ]
  },
  {
   "cell_type": "code",
   "execution_count": null,
   "id": "33bd3f2c-43d3-4cb9-b267-ca45f03b2bc0",
   "metadata": {},
   "outputs": [],
   "source": [
    "names[science == science.max()]"
   ]
  },
  {
   "cell_type": "markdown",
   "id": "8e44c976-94c7-4aeb-ac8a-04b4d874c1ef",
   "metadata": {},
   "source": [
    "###### Ex. How many students have passed in maths?"
   ]
  },
  {
   "cell_type": "code",
   "execution_count": null,
   "id": "21d28df8-5bd0-472b-915f-018055a589e1",
   "metadata": {},
   "outputs": [],
   "source": [
    "names[maths >= 35]"
   ]
  },
  {
   "cell_type": "code",
   "execution_count": null,
   "id": "50ea7e34-8805-4e53-88cd-bcd279fc8738",
   "metadata": {},
   "outputs": [],
   "source": [
    "names[maths >= 35].size"
   ]
  },
  {
   "cell_type": "code",
   "execution_count": null,
   "id": "742cd044-3652-4224-8f42-adb23eea21f8",
   "metadata": {},
   "outputs": [],
   "source": [
    "sum(maths >= 35)"
   ]
  },
  {
   "cell_type": "markdown",
   "id": "87272b3c-3d49-4581-9274-6427110dc7be",
   "metadata": {},
   "source": [
    "###### Ex. Are there any students who have failed in maths? (True or False)"
   ]
  },
  {
   "cell_type": "code",
   "execution_count": null,
   "id": "8891ff9e-3412-4736-8432-afbe202a116e",
   "metadata": {},
   "outputs": [],
   "source": [
    "np.all(maths >= 35)   # returns True if all values are True else False"
   ]
  },
  {
   "cell_type": "code",
   "execution_count": null,
   "id": "a002f63d-f885-4c17-93cc-169d8af057ad",
   "metadata": {},
   "outputs": [],
   "source": [
    "np.any(english < 35)   # returns True if any one value is True else Falseb"
   ]
  },
  {
   "cell_type": "code",
   "execution_count": null,
   "id": "6b200b56-8783-439b-9e75-dae5f7cb1c3e",
   "metadata": {},
   "outputs": [],
   "source": [
    "lst = [True, False, True, ()]\n",
    "all(lst)"
   ]
  },
  {
   "cell_type": "code",
   "execution_count": null,
   "id": "0116d731-7c19-4a8a-9496-756fd4a29512",
   "metadata": {},
   "outputs": [],
   "source": [
    "lst = [True, True, True, ()]  # bool of empty tuple is always False\n",
    "all(lst)"
   ]
  },
  {
   "cell_type": "markdown",
   "id": "2eb0faca-87dd-49a3-ad2a-b58e3e4e37d4",
   "metadata": {},
   "source": [
    "###### Ex. Have all students cleared their math exams (True or False)"
   ]
  },
  {
   "cell_type": "code",
   "execution_count": null,
   "id": "b9f2f010-5ddb-4009-b2ea-24acd661d75f",
   "metadata": {},
   "outputs": [],
   "source": [
    "np.all(maths >= 35)"
   ]
  },
  {
   "cell_type": "markdown",
   "id": "a6602167-d5e9-43e0-9c20-65f0e059cc66",
   "metadata": {},
   "source": [
    "###### Ex. Who failed in maths? passing marks - 35"
   ]
  },
  {
   "cell_type": "code",
   "execution_count": null,
   "id": "c7995c0f-dff2-45c6-9214-61ab765262ff",
   "metadata": {},
   "outputs": [],
   "source": [
    "names[maths< 35]"
   ]
  },
  {
   "cell_type": "code",
   "execution_count": null,
   "id": "ebc6d83d-5dae-4cf6-ad35-1dd4a54fc421",
   "metadata": {},
   "outputs": [],
   "source": [
    "\", \".join(names[maths > 35])"
   ]
  },
  {
   "cell_type": "markdown",
   "id": "a04cecd3-77dc-4307-9d14-795ecde00382",
   "metadata": {},
   "source": [
    "###### Ex. Calculate percentage of all students and assign grades"
   ]
  },
  {
   "cell_type": "code",
   "execution_count": null,
   "id": "391c4b47-e505-448a-806c-af58e043c97d",
   "metadata": {},
   "outputs": [],
   "source": [
    "percentage = np.round((maths + english + science)/3, 2)\n",
    "percentage"
   ]
  },
  {
   "cell_type": "markdown",
   "id": "1f072d10-7b0f-47e6-947a-a62ebaad41e5",
   "metadata": {},
   "source": [
    "###### Assign grades to the students (Failed or pass)"
   ]
  },
  {
   "cell_type": "code",
   "execution_count": null,
   "id": "efe3adbd-b1c5-468b-bcf2-70a69bb26113",
   "metadata": {},
   "outputs": [],
   "source": [
    "grades_1 = np.where(percentage >= 35, \"Passed\", \"Failed\")\n",
    "grades_1"
   ]
  },
  {
   "cell_type": "markdown",
   "id": "e7e7f131-c5f3-4854-8b72-e70ae921f916",
   "metadata": {},
   "source": [
    "###### Assigning grades as A, B, C, D"
   ]
  },
  {
   "cell_type": "code",
   "execution_count": null,
   "id": "90a67aaa-41d5-4d2d-a06e-b4304ab4373a",
   "metadata": {},
   "outputs": [],
   "source": [
    "conditions = [percentage >= 75, percentage >= 60, percentage >= 40]\n",
    "results = [\"Grade A\", \"Grade B\", \"Grade C\"]\n",
    "np.select(conditions, results, \"Grade D\")"
   ]
  },
  {
   "cell_type": "code",
   "execution_count": null,
   "id": "012c5a17-47f5-496a-83aa-542832dfb63e",
   "metadata": {},
   "outputs": [],
   "source": [
    "help(np.select)"
   ]
  },
  {
   "cell_type": "markdown",
   "id": "9d2b8c1e-271f-499c-80d4-1d90c9502c8b",
   "metadata": {},
   "source": [
    "###### Ex. Display names of students who have scored above class average."
   ]
  },
  {
   "cell_type": "code",
   "execution_count": null,
   "id": "a9ac4542-15fa-40ca-826d-cf4a054081eb",
   "metadata": {},
   "outputs": [],
   "source": [
    "names[percentage >= percentage.mean()]"
   ]
  },
  {
   "cell_type": "code",
   "execution_count": null,
   "id": "de325811-f55f-4b2a-8d56-fb06493f9ac3",
   "metadata": {},
   "outputs": [],
   "source": [
    "names[maths >= maths.mean()]"
   ]
  },
  {
   "cell_type": "markdown",
   "id": "9cec6cc4-400f-4557-a5a4-b0715a65aca3",
   "metadata": {},
   "source": [
    "###### Ex. How many students are obve average in class also above avg in all three subject"
   ]
  },
  {
   "cell_type": "code",
   "execution_count": null,
   "id": "6f8fa149-1880-4fa8-a025-67d3b3dc4d8f",
   "metadata": {},
   "outputs": [],
   "source": [
    "above_class_avg = names[percentage >= percentage.mean()]\n",
    "above_maths_avg = names[maths >= maths.mean()]\n",
    "above_sci_avg = names[science >= science.mean()]\n",
    "above_eng_avg = names[english >= english.mean()]"
   ]
  },
  {
   "cell_type": "code",
   "execution_count": null,
   "id": "2199a129-1944-41e2-8cbe-93a6765f8384",
   "metadata": {},
   "outputs": [],
   "source": [
    "from functools import reduce\n",
    "# product of numbers in range of 1-10\n",
    "reduce(lambda x, y : x + y, range(1, 11))"
   ]
  },
  {
   "cell_type": "code",
   "execution_count": null,
   "id": "5bd42e35-f5e6-4a26-ba94-aaabc318a421",
   "metadata": {},
   "outputs": [],
   "source": [
    "results = [above_class_avg, above_eng_avg, above_maths_avg, above_sci_avg]\n",
    "reduce(np.intersect1d, results)"
   ]
  },
  {
   "cell_type": "code",
   "execution_count": null,
   "id": "85311650-8af5-4091-88d3-20b07755fddc",
   "metadata": {},
   "outputs": [],
   "source": [
    "np.intersect1d(np.intersect1d(np.intersect1d(above_class_avg, above_eng_avg), above_maths_avg), above_sci_avg)"
   ]
  },
  {
   "cell_type": "markdown",
   "id": "35d1358e-9a60-4fd0-a1fa-2cc9096e722b",
   "metadata": {},
   "source": [
    "## Working on Dataframes"
   ]
  },
  {
   "cell_type": "markdown",
   "id": "a6f7d4ea-c47b-41ba-a11d-7c17cdb1e27b",
   "metadata": {},
   "source": [
    "#### Reading data from various sources (excel/csv, database, json)"
   ]
  },
  {
   "cell_type": "code",
   "execution_count": null,
   "id": "3edca489-070b-4392-becc-0381481805b9",
   "metadata": {},
   "outputs": [],
   "source": [
    "import numpy as np\n",
    "import pandas as pd\n",
    "import matplotlib.pyplot as plt\n",
    "import seaborn as sns"
   ]
  },
  {
   "cell_type": "markdown",
   "id": "e5f5e554-7f5b-4a0a-8a24-9992fb15b0aa",
   "metadata": {},
   "source": [
    "#### Creating a Datafram from lists/arrays"
   ]
  },
  {
   "cell_type": "code",
   "execution_count": null,
   "id": "602029e2-eaff-4717-8e50-5f2288b8817c",
   "metadata": {},
   "outputs": [],
   "source": [
    "names = np.array([\"Olivia\", \"Liam\", \"Emma\", \"Noah\", \"Ava\", \"Sophia\", \"Jackson\", \"Isabella\", \"Lucas\", \"Mia\"])\n",
    "maths = np.array([93, 60, 68, 53, 63, 30, 46, 63, 66, 53])\n",
    "english = np.array([75, 69, 78, 66, 53, 26, 65, 62, 63, 70])\n",
    "science = np.array([96, 57, 55, 52, 52, 31, 96, 58, 52, 70])\n",
    "\n",
    "students = {\"Name\" : names, \"Maths\" : maths, \"English\" : english, \"Science\": science}\n",
    "df = pd.DataFrame(students)\n",
    "df"
   ]
  },
  {
   "cell_type": "code",
   "execution_count": null,
   "id": "f2c06292-8cc2-4328-bd22-5c25af602767",
   "metadata": {},
   "outputs": [],
   "source": [
    "df.shape"
   ]
  },
  {
   "cell_type": "code",
   "execution_count": null,
   "id": "aadfb089-8517-4757-8c08-6f5006d1825c",
   "metadata": {},
   "outputs": [],
   "source": [
    "df.dtypes"
   ]
  },
  {
   "cell_type": "code",
   "execution_count": null,
   "id": "58336aa8-348d-435f-9d63-0ebde1e420d3",
   "metadata": {},
   "outputs": [],
   "source": [
    "df.head(2)"
   ]
  },
  {
   "cell_type": "code",
   "execution_count": null,
   "id": "ade151ca-d017-4e15-a0b9-8d1ecb347319",
   "metadata": {},
   "outputs": [],
   "source": [
    "df.tail()"
   ]
  },
  {
   "cell_type": "code",
   "execution_count": null,
   "id": "04401d65-38ed-43a4-bed3-df48eeaf8b68",
   "metadata": {},
   "outputs": [],
   "source": [
    "df[df.Maths < 35]"
   ]
  },
  {
   "cell_type": "code",
   "execution_count": null,
   "id": "5e546efe-b968-4700-a32a-25d0d43061a7",
   "metadata": {},
   "outputs": [],
   "source": [
    "np.all(df.Maths >= 35) # Have all the srydents passed in maths?"
   ]
  },
  {
   "cell_type": "markdown",
   "id": "382ed68d-2b0b-491f-8298-517fabd81cbf",
   "metadata": {},
   "source": [
    "###### Ex. Create new columns as Total Marks, Percentage, Rank and Grade"
   ]
  },
  {
   "cell_type": "code",
   "execution_count": null,
   "id": "c106e886-2635-4e54-a9ca-911e3c1e188f",
   "metadata": {},
   "outputs": [],
   "source": [
    "df[\"Total Marks\"] = df.Maths + df.English + df.Science\n",
    "df[\"Percentage\"] = np.round(df[\"Total Marks\"]/3, 2)\n",
    "conditions = [df.Percentage >= 75, df.Percentage >= 60, df.Percentage >= 40]\n",
    "results = [\"Grade A\", \"Grade B\", \"Grade C\"]\n",
    "df[\"Grade\"] = np.select(conditions, results, \"Grade D\")\n",
    "df[\"Rank\"] = df.Percentage.rank(ascending=False).astype(int)\n",
    "df.sort_values(\"Rank\", inplace = True, ignore_index= True)\n",
    "df"
   ]
  },
  {
   "cell_type": "markdown",
   "id": "a59c1108-2029-4ee2-a846-ef21ac35d107",
   "metadata": {},
   "source": [
    "###### Ex. What is AVG marks scored by students in Maths getting Grade B "
   ]
  },
  {
   "cell_type": "code",
   "execution_count": null,
   "id": "75a4dc6e-46af-4c00-9d2c-f6b3f63ad8f2",
   "metadata": {},
   "outputs": [],
   "source": [
    "int(df[df.Grade == \"Grade B\"].Maths.mean())"
   ]
  },
  {
   "cell_type": "markdown",
   "id": "4a532e78-91bd-4566-a201-894f076cf6b9",
   "metadata": {},
   "source": [
    "### Conneting to database"
   ]
  },
  {
   "cell_type": "code",
   "execution_count": null,
   "id": "3ec0e572-fc29-4ed6-98aa-baebf9828c7c",
   "metadata": {},
   "outputs": [],
   "source": [
    "!pip install sqlalchemy"
   ]
  },
  {
   "cell_type": "code",
   "execution_count": null,
   "id": "d35fd20f-4512-44ad-8904-a0250d6aee2d",
   "metadata": {},
   "outputs": [],
   "source": [
    "from sqlalchemy import create_engine\n",
    "conn = create_engine(\"sqlite:///employee.sqlite3\")\n",
    "conn"
   ]
  },
  {
   "cell_type": "code",
   "execution_count": null,
   "id": "5596d834-eb61-4dc7-9796-5bf028d7a568",
   "metadata": {},
   "outputs": [],
   "source": [
    "pd.read_sql(\"Employee\", conn)"
   ]
  },
  {
   "cell_type": "code",
   "execution_count": null,
   "id": "ed411554-0c84-44d5-8f21-ab98ae7eef5f",
   "metadata": {},
   "outputs": [],
   "source": [
    "pd.read_sql_query(\"Select * from Employee where Designation = 'Manager'\", conn)"
   ]
  },
  {
   "cell_type": "code",
   "execution_count": null,
   "id": "ed995ea3-a402-40d9-bb2d-695f30c4eb54",
   "metadata": {},
   "outputs": [],
   "source": [
    "mssql://*server_name*/*database_name*?trusted_connection=yes"
   ]
  },
  {
   "cell_type": "markdown",
   "id": "cd3fa3b0-58af-4f8e-8465-cfdbb3f6927d",
   "metadata": {},
   "source": [
    "### Connect to Json Object"
   ]
  },
  {
   "cell_type": "code",
   "execution_count": null,
   "id": "89e3ecb5-7309-4db9-880b-6baeb45cf7b7",
   "metadata": {},
   "outputs": [],
   "source": [
    "import requests"
   ]
  },
  {
   "cell_type": "code",
   "execution_count": null,
   "id": "699e6421-2078-4da1-977e-65ff94664053",
   "metadata": {},
   "outputs": [],
   "source": [
    "json_obj = requests.get(\"http://127.0.0.1:5000/tasks\").json()"
   ]
  },
  {
   "cell_type": "code",
   "execution_count": null,
   "id": "f1f3442f-f6c0-4e72-9116-4b85265507e1",
   "metadata": {},
   "outputs": [],
   "source": [
    "pd.DataFrame(json_obj)"
   ]
  },
  {
   "cell_type": "code",
   "execution_count": null,
   "id": "78ef543c-4628-4703-9362-21178a062af9",
   "metadata": {},
   "outputs": [],
   "source": [
    "json_obj = requests.get(\"https://jsonplaceholder.typicode.com/posts\").json()\n",
    "\n",
    "pd.DataFrame(json_obj)"
   ]
  },
  {
   "cell_type": "markdown",
   "id": "51aed624-8e08-4f58-93f5-86cbb84a48c7",
   "metadata": {},
   "source": [
    "### Read data from CSV"
   ]
  },
  {
   "cell_type": "markdown",
   "id": "2dff0e4d-c27e-4777-8045-4e7e68ce18bc",
   "metadata": {},
   "source": [
    "Method 1 - Set the current working directory as the file path"
   ]
  },
  {
   "cell_type": "code",
   "execution_count": null,
   "id": "a24ab722-6134-4f1d-a34a-c773eeed65dd",
   "metadata": {},
   "outputs": [],
   "source": [
    "import os\n",
    "os.chdir(r\"./Datasets/\")"
   ]
  },
  {
   "cell_type": "markdown",
   "id": "63c4f5a0-b159-4ea7-840b-dd63dbf703a4",
   "metadata": {},
   "source": [
    "Method 2 - Upload the files to working environment using jupyter upload button"
   ]
  },
  {
   "cell_type": "markdown",
   "id": "b6300b58-26b5-4cb4-9d00-b7cd65b967e6",
   "metadata": {},
   "source": [
    "#### Reading data from csv file"
   ]
  },
  {
   "cell_type": "code",
   "execution_count": null,
   "id": "109a2a9e-f551-401f-92c4-8bc4a7537f68",
   "metadata": {},
   "outputs": [],
   "source": [
    "df = pd.read_csv(\"coffee_sales.csv\", header=3)\n",
    "df.head()"
   ]
  },
  {
   "cell_type": "markdown",
   "id": "7892424c-964b-470a-a748-fa43337523b6",
   "metadata": {},
   "source": [
    "#### Handling null values"
   ]
  },
  {
   "cell_type": "code",
   "execution_count": null,
   "id": "e194edc6-8f94-4bab-bb48-320dda832c95",
   "metadata": {},
   "outputs": [],
   "source": [
    "df.dropna(axis = 1, how=\"all\", inplace=True)\n",
    "# df.dropna(how=\"all\")\n",
    "df.head()"
   ]
  },
  {
   "cell_type": "code",
   "execution_count": null,
   "id": "f90f605c-8245-4f98-8f4c-d79c7cad6c15",
   "metadata": {},
   "outputs": [],
   "source": [
    "df.isna().any()"
   ]
  },
  {
   "cell_type": "code",
   "execution_count": null,
   "id": "0ed2411f-8f08-4bc9-a788-860c3e350a52",
   "metadata": {},
   "outputs": [],
   "source": [
    "df.isna().sum()"
   ]
  },
  {
   "cell_type": "markdown",
   "id": "e0f6366d-526f-4b9b-afc6-176db6b4372a",
   "metadata": {},
   "source": [
    "#### Remove nulls"
   ]
  },
  {
   "cell_type": "code",
   "execution_count": null,
   "id": "132f740a-8d9c-4fdc-8a93-d240031dd6d7",
   "metadata": {},
   "outputs": [],
   "source": [
    "df.dropna()  # Removes all the rows where a column value is null"
   ]
  },
  {
   "cell_type": "markdown",
   "id": "fa63edf1-96da-4766-8418-d1c2aebeacf8",
   "metadata": {},
   "source": [
    "#### Replacing nulls"
   ]
  },
  {
   "cell_type": "code",
   "execution_count": null,
   "id": "d3066827-f9fe-4360-8169-7c49678b15e4",
   "metadata": {},
   "outputs": [],
   "source": [
    "df[\"Target Profit\"].fillna(\"0\", inplace=True)  # Older technique depricated in pandas 3.0 "
   ]
  },
  {
   "cell_type": "code",
   "execution_count": null,
   "id": "a8a896fb-f7f1-4524-8a22-6302c8e447c9",
   "metadata": {},
   "outputs": [],
   "source": [
    "df.fillna({\"Target Profit\" : \"0\"}, inplace=True)  # New technique (python 12.x onwards)\n",
    "df.head()"
   ]
  },
  {
   "cell_type": "code",
   "execution_count": null,
   "id": "888e147d-d1bc-4606-9e1c-00d5397c76db",
   "metadata": {},
   "outputs": [],
   "source": [
    "df.isna().any()"
   ]
  },
  {
   "cell_type": "code",
   "execution_count": 45,
   "id": "010fe1fb-7ca4-408d-95b8-58f91e3fafbc",
   "metadata": {},
   "outputs": [
    {
     "data": {
      "text/plain": [
       "Date             object\n",
       "Franchise        object\n",
       "City             object\n",
       "Product          object\n",
       "Sales            object\n",
       "Profit           object\n",
       "Target Profit    object\n",
       "Target Sales     object\n",
       "dtype: object"
      ]
     },
     "execution_count": 45,
     "metadata": {},
     "output_type": "execute_result"
    }
   ],
   "source": [
    "df.dtypes"
   ]
  },
  {
   "cell_type": "markdown",
   "id": "1913a8c2-86f4-4714-b1b2-00be3e15afdf",
   "metadata": {},
   "source": [
    "#### Cleaning and Preparing Data"
   ]
  },
  {
   "cell_type": "code",
   "execution_count": 47,
   "id": "dcc45421-73b8-4e54-8813-e763fc3ea0a1",
   "metadata": {},
   "outputs": [],
   "source": [
    "strg = \"($1,200)\"  # -1200"
   ]
  },
  {
   "cell_type": "code",
   "execution_count": 50,
   "id": "4cc24693-7f95-4345-9686-31bbdfd76eb9",
   "metadata": {},
   "outputs": [
    {
     "data": {
      "text/plain": [
       "-1200"
      ]
     },
     "execution_count": 50,
     "metadata": {},
     "output_type": "execute_result"
    }
   ],
   "source": [
    "trans_obj = str.maketrans(\"(\", \"-\", \"$,)\")\n",
    "int(strg.translate(trans_obj))"
   ]
  },
  {
   "cell_type": "code",
   "execution_count": 59,
   "id": "b71054a0-3411-40f5-8703-4b6886e433ac",
   "metadata": {},
   "outputs": [
    {
     "data": {
      "text/html": [
       "<div>\n",
       "<style scoped>\n",
       "    .dataframe tbody tr th:only-of-type {\n",
       "        vertical-align: middle;\n",
       "    }\n",
       "\n",
       "    .dataframe tbody tr th {\n",
       "        vertical-align: top;\n",
       "    }\n",
       "\n",
       "    .dataframe thead th {\n",
       "        text-align: right;\n",
       "    }\n",
       "</style>\n",
       "<table border=\"1\" class=\"dataframe\">\n",
       "  <thead>\n",
       "    <tr style=\"text-align: right;\">\n",
       "      <th></th>\n",
       "      <th>Date</th>\n",
       "      <th>Franchise</th>\n",
       "      <th>City</th>\n",
       "      <th>Product</th>\n",
       "      <th>Sales</th>\n",
       "      <th>Profit</th>\n",
       "      <th>Target Profit</th>\n",
       "      <th>Target Sales</th>\n",
       "    </tr>\n",
       "  </thead>\n",
       "  <tbody>\n",
       "    <tr>\n",
       "      <th>0</th>\n",
       "      <td>1-Jan-21</td>\n",
       "      <td>M1</td>\n",
       "      <td>Mumbai</td>\n",
       "      <td>Amaretto</td>\n",
       "      <td>219.0</td>\n",
       "      <td>94.0</td>\n",
       "      <td>100.0</td>\n",
       "      <td>220.0</td>\n",
       "    </tr>\n",
       "    <tr>\n",
       "      <th>1</th>\n",
       "      <td>1-Feb-21</td>\n",
       "      <td>M1</td>\n",
       "      <td>Mumbai</td>\n",
       "      <td>Amaretto</td>\n",
       "      <td>140.0</td>\n",
       "      <td>34.0</td>\n",
       "      <td>50.0</td>\n",
       "      <td>140.0</td>\n",
       "    </tr>\n",
       "    <tr>\n",
       "      <th>2</th>\n",
       "      <td>1-Mar-21</td>\n",
       "      <td>M1</td>\n",
       "      <td>Mumbai</td>\n",
       "      <td>Amaretto</td>\n",
       "      <td>145.0</td>\n",
       "      <td>-2.0</td>\n",
       "      <td>30.0</td>\n",
       "      <td>180.0</td>\n",
       "    </tr>\n",
       "    <tr>\n",
       "      <th>3</th>\n",
       "      <td>1-Apr-21</td>\n",
       "      <td>M1</td>\n",
       "      <td>Mumbai</td>\n",
       "      <td>Amaretto</td>\n",
       "      <td>45.0</td>\n",
       "      <td>11.0</td>\n",
       "      <td>20.0</td>\n",
       "      <td>40.0</td>\n",
       "    </tr>\n",
       "    <tr>\n",
       "      <th>4</th>\n",
       "      <td>1-May-21</td>\n",
       "      <td>M1</td>\n",
       "      <td>Mumbai</td>\n",
       "      <td>Amaretto</td>\n",
       "      <td>120.0</td>\n",
       "      <td>13.0</td>\n",
       "      <td>30.0</td>\n",
       "      <td>120.0</td>\n",
       "    </tr>\n",
       "  </tbody>\n",
       "</table>\n",
       "</div>"
      ],
      "text/plain": [
       "       Date Franchise    City   Product  Sales  Profit  Target Profit  \\\n",
       "0  1-Jan-21        M1  Mumbai  Amaretto  219.0    94.0          100.0   \n",
       "1  1-Feb-21        M1  Mumbai  Amaretto  140.0    34.0           50.0   \n",
       "2  1-Mar-21        M1  Mumbai  Amaretto  145.0    -2.0           30.0   \n",
       "3  1-Apr-21        M1  Mumbai  Amaretto   45.0    11.0           20.0   \n",
       "4  1-May-21        M1  Mumbai  Amaretto  120.0    13.0           30.0   \n",
       "\n",
       "   Target Sales  \n",
       "0         220.0  \n",
       "1         140.0  \n",
       "2         180.0  \n",
       "3          40.0  \n",
       "4         120.0  "
      ]
     },
     "execution_count": 59,
     "metadata": {},
     "output_type": "execute_result"
    }
   ],
   "source": [
    "trans_obj = str.maketrans(\"\", \"\", \"$,\")  # Note - use translate if more than 1 replace statements are needed\n",
    "df.Sales = df.Sales.str.translate(trans_obj).astype(float)\n",
    "df[\"Target Sales\"] = df[\"Target Sales\"].str.translate(trans_obj).astype(float)\n",
    "df.Profit = df.Profit.str.replace(\"$\", \"\").astype(float)\n",
    "df[\"Target Profit\"] = df[\"Target Profit\"].str.replace(\"$\", \"\").astype(float)\n",
    "df.head()"
   ]
  },
  {
   "cell_type": "code",
   "execution_count": 60,
   "id": "6b18edb2-c795-4ac2-86e3-70d03fd8bd4a",
   "metadata": {},
   "outputs": [
    {
     "data": {
      "text/plain": [
       "Date              object\n",
       "Franchise         object\n",
       "City              object\n",
       "Product           object\n",
       "Sales            float64\n",
       "Profit           float64\n",
       "Target Profit    float64\n",
       "Target Sales     float64\n",
       "dtype: object"
      ]
     },
     "execution_count": 60,
     "metadata": {},
     "output_type": "execute_result"
    }
   ],
   "source": [
    "df.dtypes"
   ]
  },
  {
   "cell_type": "markdown",
   "id": "28487602-6cfa-4d39-81f8-f85b38af6894",
   "metadata": {},
   "source": [
    "###### Ex. Find total avg sales (HINT - use mean() in Sales column)"
   ]
  },
  {
   "cell_type": "code",
   "execution_count": 64,
   "id": "6f5c2298-97b4-4732-8073-af07df9f1a51",
   "metadata": {},
   "outputs": [
    {
     "data": {
      "text/plain": [
       "192.99"
      ]
     },
     "execution_count": 64,
     "metadata": {},
     "output_type": "execute_result"
    }
   ],
   "source": [
    "float(np.round(df.Sales.mean(), 2))"
   ]
  },
  {
   "cell_type": "markdown",
   "id": "602d195a-3d7a-4dd8-835f-b454cd5d7c47",
   "metadata": {},
   "source": [
    "###### Ex. Find total profits generated by Product \"Amaretto\""
   ]
  },
  {
   "cell_type": "code",
   "execution_count": 67,
   "id": "c239a4cc-7460-4c03-a7cf-ed67b42b6736",
   "metadata": {},
   "outputs": [
    {
     "data": {
      "text/plain": [
       "np.float64(5915.0)"
      ]
     },
     "execution_count": 67,
     "metadata": {},
     "output_type": "execute_result"
    }
   ],
   "source": [
    "df[df.Product == \"Amaretto\"].Profit.sum()"
   ]
  },
  {
   "cell_type": "markdown",
   "id": "bde8bc75-1ef3-455f-b731-73d3b9176173",
   "metadata": {},
   "source": [
    "###### Ex. Find total profits generated by Product \"Amaretto\" and 'Caffe Latte'"
   ]
  },
  {
   "cell_type": "code",
   "execution_count": 71,
   "id": "5d3e66d5-d47d-4eb2-bf69-e25d87a641b9",
   "metadata": {},
   "outputs": [
    {
     "data": {
      "text/plain": [
       "np.float64(17290.0)"
      ]
     },
     "execution_count": 71,
     "metadata": {},
     "output_type": "execute_result"
    }
   ],
   "source": [
    "df[df.Product.isin((\"Amaretto\", 'Caffe Latte'))].Profit.sum()"
   ]
  },
  {
   "cell_type": "markdown",
   "id": "2b4cc7d7-5d93-4e9d-bb82-b3034d35f9df",
   "metadata": {},
   "source": [
    "###### Ex. Find total profits generated by Product \"Amaretto\" in City \"Mumbai\""
   ]
  },
  {
   "cell_type": "code",
   "execution_count": 73,
   "id": "54aad837-790a-4fbf-af2b-07374a1af62b",
   "metadata": {},
   "outputs": [
    {
     "data": {
      "text/plain": [
       "np.float64(5915.0)"
      ]
     },
     "execution_count": 73,
     "metadata": {},
     "output_type": "execute_result"
    }
   ],
   "source": [
    "df[(df.Product == \"Amaretto\") & (df.City == \"Mumbai\")].Profit.sum()"
   ]
  },
  {
   "cell_type": "code",
   "execution_count": 74,
   "id": "4c794620-cf66-498b-a366-75a3e7bcf993",
   "metadata": {},
   "outputs": [
    {
     "data": {
      "text/plain": [
       "np.float64(5915.0)"
      ]
     },
     "execution_count": 74,
     "metadata": {},
     "output_type": "execute_result"
    }
   ],
   "source": [
    "df[np.logical_and((df.Product == \"Amaretto\"),(df.City == \"Mumbai\"))].Profit.sum()"
   ]
  },
  {
   "cell_type": "markdown",
   "id": "bcafc8db-3f8a-49bc-bc7d-aaea1c8545c7",
   "metadata": {},
   "source": [
    "#### Converting date field"
   ]
  },
  {
   "cell_type": "code",
   "execution_count": 77,
   "id": "c33ec719-496c-4f88-825c-1dbecc39c7a7",
   "metadata": {},
   "outputs": [
    {
     "data": {
      "text/html": [
       "<div>\n",
       "<style scoped>\n",
       "    .dataframe tbody tr th:only-of-type {\n",
       "        vertical-align: middle;\n",
       "    }\n",
       "\n",
       "    .dataframe tbody tr th {\n",
       "        vertical-align: top;\n",
       "    }\n",
       "\n",
       "    .dataframe thead th {\n",
       "        text-align: right;\n",
       "    }\n",
       "</style>\n",
       "<table border=\"1\" class=\"dataframe\">\n",
       "  <thead>\n",
       "    <tr style=\"text-align: right;\">\n",
       "      <th></th>\n",
       "      <th>Date</th>\n",
       "      <th>Franchise</th>\n",
       "      <th>City</th>\n",
       "      <th>Product</th>\n",
       "      <th>Sales</th>\n",
       "      <th>Profit</th>\n",
       "      <th>Target Profit</th>\n",
       "      <th>Target Sales</th>\n",
       "    </tr>\n",
       "  </thead>\n",
       "  <tbody>\n",
       "    <tr>\n",
       "      <th>0</th>\n",
       "      <td>2021-01-01</td>\n",
       "      <td>M1</td>\n",
       "      <td>Mumbai</td>\n",
       "      <td>Amaretto</td>\n",
       "      <td>219.0</td>\n",
       "      <td>94.0</td>\n",
       "      <td>100.0</td>\n",
       "      <td>220.0</td>\n",
       "    </tr>\n",
       "    <tr>\n",
       "      <th>1</th>\n",
       "      <td>2021-02-01</td>\n",
       "      <td>M1</td>\n",
       "      <td>Mumbai</td>\n",
       "      <td>Amaretto</td>\n",
       "      <td>140.0</td>\n",
       "      <td>34.0</td>\n",
       "      <td>50.0</td>\n",
       "      <td>140.0</td>\n",
       "    </tr>\n",
       "    <tr>\n",
       "      <th>2</th>\n",
       "      <td>2021-03-01</td>\n",
       "      <td>M1</td>\n",
       "      <td>Mumbai</td>\n",
       "      <td>Amaretto</td>\n",
       "      <td>145.0</td>\n",
       "      <td>-2.0</td>\n",
       "      <td>30.0</td>\n",
       "      <td>180.0</td>\n",
       "    </tr>\n",
       "    <tr>\n",
       "      <th>3</th>\n",
       "      <td>2021-04-01</td>\n",
       "      <td>M1</td>\n",
       "      <td>Mumbai</td>\n",
       "      <td>Amaretto</td>\n",
       "      <td>45.0</td>\n",
       "      <td>11.0</td>\n",
       "      <td>20.0</td>\n",
       "      <td>40.0</td>\n",
       "    </tr>\n",
       "    <tr>\n",
       "      <th>4</th>\n",
       "      <td>2021-05-01</td>\n",
       "      <td>M1</td>\n",
       "      <td>Mumbai</td>\n",
       "      <td>Amaretto</td>\n",
       "      <td>120.0</td>\n",
       "      <td>13.0</td>\n",
       "      <td>30.0</td>\n",
       "      <td>120.0</td>\n",
       "    </tr>\n",
       "  </tbody>\n",
       "</table>\n",
       "</div>"
      ],
      "text/plain": [
       "        Date Franchise    City   Product  Sales  Profit  Target Profit  \\\n",
       "0 2021-01-01        M1  Mumbai  Amaretto  219.0    94.0          100.0   \n",
       "1 2021-02-01        M1  Mumbai  Amaretto  140.0    34.0           50.0   \n",
       "2 2021-03-01        M1  Mumbai  Amaretto  145.0    -2.0           30.0   \n",
       "3 2021-04-01        M1  Mumbai  Amaretto   45.0    11.0           20.0   \n",
       "4 2021-05-01        M1  Mumbai  Amaretto  120.0    13.0           30.0   \n",
       "\n",
       "   Target Sales  \n",
       "0         220.0  \n",
       "1         140.0  \n",
       "2         180.0  \n",
       "3          40.0  \n",
       "4         120.0  "
      ]
     },
     "execution_count": 77,
     "metadata": {},
     "output_type": "execute_result"
    }
   ],
   "source": [
    "df[\"Date\"] = pd.to_datetime(df[\"Date\"], format = \"mixed\")\n",
    "df.head()"
   ]
  },
  {
   "cell_type": "markdown",
   "id": "7246d376-0916-4de4-9038-7d674fd99ee2",
   "metadata": {},
   "source": [
    "###### Ex. Total Sales in Jan-2021"
   ]
  },
  {
   "cell_type": "code",
   "execution_count": 80,
   "id": "fe003a42-57eb-4d20-ac2c-c4aed2df1087",
   "metadata": {},
   "outputs": [
    {
     "data": {
      "text/plain": [
       "np.float64(10403.0)"
      ]
     },
     "execution_count": 80,
     "metadata": {},
     "output_type": "execute_result"
    }
   ],
   "source": [
    "df[df.Date == \"2021-01\"].Sales.sum()"
   ]
  },
  {
   "cell_type": "markdown",
   "id": "4d420e1b-d267-4272-8380-995fd98d3b86",
   "metadata": {},
   "source": [
    "###### Ex. Total Sales between Jan-2021 to April-2021"
   ]
  },
  {
   "cell_type": "code",
   "execution_count": 81,
   "id": "3ede74a0-43ee-4ff4-b8f3-8764fba9609b",
   "metadata": {},
   "outputs": [
    {
     "data": {
      "text/plain": [
       "np.float64(45273.0)"
      ]
     },
     "execution_count": 81,
     "metadata": {},
     "output_type": "execute_result"
    }
   ],
   "source": [
    "df[df.Date.between(\"2021-01\", \"2021-04\")].Sales.sum()"
   ]
  },
  {
   "cell_type": "markdown",
   "id": "27cf22a4-6bd4-4213-9006-ef53fe60b77a",
   "metadata": {},
   "source": [
    "#### Creating new columns"
   ]
  },
  {
   "cell_type": "markdown",
   "id": "daa540e2-f986-4874-93bd-6bc973d19a88",
   "metadata": {},
   "source": [
    "###### Ex. Create column for Target Status"
   ]
  },
  {
   "cell_type": "code",
   "execution_count": 84,
   "id": "3e0e3703-2f9a-4230-a3fa-e531bf42641e",
   "metadata": {},
   "outputs": [
    {
     "data": {
      "text/html": [
       "<div>\n",
       "<style scoped>\n",
       "    .dataframe tbody tr th:only-of-type {\n",
       "        vertical-align: middle;\n",
       "    }\n",
       "\n",
       "    .dataframe tbody tr th {\n",
       "        vertical-align: top;\n",
       "    }\n",
       "\n",
       "    .dataframe thead th {\n",
       "        text-align: right;\n",
       "    }\n",
       "</style>\n",
       "<table border=\"1\" class=\"dataframe\">\n",
       "  <thead>\n",
       "    <tr style=\"text-align: right;\">\n",
       "      <th></th>\n",
       "      <th>Date</th>\n",
       "      <th>Franchise</th>\n",
       "      <th>City</th>\n",
       "      <th>Product</th>\n",
       "      <th>Sales</th>\n",
       "      <th>Profit</th>\n",
       "      <th>Target Profit</th>\n",
       "      <th>Target Sales</th>\n",
       "      <th>Sales Target Status</th>\n",
       "      <th>Profit Target Status</th>\n",
       "    </tr>\n",
       "  </thead>\n",
       "  <tbody>\n",
       "    <tr>\n",
       "      <th>0</th>\n",
       "      <td>2021-01-01</td>\n",
       "      <td>M1</td>\n",
       "      <td>Mumbai</td>\n",
       "      <td>Amaretto</td>\n",
       "      <td>219.0</td>\n",
       "      <td>94.0</td>\n",
       "      <td>100.0</td>\n",
       "      <td>220.0</td>\n",
       "      <td>Not-Achieved</td>\n",
       "      <td>Not-Achieved</td>\n",
       "    </tr>\n",
       "    <tr>\n",
       "      <th>1</th>\n",
       "      <td>2021-02-01</td>\n",
       "      <td>M1</td>\n",
       "      <td>Mumbai</td>\n",
       "      <td>Amaretto</td>\n",
       "      <td>140.0</td>\n",
       "      <td>34.0</td>\n",
       "      <td>50.0</td>\n",
       "      <td>140.0</td>\n",
       "      <td>Achieved</td>\n",
       "      <td>Not-Achieved</td>\n",
       "    </tr>\n",
       "    <tr>\n",
       "      <th>2</th>\n",
       "      <td>2021-03-01</td>\n",
       "      <td>M1</td>\n",
       "      <td>Mumbai</td>\n",
       "      <td>Amaretto</td>\n",
       "      <td>145.0</td>\n",
       "      <td>-2.0</td>\n",
       "      <td>30.0</td>\n",
       "      <td>180.0</td>\n",
       "      <td>Not-Achieved</td>\n",
       "      <td>Not-Achieved</td>\n",
       "    </tr>\n",
       "    <tr>\n",
       "      <th>3</th>\n",
       "      <td>2021-04-01</td>\n",
       "      <td>M1</td>\n",
       "      <td>Mumbai</td>\n",
       "      <td>Amaretto</td>\n",
       "      <td>45.0</td>\n",
       "      <td>11.0</td>\n",
       "      <td>20.0</td>\n",
       "      <td>40.0</td>\n",
       "      <td>Achieved</td>\n",
       "      <td>Not-Achieved</td>\n",
       "    </tr>\n",
       "    <tr>\n",
       "      <th>4</th>\n",
       "      <td>2021-05-01</td>\n",
       "      <td>M1</td>\n",
       "      <td>Mumbai</td>\n",
       "      <td>Amaretto</td>\n",
       "      <td>120.0</td>\n",
       "      <td>13.0</td>\n",
       "      <td>30.0</td>\n",
       "      <td>120.0</td>\n",
       "      <td>Achieved</td>\n",
       "      <td>Not-Achieved</td>\n",
       "    </tr>\n",
       "  </tbody>\n",
       "</table>\n",
       "</div>"
      ],
      "text/plain": [
       "        Date Franchise    City   Product  Sales  Profit  Target Profit  \\\n",
       "0 2021-01-01        M1  Mumbai  Amaretto  219.0    94.0          100.0   \n",
       "1 2021-02-01        M1  Mumbai  Amaretto  140.0    34.0           50.0   \n",
       "2 2021-03-01        M1  Mumbai  Amaretto  145.0    -2.0           30.0   \n",
       "3 2021-04-01        M1  Mumbai  Amaretto   45.0    11.0           20.0   \n",
       "4 2021-05-01        M1  Mumbai  Amaretto  120.0    13.0           30.0   \n",
       "\n",
       "   Target Sales Sales Target Status Profit Target Status  \n",
       "0         220.0        Not-Achieved         Not-Achieved  \n",
       "1         140.0            Achieved         Not-Achieved  \n",
       "2         180.0        Not-Achieved         Not-Achieved  \n",
       "3          40.0            Achieved         Not-Achieved  \n",
       "4         120.0            Achieved         Not-Achieved  "
      ]
     },
     "execution_count": 84,
     "metadata": {},
     "output_type": "execute_result"
    }
   ],
   "source": [
    "df[\"Sales Target Status\"] = np.where(df.Sales >= df[\"Target Sales\"], \"Achieved\", \"Not-Achieved\")\n",
    "df[\"Profit Target Status\"] = np.where(df.Profit >= df[\"Target Profit\"], \"Achieved\", \"Not-Achieved\")\n",
    "df.head()"
   ]
  },
  {
   "cell_type": "markdown",
   "id": "719629b7-3123-4a91-9470-0f9ddac8988c",
   "metadata": {},
   "source": [
    "###### Ex. Create columns Year and Month and place them next to Date"
   ]
  },
  {
   "cell_type": "code",
   "execution_count": null,
   "id": "59df9d5c-e868-49a1-b00d-7181cbac24db",
   "metadata": {},
   "outputs": [],
   "source": [
    "df.insert(1, \"Year\", df.Date.dt.year)"
   ]
  },
  {
   "cell_type": "code",
   "execution_count": 86,
   "id": "8e790b30-2b85-4105-ab27-169925dbe9c3",
   "metadata": {},
   "outputs": [],
   "source": [
    "df.insert(2, \"Month\", df.Date.dt.month_name())"
   ]
  },
  {
   "cell_type": "code",
   "execution_count": 87,
   "id": "75a4fea5-ac87-432c-b13d-157e79723aac",
   "metadata": {},
   "outputs": [
    {
     "data": {
      "text/html": [
       "<div>\n",
       "<style scoped>\n",
       "    .dataframe tbody tr th:only-of-type {\n",
       "        vertical-align: middle;\n",
       "    }\n",
       "\n",
       "    .dataframe tbody tr th {\n",
       "        vertical-align: top;\n",
       "    }\n",
       "\n",
       "    .dataframe thead th {\n",
       "        text-align: right;\n",
       "    }\n",
       "</style>\n",
       "<table border=\"1\" class=\"dataframe\">\n",
       "  <thead>\n",
       "    <tr style=\"text-align: right;\">\n",
       "      <th></th>\n",
       "      <th>Date</th>\n",
       "      <th>Year</th>\n",
       "      <th>Month</th>\n",
       "      <th>Franchise</th>\n",
       "      <th>City</th>\n",
       "      <th>Product</th>\n",
       "      <th>Sales</th>\n",
       "      <th>Profit</th>\n",
       "      <th>Target Profit</th>\n",
       "      <th>Target Sales</th>\n",
       "      <th>Sales Target Status</th>\n",
       "      <th>Profit Target Status</th>\n",
       "    </tr>\n",
       "  </thead>\n",
       "  <tbody>\n",
       "    <tr>\n",
       "      <th>0</th>\n",
       "      <td>2021-01-01</td>\n",
       "      <td>2021</td>\n",
       "      <td>January</td>\n",
       "      <td>M1</td>\n",
       "      <td>Mumbai</td>\n",
       "      <td>Amaretto</td>\n",
       "      <td>219.0</td>\n",
       "      <td>94.0</td>\n",
       "      <td>100.0</td>\n",
       "      <td>220.0</td>\n",
       "      <td>Not-Achieved</td>\n",
       "      <td>Not-Achieved</td>\n",
       "    </tr>\n",
       "    <tr>\n",
       "      <th>1</th>\n",
       "      <td>2021-02-01</td>\n",
       "      <td>2021</td>\n",
       "      <td>February</td>\n",
       "      <td>M1</td>\n",
       "      <td>Mumbai</td>\n",
       "      <td>Amaretto</td>\n",
       "      <td>140.0</td>\n",
       "      <td>34.0</td>\n",
       "      <td>50.0</td>\n",
       "      <td>140.0</td>\n",
       "      <td>Achieved</td>\n",
       "      <td>Not-Achieved</td>\n",
       "    </tr>\n",
       "    <tr>\n",
       "      <th>2</th>\n",
       "      <td>2021-03-01</td>\n",
       "      <td>2021</td>\n",
       "      <td>March</td>\n",
       "      <td>M1</td>\n",
       "      <td>Mumbai</td>\n",
       "      <td>Amaretto</td>\n",
       "      <td>145.0</td>\n",
       "      <td>-2.0</td>\n",
       "      <td>30.0</td>\n",
       "      <td>180.0</td>\n",
       "      <td>Not-Achieved</td>\n",
       "      <td>Not-Achieved</td>\n",
       "    </tr>\n",
       "    <tr>\n",
       "      <th>3</th>\n",
       "      <td>2021-04-01</td>\n",
       "      <td>2021</td>\n",
       "      <td>April</td>\n",
       "      <td>M1</td>\n",
       "      <td>Mumbai</td>\n",
       "      <td>Amaretto</td>\n",
       "      <td>45.0</td>\n",
       "      <td>11.0</td>\n",
       "      <td>20.0</td>\n",
       "      <td>40.0</td>\n",
       "      <td>Achieved</td>\n",
       "      <td>Not-Achieved</td>\n",
       "    </tr>\n",
       "    <tr>\n",
       "      <th>4</th>\n",
       "      <td>2021-05-01</td>\n",
       "      <td>2021</td>\n",
       "      <td>May</td>\n",
       "      <td>M1</td>\n",
       "      <td>Mumbai</td>\n",
       "      <td>Amaretto</td>\n",
       "      <td>120.0</td>\n",
       "      <td>13.0</td>\n",
       "      <td>30.0</td>\n",
       "      <td>120.0</td>\n",
       "      <td>Achieved</td>\n",
       "      <td>Not-Achieved</td>\n",
       "    </tr>\n",
       "  </tbody>\n",
       "</table>\n",
       "</div>"
      ],
      "text/plain": [
       "        Date  Year     Month Franchise    City   Product  Sales  Profit  \\\n",
       "0 2021-01-01  2021   January        M1  Mumbai  Amaretto  219.0    94.0   \n",
       "1 2021-02-01  2021  February        M1  Mumbai  Amaretto  140.0    34.0   \n",
       "2 2021-03-01  2021     March        M1  Mumbai  Amaretto  145.0    -2.0   \n",
       "3 2021-04-01  2021     April        M1  Mumbai  Amaretto   45.0    11.0   \n",
       "4 2021-05-01  2021       May        M1  Mumbai  Amaretto  120.0    13.0   \n",
       "\n",
       "   Target Profit  Target Sales Sales Target Status Profit Target Status  \n",
       "0          100.0         220.0        Not-Achieved         Not-Achieved  \n",
       "1           50.0         140.0            Achieved         Not-Achieved  \n",
       "2           30.0         180.0        Not-Achieved         Not-Achieved  \n",
       "3           20.0          40.0            Achieved         Not-Achieved  \n",
       "4           30.0         120.0            Achieved         Not-Achieved  "
      ]
     },
     "execution_count": 87,
     "metadata": {},
     "output_type": "execute_result"
    }
   ],
   "source": [
    "df.head()"
   ]
  },
  {
   "cell_type": "markdown",
   "id": "8344d483-0c6c-4781-a6e3-1557ff42394d",
   "metadata": {},
   "source": [
    "### Final Code ------------------------------------------------------------"
   ]
  },
  {
   "cell_type": "code",
   "execution_count": 90,
   "id": "ee1a683b-ce4a-431f-ace8-15a2144f550e",
   "metadata": {},
   "outputs": [
    {
     "data": {
      "text/html": [
       "<div>\n",
       "<style scoped>\n",
       "    .dataframe tbody tr th:only-of-type {\n",
       "        vertical-align: middle;\n",
       "    }\n",
       "\n",
       "    .dataframe tbody tr th {\n",
       "        vertical-align: top;\n",
       "    }\n",
       "\n",
       "    .dataframe thead th {\n",
       "        text-align: right;\n",
       "    }\n",
       "</style>\n",
       "<table border=\"1\" class=\"dataframe\">\n",
       "  <thead>\n",
       "    <tr style=\"text-align: right;\">\n",
       "      <th></th>\n",
       "      <th>Date</th>\n",
       "      <th>Year</th>\n",
       "      <th>Month</th>\n",
       "      <th>Franchise</th>\n",
       "      <th>City</th>\n",
       "      <th>Product</th>\n",
       "      <th>Sales</th>\n",
       "      <th>Profit</th>\n",
       "      <th>Target Profit</th>\n",
       "      <th>Target Sales</th>\n",
       "      <th>Sales Target Status</th>\n",
       "      <th>Profit Target Status</th>\n",
       "    </tr>\n",
       "  </thead>\n",
       "  <tbody>\n",
       "    <tr>\n",
       "      <th>0</th>\n",
       "      <td>2021-01-01</td>\n",
       "      <td>2021</td>\n",
       "      <td>January</td>\n",
       "      <td>M1</td>\n",
       "      <td>Mumbai</td>\n",
       "      <td>Amaretto</td>\n",
       "      <td>219.0</td>\n",
       "      <td>94.0</td>\n",
       "      <td>100.0</td>\n",
       "      <td>220.0</td>\n",
       "      <td>Not-Achieved</td>\n",
       "      <td>Not-Achieved</td>\n",
       "    </tr>\n",
       "    <tr>\n",
       "      <th>1</th>\n",
       "      <td>2021-02-01</td>\n",
       "      <td>2021</td>\n",
       "      <td>February</td>\n",
       "      <td>M1</td>\n",
       "      <td>Mumbai</td>\n",
       "      <td>Amaretto</td>\n",
       "      <td>140.0</td>\n",
       "      <td>34.0</td>\n",
       "      <td>50.0</td>\n",
       "      <td>140.0</td>\n",
       "      <td>Achieved</td>\n",
       "      <td>Not-Achieved</td>\n",
       "    </tr>\n",
       "    <tr>\n",
       "      <th>2</th>\n",
       "      <td>2021-03-01</td>\n",
       "      <td>2021</td>\n",
       "      <td>March</td>\n",
       "      <td>M1</td>\n",
       "      <td>Mumbai</td>\n",
       "      <td>Amaretto</td>\n",
       "      <td>145.0</td>\n",
       "      <td>-2.0</td>\n",
       "      <td>30.0</td>\n",
       "      <td>180.0</td>\n",
       "      <td>Not-Achieved</td>\n",
       "      <td>Not-Achieved</td>\n",
       "    </tr>\n",
       "    <tr>\n",
       "      <th>3</th>\n",
       "      <td>2021-04-01</td>\n",
       "      <td>2021</td>\n",
       "      <td>April</td>\n",
       "      <td>M1</td>\n",
       "      <td>Mumbai</td>\n",
       "      <td>Amaretto</td>\n",
       "      <td>45.0</td>\n",
       "      <td>11.0</td>\n",
       "      <td>20.0</td>\n",
       "      <td>40.0</td>\n",
       "      <td>Achieved</td>\n",
       "      <td>Not-Achieved</td>\n",
       "    </tr>\n",
       "    <tr>\n",
       "      <th>4</th>\n",
       "      <td>2021-05-01</td>\n",
       "      <td>2021</td>\n",
       "      <td>May</td>\n",
       "      <td>M1</td>\n",
       "      <td>Mumbai</td>\n",
       "      <td>Amaretto</td>\n",
       "      <td>120.0</td>\n",
       "      <td>13.0</td>\n",
       "      <td>30.0</td>\n",
       "      <td>120.0</td>\n",
       "      <td>Achieved</td>\n",
       "      <td>Not-Achieved</td>\n",
       "    </tr>\n",
       "  </tbody>\n",
       "</table>\n",
       "</div>"
      ],
      "text/plain": [
       "        Date  Year     Month Franchise    City   Product  Sales  Profit  \\\n",
       "0 2021-01-01  2021   January        M1  Mumbai  Amaretto  219.0    94.0   \n",
       "1 2021-02-01  2021  February        M1  Mumbai  Amaretto  140.0    34.0   \n",
       "2 2021-03-01  2021     March        M1  Mumbai  Amaretto  145.0    -2.0   \n",
       "3 2021-04-01  2021     April        M1  Mumbai  Amaretto   45.0    11.0   \n",
       "4 2021-05-01  2021       May        M1  Mumbai  Amaretto  120.0    13.0   \n",
       "\n",
       "   Target Profit  Target Sales Sales Target Status Profit Target Status  \n",
       "0          100.0         220.0        Not-Achieved         Not-Achieved  \n",
       "1           50.0         140.0            Achieved         Not-Achieved  \n",
       "2           30.0         180.0        Not-Achieved         Not-Achieved  \n",
       "3           20.0          40.0            Achieved         Not-Achieved  \n",
       "4           30.0         120.0            Achieved         Not-Achieved  "
      ]
     },
     "execution_count": 90,
     "metadata": {},
     "output_type": "execute_result"
    }
   ],
   "source": [
    "import numpy as np\n",
    "import pandas as pd\n",
    "import matplotlib.pyplot as plt\n",
    "import seaborn as sns\n",
    "\n",
    "df = pd.read_csv(\"coffee_sales.csv\", header=3)\n",
    "\n",
    "df.dropna(axis = 1, how=\"all\", inplace=True)\n",
    "df.fillna({\"Target Profit\" : \"0\"}, inplace=True) \n",
    "\n",
    "trans_obj = str.maketrans(\"\", \"\", \"$,\")  # Note - use translate if more than 1 replace statements are needed\n",
    "df.Sales = df.Sales.str.translate(trans_obj).astype(float)\n",
    "df[\"Target Sales\"] = df[\"Target Sales\"].str.translate(trans_obj).astype(float)\n",
    "df.Profit = df.Profit.str.replace(\"$\", \"\").astype(float)\n",
    "df[\"Target Profit\"] = df[\"Target Profit\"].str.replace(\"$\", \"\").astype(float)\n",
    "\n",
    "df[\"Sales Target Status\"] = np.where(df.Sales >= df[\"Target Sales\"], \"Achieved\", \"Not-Achieved\")\n",
    "df[\"Profit Target Status\"] = np.where(df.Profit >= df[\"Target Profit\"], \"Achieved\", \"Not-Achieved\")\n",
    "\n",
    "df[\"Date\"] = pd.to_datetime(df[\"Date\"], format = \"mixed\")\n",
    "df.insert(1, \"Year\", df.Date.dt.year)\n",
    "df.insert(2, \"Month\", df.Date.dt.month_name())\n",
    "\n",
    "df.head()"
   ]
  }
 ],
 "metadata": {
  "kernelspec": {
   "display_name": "Python 3 (ipykernel)",
   "language": "python",
   "name": "python3"
  },
  "language_info": {
   "codemirror_mode": {
    "name": "ipython",
    "version": 3
   },
   "file_extension": ".py",
   "mimetype": "text/x-python",
   "name": "python",
   "nbconvert_exporter": "python",
   "pygments_lexer": "ipython3",
   "version": "3.12.4"
  }
 },
 "nbformat": 4,
 "nbformat_minor": 5
}
