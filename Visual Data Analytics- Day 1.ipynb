{
 "cells": [
  {
   "cell_type": "markdown",
   "id": "a9022bd5-9018-467e-962f-2f40de5c0258",
   "metadata": {},
   "source": [
    "# Data Analytics and Visualization with Python\n",
    "\n",
    "### Learning Objective - \n",
    "\n",
    "- Introduction to Analytics using Python\n",
    "    - Python Basics for Analytics (Revision)\n",
    "    - numpy and pandas library\n",
    "    - Reading data from various sources (excel, csv, database, json)\n",
    "    - Cleaning and Preparing Data\n",
    "- Descriptive Statistics\n",
    "- Visualizing Data\n",
    "    - Introduction to matplotlib library\n",
    "    - Anatomy of a figure\n",
    "    - Creating sub-plots\n",
    "    - Chart aesthetics\n",
    "- Visual Data Analytics\n",
    "    - Univariate Analysis\n",
    "        - count plots\n",
    "        - histograms and boxplot\n",
    "    - Bivariate Analysis\n",
    "        - scatter plot\n",
    "        - bar plot\n",
    "        - line charts\n",
    "        - pair plots, heatmaps"
   ]
  },
  {
   "cell_type": "markdown",
   "id": "04b7a805-d27a-4f18-98e0-39e8514305a2",
   "metadata": {},
   "source": [
    "## Python Basics for Analytics "
   ]
  },
  {
   "cell_type": "markdown",
   "id": "997d95c5-2495-4299-a3f3-818d87e8c2a2",
   "metadata": {},
   "source": [
    "#### Built-in data structure - \n",
    "- list  - [], mutable, mixed data, indexed\n",
    "- tuples - (), immutable, mixed data, indexed\n",
    "- set  - {}, mutable, no duplicates, unordered, mixed data but only immutable objects\n",
    "- dict - {}, mutable, key:value, key - no duplicates, immutable object; Value - any type\n",
    "\n",
    "#### Python Functions\n",
    "\n",
    "- sorted(), zip(), enumerate(), lambda functions"
   ]
  },
  {
   "cell_type": "markdown",
   "id": "c47e57be-0e9f-4e5f-af1c-5de5c94e7972",
   "metadata": {},
   "source": [
    "###### Ex. WAP to print sum of numbers 1 - 10"
   ]
  },
  {
   "cell_type": "code",
   "execution_count": null,
   "id": "92a932a1-f0ac-4b45-9359-a6080270b0ec",
   "metadata": {},
   "outputs": [],
   "source": [
    "sum(range(1, 11))"
   ]
  },
  {
   "cell_type": "code",
   "execution_count": null,
   "id": "94b643eb-144e-4894-9786-4baa4b6fec74",
   "metadata": {},
   "outputs": [],
   "source": [
    "import math\n",
    "math.prod(range(1, 11))"
   ]
  },
  {
   "cell_type": "markdown",
   "id": "8d44185a-f665-4282-827b-89a5c05f2fec",
   "metadata": {},
   "source": [
    "###### Ex. WAP to sort the given list in DESC order"
   ]
  },
  {
   "cell_type": "code",
   "execution_count": null,
   "id": "dd3c84db-817f-4c81-9d72-b6c0ef7a8243",
   "metadata": {},
   "outputs": [],
   "source": [
    "numbers = [1, 3, 4, 2, 5]\n",
    "numbers.sort(reverse=True)\n",
    "numbers"
   ]
  },
  {
   "cell_type": "code",
   "execution_count": null,
   "id": "51af8200-c1cc-490d-90d5-79c580af81c9",
   "metadata": {},
   "outputs": [],
   "source": [
    "numbers = (1, 3, 4, 2, 5)\n",
    "sorted(numbers,reverse=True)  # sorted - sorts any sequence and retuns a list object"
   ]
  },
  {
   "cell_type": "markdown",
   "id": "8468e69a-ee13-44f4-b7bd-a83b446072e6",
   "metadata": {},
   "source": [
    "###### Ex. WAP to replace all vowels in a string with \"*\""
   ]
  },
  {
   "cell_type": "code",
   "execution_count": null,
   "id": "30bb77cc-a130-48a7-9c16-912ced9a7be7",
   "metadata": {},
   "outputs": [],
   "source": [
    "word = input(\"Enter a word - \")\n",
    "for ch in \"aeiouAEIOU\" :\n",
    "    word = word.replace(ch, \"*\")\n",
    "word"
   ]
  },
  {
   "cell_type": "code",
   "execution_count": null,
   "id": "b4c225bf-b6ac-4bea-b76d-506470b34ae6",
   "metadata": {},
   "outputs": [],
   "source": [
    "word = input(\"Enter a word - \")\n",
    "trans_obj = str.maketrans(\"aeiou\", \"@3!0_\")\n",
    "word.translate(trans_obj)"
   ]
  },
  {
   "cell_type": "code",
   "execution_count": null,
   "id": "397e81ae-c403-4207-9282-717b3d189390",
   "metadata": {},
   "outputs": [],
   "source": [
    "print(\"-\"*50)"
   ]
  },
  {
   "cell_type": "markdown",
   "id": "33f8512e-afd6-488f-a0c6-4e2fbc8b2c55",
   "metadata": {},
   "source": [
    "###### Ex. WAP to swap first and last character of a word"
   ]
  },
  {
   "cell_type": "code",
   "execution_count": null,
   "id": "e457610b-d423-402f-a967-e19234246617",
   "metadata": {},
   "outputs": [],
   "source": [
    "word = input(\"Enter a word - \") # i/p - \"mumbai\"  o/p - \"iumbam\"\n",
    "word[-1] + word[1 : -1] + word[0]"
   ]
  },
  {
   "cell_type": "markdown",
   "id": "e86eac82-ddc1-47f4-ad77-c84530d3d868",
   "metadata": {},
   "source": [
    "#### Ex. Calculate Gross Pay\n",
    "- Take hours worked and rate per hour as input from the user.\n",
    "- If the hours worked are 40 or less, apply the given rate.\n",
    "- If the hours worked exceed 40, apply the given rate for the first 40 hours and 1.5 times the rate for the additional hours as overtime pay."
   ]
  },
  {
   "cell_type": "code",
   "execution_count": null,
   "id": "62ffd34c-0756-40e2-a423-77817e350e6a",
   "metadata": {},
   "outputs": [],
   "source": [
    "hours = int(input(\"Enter number of hours - \"))\n",
    "rate = int(input(\"Enter rate per hour - \"))\n",
    "\n",
    "if hours <= 40 :\n",
    "    gross_pay = hours * rate\n",
    "else:\n",
    "    gross_pay = (40 * rate) + (hours - 40) * 1.5 * rate\n",
    "gross_pay"
   ]
  },
  {
   "cell_type": "markdown",
   "id": "49780420-e4d3-44c7-8d9e-e8a46047c93e",
   "metadata": {},
   "source": [
    "###### Ex. WAP to generate a list of squares of number in range of 1-10"
   ]
  },
  {
   "cell_type": "code",
   "execution_count": null,
   "id": "db8d9cdf-0251-40ed-92be-470c28b5257c",
   "metadata": {},
   "outputs": [],
   "source": [
    "[i**2 for i in range(1, 11)]"
   ]
  },
  {
   "cell_type": "markdown",
   "id": "b9764c15-cd4e-497d-a3ab-e36432d6bb1c",
   "metadata": {},
   "source": [
    "###### Ex. WAP to generate a list of squares of numbers divisible by 3 in range of 1-20"
   ]
  },
  {
   "cell_type": "code",
   "execution_count": null,
   "id": "703822d6-b03b-4317-a0e1-9fdb68372056",
   "metadata": {},
   "outputs": [],
   "source": [
    "[i**2 for i in range(1, 21) if i % 3 == 0]"
   ]
  },
  {
   "cell_type": "markdown",
   "id": "7cc709af-ab3f-472d-98d8-f00a1de4b1a1",
   "metadata": {},
   "source": [
    "###### Ex. WAP to create dict of numbers in range 1-10 as keys and their squares as values"
   ]
  },
  {
   "cell_type": "code",
   "execution_count": null,
   "id": "6beede65-9c88-4994-9cf1-f4a98fed0c7a",
   "metadata": {},
   "outputs": [],
   "source": [
    "{i : i**2 for i in range(1, 11)}"
   ]
  },
  {
   "cell_type": "markdown",
   "id": "728ec9e1-bdbb-4dc6-9bf3-b031cfe79e69",
   "metadata": {},
   "source": [
    "###### Ex. WAP to create a dict of numbers divisible by 3 in range 1-20 as keys and their type(even or odd) as values"
   ]
  },
  {
   "cell_type": "code",
   "execution_count": null,
   "id": "dbbc36e1-d1eb-4f73-a37e-62a7e8dc85aa",
   "metadata": {},
   "outputs": [],
   "source": [
    "{i : \"even\" if i % 2 == 0 else \"odd\" for i in range(1, 21) if i % 3 == 0}"
   ]
  },
  {
   "cell_type": "markdown",
   "id": "9dfca228-6cc5-43dd-b113-a900e4245899",
   "metadata": {},
   "source": [
    "`Comprehensions` are an elegant way to define and create mutable data structures like lists, sets, dictionary based on existing sequences\n",
    "Syntax – \n",
    "\n",
    "`[<expression> for <var> in <sequence> if <condition>]`\n",
    "\n",
    "1. Identify the sequence\n",
    "2. Identify condition if any\n",
    "3. Expression\n",
    "4. Mutable datastructure"
   ]
  },
  {
   "cell_type": "markdown",
   "id": "1a552f5c-19b3-4a98-89dd-f52d80c99a5e",
   "metadata": {},
   "source": [
    "###### Ex. WAP to add 7% service tax to all the values in the \"sales\" list"
   ]
  },
  {
   "cell_type": "code",
   "execution_count": null,
   "id": "39a5de65-bd7a-47fc-a1a2-b705813ba2ea",
   "metadata": {},
   "outputs": [],
   "source": [
    "sales = [290, 500, 800, 650]\n",
    "[i * 1.07 for i in sales]"
   ]
  },
  {
   "cell_type": "markdown",
   "id": "eed89095-beba-475c-8fc7-8aaeb5c08b31",
   "metadata": {},
   "source": [
    "###### Ex. WAP to sum all the values in the \"sales\" tuple"
   ]
  },
  {
   "cell_type": "code",
   "execution_count": null,
   "id": "f5e13820-e3b0-4b36-9685-f4c6b01adcfd",
   "metadata": {},
   "outputs": [],
   "source": [
    "sales = (\"$290\", \"$500\", \"$800\", \"$650\")\n",
    "sum([int(i.replace(\"$\", \"\")) for i in sales])"
   ]
  },
  {
   "cell_type": "code",
   "execution_count": null,
   "id": "76a6a5b9-81c5-48fc-8c9f-8bce610cd12a",
   "metadata": {},
   "outputs": [],
   "source": [
    "sales = (\"$290\", \"$500\", \"$800\", \"$650\")\n",
    "sum([int(i.strip(\"$\")) for i in sales])"
   ]
  },
  {
   "cell_type": "code",
   "execution_count": null,
   "id": "b59513a7-e46f-470e-b2fe-1aa8d86b83b7",
   "metadata": {},
   "outputs": [],
   "source": [
    "profits = (\"-$290\", \"$500\", \"$800\", \"-$650\")\n",
    "sum([int(i.replace(\"$\", \"\")) for i in profits])"
   ]
  },
  {
   "cell_type": "markdown",
   "id": "52f9a792-83af-4148-9b6b-c1045fd63423",
   "metadata": {},
   "source": [
    "## Functions in Python"
   ]
  },
  {
   "cell_type": "markdown",
   "id": "36485ff4-2b19-419c-a496-055dc35882cd",
   "metadata": {},
   "source": [
    "#### function definition"
   ]
  },
  {
   "cell_type": "code",
   "execution_count": null,
   "id": "414d6552-f6ba-4352-91c3-395409e376be",
   "metadata": {},
   "outputs": [],
   "source": [
    "def factorial(num) :\n",
    "    if type(num) == int :\n",
    "        fact = 1\n",
    "        for i in range(num, 1, -1):\n",
    "            fact *= i\n",
    "        return fact\n",
    "    else:\n",
    "        return \"Invalid\""
   ]
  },
  {
   "cell_type": "markdown",
   "id": "6b14d034-eb09-46ce-be88-6441a2b458d0",
   "metadata": {},
   "source": [
    "#### function call"
   ]
  },
  {
   "cell_type": "code",
   "execution_count": null,
   "id": "11e763b7-d697-4bc9-8198-3a12c8ecd768",
   "metadata": {},
   "outputs": [],
   "source": [
    "factorial(5)"
   ]
  },
  {
   "cell_type": "code",
   "execution_count": null,
   "id": "3385e3fa-8567-48e9-8f94-2b6fd4f456eb",
   "metadata": {},
   "outputs": [],
   "source": [
    "factorial(\"abcd\")"
   ]
  },
  {
   "cell_type": "code",
   "execution_count": null,
   "id": "48fb60b5-0ca3-4608-96bb-3d6ea41b7baf",
   "metadata": {},
   "outputs": [],
   "source": [
    "def multiply_by_10(num) :\n",
    "    return num * 10\n",
    "\n",
    "print(multiply_by_10(5))\n",
    "print(multiply_by_10(\"5\"))"
   ]
  },
  {
   "cell_type": "markdown",
   "id": "4786dea3-8115-43ee-9eb5-d4029c464f69",
   "metadata": {},
   "source": [
    "##### Note - Unpacking of tuples"
   ]
  },
  {
   "cell_type": "code",
   "execution_count": null,
   "id": "88803223-9b52-4328-9232-58625ebbbf06",
   "metadata": {},
   "outputs": [],
   "source": [
    "tup = 1, 2, 3  # packing of tuples\n",
    "tup"
   ]
  },
  {
   "cell_type": "code",
   "execution_count": null,
   "id": "74f5adaf-3414-4d0a-bbad-a8d33e31579d",
   "metadata": {},
   "outputs": [],
   "source": [
    "a, b, c = tup  # unpacking of tuples\n",
    "print(a, b, c)"
   ]
  },
  {
   "cell_type": "markdown",
   "id": "0e021dc6-5f4e-42ad-a88c-bf9e20ca9f8c",
   "metadata": {},
   "source": [
    "Defining multiple variables in a single line"
   ]
  },
  {
   "cell_type": "code",
   "execution_count": null,
   "id": "4ad3eb49-cece-4eaa-badb-a3ce61df04ca",
   "metadata": {},
   "outputs": [],
   "source": [
    "name, age = \"Jane\", 30\n",
    "name"
   ]
  },
  {
   "cell_type": "markdown",
   "id": "dbb8d433-3ade-4e6e-80e2-15ed487b8195",
   "metadata": {},
   "source": [
    "Function returning multiple values"
   ]
  },
  {
   "cell_type": "code",
   "execution_count": null,
   "id": "56522c3a-b72f-4061-a53b-1c50b98cf4c9",
   "metadata": {},
   "outputs": [],
   "source": [
    "def calculate(num):\n",
    "    return num**2, num**3\n",
    "# This function returns multiple values in a tuple object"
   ]
  },
  {
   "cell_type": "code",
   "execution_count": null,
   "id": "c880925a-4673-4e9d-80e8-eb6d2600e16d",
   "metadata": {},
   "outputs": [],
   "source": [
    "values = calculate(2)\n",
    "values"
   ]
  },
  {
   "cell_type": "code",
   "execution_count": null,
   "id": "3e62649a-ed74-470e-ad2d-507d7cf8af61",
   "metadata": {},
   "outputs": [],
   "source": [
    "sq, cub = calculate(2)  # unpacking of tuples"
   ]
  },
  {
   "cell_type": "code",
   "execution_count": null,
   "id": "f808769d-7c0f-42c1-ada8-cb4660daabb7",
   "metadata": {},
   "outputs": [],
   "source": [
    "sq"
   ]
  },
  {
   "cell_type": "code",
   "execution_count": null,
   "id": "cad3ede4-f54f-4cec-8874-139769ddac50",
   "metadata": {},
   "outputs": [],
   "source": [
    "cub"
   ]
  },
  {
   "cell_type": "markdown",
   "id": "f20c1f62-3661-42ea-8d99-bfa262141ce7",
   "metadata": {},
   "source": [
    "Using unpacking of tuples in a for-loop"
   ]
  },
  {
   "cell_type": "code",
   "execution_count": null,
   "id": "ffedf232-55ac-4d17-9933-67d5248aeb40",
   "metadata": {},
   "outputs": [],
   "source": [
    "emp = {'Jane': 30, 'Jack': 20, 'Rosie': 25}\n",
    "for i in emp :\n",
    "    print(i, \" - \", emp[i])"
   ]
  },
  {
   "cell_type": "code",
   "execution_count": null,
   "id": "f69a19f4-2ea5-434c-98a0-88e6f4fcd5f5",
   "metadata": {},
   "outputs": [],
   "source": [
    "emp = {'Jane': 30, 'Jack': 20, 'Rosie': 25}\n",
    "for i in emp.items() :\n",
    "    print(i)"
   ]
  },
  {
   "cell_type": "code",
   "execution_count": null,
   "id": "7d5a9a06-28de-4cd7-a14e-c16338613ef8",
   "metadata": {},
   "outputs": [],
   "source": [
    "emp.items()"
   ]
  },
  {
   "cell_type": "code",
   "execution_count": null,
   "id": "04d1e442-c4b7-4956-a1bf-399e6d5e290f",
   "metadata": {},
   "outputs": [],
   "source": [
    "emp = {'Jane': 30, 'Jack': 20, 'Rosie': 25}\n",
    "for i, j in emp.items() :\n",
    "    print(i, \" - \", j)"
   ]
  },
  {
   "cell_type": "markdown",
   "id": "39ebfdac-2559-4a71-afb5-481496d41f7b",
   "metadata": {},
   "source": [
    "### Function Arguments"
   ]
  },
  {
   "cell_type": "markdown",
   "id": "030b097b-a112-4736-864c-a5ee5c105986",
   "metadata": {},
   "source": [
    "#### Required Positional Arguments"
   ]
  },
  {
   "cell_type": "code",
   "execution_count": null,
   "id": "0dde0693-93db-4665-bdff-b9392ff390f7",
   "metadata": {},
   "outputs": [],
   "source": [
    "def demo(name, age) :\n",
    "    print(f\"Name - {name} | Age - {age}\")"
   ]
  },
  {
   "cell_type": "code",
   "execution_count": null,
   "id": "44140eb5-8694-4d2e-8238-68558d7ab8a4",
   "metadata": {},
   "outputs": [],
   "source": [
    "demo(\"Jane\", 30)\n",
    "demo(30, \"Jane\")\n",
    "demo(\"Jane\")"
   ]
  },
  {
   "cell_type": "markdown",
   "id": "b2958e32-04ff-4342-a765-511d5eefd641",
   "metadata": {},
   "source": [
    "Examples - "
   ]
  },
  {
   "cell_type": "code",
   "execution_count": null,
   "id": "fea502b8-7dcb-421c-92a3-d795b72cedfa",
   "metadata": {},
   "outputs": [],
   "source": [
    "strg = \"mississippi\"\n",
    "print(strg.replace(\"i\", \"*\"))\n",
    "print(strg.replace(\"*\", \"i\"))"
   ]
  },
  {
   "cell_type": "code",
   "execution_count": null,
   "id": "0688d5c2-fa28-4e55-9f75-2714f861de10",
   "metadata": {},
   "outputs": [],
   "source": [
    "lst = [10, 20, 30, 40, 50]\n",
    "lst.insert(2, \"abc\")\n",
    "# lst.insert(\"abc\", 2)  - error - positional argument\n",
    "lst"
   ]
  },
  {
   "cell_type": "code",
   "execution_count": null,
   "id": "dc7e8566-6fdc-43d1-841c-c67374347e78",
   "metadata": {},
   "outputs": [],
   "source": [
    "lst = [10, 20, 30, 40, 50]\n",
    "# lst.insert(2, 3)\n",
    "lst.insert(3, 2)\n",
    "lst"
   ]
  },
  {
   "cell_type": "code",
   "execution_count": null,
   "id": "08aa0f82-7837-46e4-a453-4b246ce30e50",
   "metadata": {},
   "outputs": [],
   "source": [
    "list(range(1, 11, 2))"
   ]
  },
  {
   "cell_type": "code",
   "execution_count": null,
   "id": "e50d4855-8e8a-40a7-a38f-2fde8737c97d",
   "metadata": {},
   "outputs": [],
   "source": [
    "list(range(11))"
   ]
  },
  {
   "cell_type": "code",
   "execution_count": null,
   "id": "98103a13-e75b-4b96-a617-bc5e4d54a9f1",
   "metadata": {},
   "outputs": [],
   "source": [
    "help(range)"
   ]
  },
  {
   "cell_type": "code",
   "execution_count": null,
   "id": "12eaa7b4-5e35-4da1-bd33-ffb3f1c16aa4",
   "metadata": {},
   "outputs": [],
   "source": [
    "help(list.insert)"
   ]
  },
  {
   "cell_type": "markdown",
   "id": "8b0b32f2-61e1-48e1-acf9-8392a256795c",
   "metadata": {},
   "source": [
    "#### Default Argument"
   ]
  },
  {
   "cell_type": "code",
   "execution_count": null,
   "id": "221a6289-009d-4b13-9a16-361ab11b16e2",
   "metadata": {},
   "outputs": [],
   "source": [
    "help(str.replace)"
   ]
  },
  {
   "cell_type": "code",
   "execution_count": null,
   "id": "d7fb252f-5071-4be9-9c6c-de4438dc7a3a",
   "metadata": {},
   "outputs": [],
   "source": [
    "strg = \"mississippi\"\n",
    "print(strg.replace(\"i\", \"*\"))\n",
    "print(strg.replace(\"i\", \"*\", 2))"
   ]
  },
  {
   "cell_type": "code",
   "execution_count": null,
   "id": "4253af80-531a-47e3-950b-2fdc8e478c3f",
   "metadata": {},
   "outputs": [],
   "source": [
    "help(sorted)"
   ]
  },
  {
   "cell_type": "code",
   "execution_count": null,
   "id": "f8af7ac1-ff24-411f-9c95-d4d794d86562",
   "metadata": {},
   "outputs": [],
   "source": [
    "def demo(name, age = 30) :\n",
    "    print(f\"Name - {name} | Age - {age}\")"
   ]
  },
  {
   "cell_type": "code",
   "execution_count": null,
   "id": "8dc1c691-ba21-497b-b397-b1b65fea3a92",
   "metadata": {},
   "outputs": [],
   "source": [
    "demo(\"Jane\", 25)\n",
    "demo(\"Jane\")\n",
    "demo(25, \"Jane\")\n",
    "demo()"
   ]
  },
  {
   "cell_type": "markdown",
   "id": "203f9bbd-335c-4a3f-97ae-77babb2d4552",
   "metadata": {},
   "source": [
    "#### Variable Length Argument"
   ]
  },
  {
   "cell_type": "code",
   "execution_count": null,
   "id": "b450b1b3-074a-4a23-81c6-ce72586eb219",
   "metadata": {},
   "outputs": [],
   "source": [
    "def demo(name, *args, age = 18) :\n",
    "    print(f\"Name - {name} | Age - {age} | marks - {args}\")"
   ]
  },
  {
   "cell_type": "code",
   "execution_count": null,
   "id": "55f18fa4-b695-41b8-bc1b-58e37394820b",
   "metadata": {},
   "outputs": [],
   "source": [
    "demo(\"Jane\", 50, 60, 70, 80, 90, 20)"
   ]
  },
  {
   "cell_type": "markdown",
   "id": "287ebed0-dfdd-44d9-939a-7f6d0d946f9f",
   "metadata": {},
   "source": [
    "#### Key-word Arugment"
   ]
  },
  {
   "cell_type": "code",
   "execution_count": null,
   "id": "8b230003-0c8f-4b24-b87b-6e959173a582",
   "metadata": {},
   "outputs": [],
   "source": [
    "demo(\"Jane\", 50, 60, 70, 80, 90, age = 20)"
   ]
  },
  {
   "cell_type": "markdown",
   "id": "55d875be-3f7e-4475-909b-0dc2191b41f0",
   "metadata": {},
   "source": [
    "#### Variable length key-word Argument"
   ]
  },
  {
   "cell_type": "code",
   "execution_count": null,
   "id": "4c590c11-645f-4744-a360-b9baf99b6e68",
   "metadata": {},
   "outputs": [],
   "source": [
    "def demo(name, *args, age = 18, **kwargs) :\n",
    "    print(f\"Name - {name} | Age - {age} | marks - {args} | Additional details - {kwargs}\")"
   ]
  },
  {
   "cell_type": "code",
   "execution_count": null,
   "id": "96b2fbf7-41c8-43a2-a1cc-8a7b12bd8683",
   "metadata": {},
   "outputs": [],
   "source": [
    "demo(\"Jane\", 50, 60, 70, 80, 90, age = 20, mob = 98765443, gender = \"F\")"
   ]
  },
  {
   "cell_type": "markdown",
   "id": "20849dd1-fb5d-4978-bd80-249af7751dbd",
   "metadata": {},
   "source": [
    "#### Significance of `/` and `*`"
   ]
  },
  {
   "cell_type": "markdown",
   "id": "2dda1767-0ed9-4bf6-9487-e7cb7815973e",
   "metadata": {},
   "source": [
    "- **`*`** - All arguments after `*` must be key-word arguments\n",
    "- **`/`** - All arguments before `/` must be positional-only arguments"
   ]
  },
  {
   "cell_type": "code",
   "execution_count": null,
   "id": "86c8228d-3815-4f9d-aee5-c87b82963a9d",
   "metadata": {},
   "outputs": [],
   "source": [
    "def demo(name, age) :\n",
    "    print(f\"Name - {name} | Age - {age}\")\n",
    "\n",
    "demo(\"Jane\", 30)\n",
    "demo(\"Jane\", age = 30)\n",
    "demo(age = 30, name = \"Jane\")"
   ]
  },
  {
   "cell_type": "code",
   "execution_count": null,
   "id": "94eba823-975f-4212-9ddb-7ce089bda0ce",
   "metadata": {},
   "outputs": [],
   "source": [
    "def demo(name, age, /) :\n",
    "    print(f\"Name - {name} | Age - {age}\")\n",
    "\n",
    "demo(\"Jane\", 30)\n",
    "# demo(\"Jane\", age = 30)   # error\n",
    "# demo(age = 30, name = \"Jane\")  # error"
   ]
  },
  {
   "cell_type": "code",
   "execution_count": null,
   "id": "a0f31216-fe15-451c-ba57-9b4817f6a62a",
   "metadata": {},
   "outputs": [],
   "source": [
    "def demo(name, /, age) :\n",
    "    print(f\"Name - {name} | Age - {age}\")\n",
    "\n",
    "demo(\"Jane\", 30)\n",
    "demo(\"Jane\", age = 30)\n",
    "demo(age = 30, name = \"Jane\")  # error"
   ]
  },
  {
   "cell_type": "code",
   "execution_count": null,
   "id": "ba19ef0f-970a-4a63-85e2-808137e9b799",
   "metadata": {},
   "outputs": [],
   "source": [
    "def demo(name, *, age) :\n",
    "    print(f\"Name - {name} | Age - {age}\")\n",
    "\n",
    "# demo(\"Jane\", 30) # error\n",
    "demo(\"Jane\", age = 30)\n",
    "demo(age = 30, name = \"Jane\") "
   ]
  },
  {
   "cell_type": "markdown",
   "id": "b6f4e9be-590f-448c-a983-3697d67d57a2",
   "metadata": {},
   "source": [
    "###### Problem Statement - Store all the details of employees in the list to a file."
   ]
  },
  {
   "cell_type": "code",
   "execution_count": null,
   "id": "de23b11b-a34b-45c7-b57a-70bf79e56939",
   "metadata": {},
   "outputs": [],
   "source": [
    "def write_to_file(ecode, name, salary):\n",
    "    with open(\"emp_details.txt\", \"a\") as file :\n",
    "        file.write(f\"{ecode},{name},{salary}\\n\")\n",
    "    print(f\"Details of employee {name} added to file\")\n",
    "write_to_file(1, \"Jack\", 50000)"
   ]
  },
  {
   "cell_type": "code",
   "execution_count": null,
   "id": "bce33878-933b-472f-87df-b10b822dc143",
   "metadata": {},
   "outputs": [],
   "source": [
    "emps = [\n",
    "(101, 'Jane', 70000),\n",
    "(102, 'Rosie', 90000),\n",
    "(103, 'Mary', 40000),\n",
    "(104, 'Sam', 55000),\n",
    " ]"
   ]
  },
  {
   "cell_type": "code",
   "execution_count": null,
   "id": "0c187bdc-665c-4eeb-972b-94279a27df5a",
   "metadata": {},
   "outputs": [],
   "source": [
    "for e in emps :\n",
    "    write_to_file(*e)"
   ]
  },
  {
   "cell_type": "code",
   "execution_count": null,
   "id": "1c524ea5-ce7d-437d-b185-b3872dcf0ec4",
   "metadata": {},
   "outputs": [],
   "source": [
    "data = {\"ecode\" :101, \"name\" : 'Jane', \"salary\" : 70000}\n",
    "write_to_file(**data)"
   ]
  },
  {
   "cell_type": "markdown",
   "id": "d62d117b-8757-41b6-aadc-442256b9739a",
   "metadata": {},
   "source": [
    "## Lambda Functions"
   ]
  },
  {
   "cell_type": "markdown",
   "id": "9c7542c0-f3c9-4096-a1d5-b384d660b238",
   "metadata": {},
   "source": [
    "###### Ex. WAP to define a lambda function to add 2 numbers"
   ]
  },
  {
   "cell_type": "code",
   "execution_count": null,
   "id": "897a9ce1-1254-49b4-a299-7b68684b52b4",
   "metadata": {},
   "outputs": [],
   "source": [
    "add = lambda num1, num2 : num1 + num2\n",
    "\n",
    "add(2, 3)"
   ]
  },
  {
   "cell_type": "markdown",
   "id": "a8a99f7b-aa7d-40fd-94da-38096b3ec0a0",
   "metadata": {},
   "source": [
    "###### WALF to retun square of a number"
   ]
  },
  {
   "cell_type": "code",
   "execution_count": null,
   "id": "5f9a5d42-b387-444a-aace-ee9b1d7256ab",
   "metadata": {},
   "outputs": [],
   "source": [
    "square = lambda num : num ** 2\n",
    "square(5)"
   ]
  },
  {
   "cell_type": "markdown",
   "id": "0590093b-0854-4f3f-8de1-0c4e6fc694da",
   "metadata": {},
   "source": [
    "## Application of Function Objects"
   ]
  },
  {
   "cell_type": "code",
   "execution_count": null,
   "id": "290bbe4f-eb58-42e8-bc33-a215136cba1d",
   "metadata": {},
   "outputs": [],
   "source": [
    "def func(a, b) :\n",
    "    if a < b :\n",
    "        return a\n",
    "    else : \n",
    "        return b"
   ]
  },
  {
   "cell_type": "code",
   "execution_count": null,
   "id": "e99dad74-89b5-41cb-98b5-cde335ee242f",
   "metadata": {},
   "outputs": [],
   "source": [
    "var = func(3, 4)\n",
    "var"
   ]
  },
  {
   "cell_type": "code",
   "execution_count": null,
   "id": "7f859140-8216-4f33-b93c-580dd4f155b7",
   "metadata": {},
   "outputs": [],
   "source": [
    "var = func\n",
    "var"
   ]
  },
  {
   "cell_type": "code",
   "execution_count": null,
   "id": "e285b27c-a8f4-4a36-9704-113b5f5c387b",
   "metadata": {},
   "outputs": [],
   "source": [
    "var = len\n",
    "var"
   ]
  },
  {
   "cell_type": "code",
   "execution_count": null,
   "id": "14b95861-dab7-49d9-847f-6446662ee149",
   "metadata": {},
   "outputs": [],
   "source": [
    "var(\"abcd\")"
   ]
  },
  {
   "cell_type": "markdown",
   "id": "6dd643c4-3213-4778-b4f5-7259cdef601f",
   "metadata": {},
   "source": [
    "###### Ex. WAP to sort the given list"
   ]
  },
  {
   "cell_type": "code",
   "execution_count": null,
   "id": "1a1094a6-a792-433a-afbd-128ff978f17d",
   "metadata": {},
   "outputs": [],
   "source": [
    "lst = [\"flight\", \"bike\", \"train\", \"car\"]\n",
    "sorted(lst) # sorts alphabetically"
   ]
  },
  {
   "cell_type": "code",
   "execution_count": null,
   "id": "646f2434-cf60-4400-b12d-ab704d5527a9",
   "metadata": {},
   "outputs": [],
   "source": [
    "lst = [\"flight\", \"bike\", \"train\", \"car\"]\n",
    "sorted(lst, key = lambda strg : strg[-1]) # sorts as per the last character of each word"
   ]
  },
  {
   "cell_type": "code",
   "execution_count": null,
   "id": "3302b011-1c84-4709-a0e7-92936d28a444",
   "metadata": {},
   "outputs": [],
   "source": [
    "lst = [\"flight\", \"bike\", \"train\", \"car\"]\n",
    "sorted(lst, key = len)  # sorts by num of characters in each word"
   ]
  },
  {
   "cell_type": "markdown",
   "id": "511dca8c-9aa6-4252-97e9-9c14bd9b4288",
   "metadata": {},
   "source": [
    "###### Ex. WAP to display name and age of the employees in ASC order of their ages"
   ]
  },
  {
   "cell_type": "code",
   "execution_count": null,
   "id": "8da13577-cff9-4c8b-8f9b-d80f98aa1e83",
   "metadata": {},
   "outputs": [],
   "source": [
    "emp = {'Jane': 30, 'Jack': 20, 'Rosie': 25}\n",
    "dict(sorted(emp.items(), key = lambda tup : tup[1]))"
   ]
  },
  {
   "cell_type": "markdown",
   "id": "98811222-2dd9-4406-bcb3-1b7a493c566a",
   "metadata": {},
   "source": [
    "###### Ex. WAP to create a dict of names as keys and salaries as values"
   ]
  },
  {
   "cell_type": "code",
   "execution_count": null,
   "id": "bd0d6416-763d-4f8a-8898-88beaacb8012",
   "metadata": {},
   "outputs": [],
   "source": [
    "names = ['Jane', 'Rosie', 'Mary', 'Sam', 'George']\n",
    "salary = [70000, 90000, 40000, 55000, 76000]\n",
    "dict(zip(names, salary))"
   ]
  },
  {
   "cell_type": "markdown",
   "id": "b028cdde-6238-44fb-a9b1-1c875d8605c4",
   "metadata": {},
   "source": [
    "###### Ex. WAP to create a dict where keys are emp code starting from 101... and values are tuples of (name, salary)"
   ]
  },
  {
   "cell_type": "code",
   "execution_count": null,
   "id": "a340b81e-568c-412e-9e62-821d50309063",
   "metadata": {},
   "outputs": [],
   "source": [
    "print(dict(enumerate(zip(names, salary), start = 101)))"
   ]
  },
  {
   "cell_type": "code",
   "execution_count": null,
   "id": "9a05006e-4aad-4890-9a6a-6acf0e84315a",
   "metadata": {},
   "outputs": [],
   "source": [
    "lst = [\"flight\", \"bike\", \"train\", \"car\"]\n",
    "max(lst)"
   ]
  },
  {
   "cell_type": "code",
   "execution_count": null,
   "id": "5fd48afd-25fe-465b-9b01-7590e3c39bc0",
   "metadata": {},
   "outputs": [],
   "source": [
    "max(lst, key = len)"
   ]
  },
  {
   "cell_type": "code",
   "execution_count": null,
   "id": "d7a14449-f582-4742-bbcd-166d68cce225",
   "metadata": {},
   "outputs": [],
   "source": [
    "max(lst, key = min)"
   ]
  },
  {
   "cell_type": "markdown",
   "id": "ee9c2edd-93df-4df2-b1a2-1cd2e81b6307",
   "metadata": {},
   "source": [
    "## Working on Arrays"
   ]
  },
  {
   "cell_type": "code",
   "execution_count": null,
   "id": "a34d16a5-e9b0-4587-8b5a-eab2e0933b6f",
   "metadata": {},
   "outputs": [],
   "source": [
    "!pip install numpy  # Install only if np is not present"
   ]
  },
  {
   "cell_type": "code",
   "execution_count": null,
   "id": "5397a917-8f1c-4317-8a76-f668ebaf1654",
   "metadata": {},
   "outputs": [],
   "source": [
    "import numpy as np"
   ]
  },
  {
   "cell_type": "code",
   "execution_count": null,
   "id": "8685b754-0223-44e9-8abd-70236998d9e5",
   "metadata": {},
   "outputs": [],
   "source": [
    "names = np.array([\"Olivia\", \"Liam\", \"Emma\", \"Noah\", \"Ava\", \"Sophia\", \"Jackson\", \"Isabella\", \"Lucas\", \"Mia\"])\n",
    "maths = np.array([93, 60, 68, 53, 63, 30, 46, 63, 66, 53])\n",
    "english = np.array([75, 69, 78, 66, 53, 26, 65, 62, 63, 70])\n",
    "science = np.array([96, 57, 55, 52, 52, 31, 96, 58, 52, 70])"
   ]
  },
  {
   "cell_type": "markdown",
   "id": "b704f2a4-2b1f-4614-b113-ae61c9cf8781",
   "metadata": {},
   "source": [
    "#### Array Attributes"
   ]
  },
  {
   "cell_type": "markdown",
   "id": "31750cd0-bd8f-41a9-9c5c-1ef657f103cc",
   "metadata": {},
   "source": [
    "###### How many students appreared for the exam?"
   ]
  },
  {
   "cell_type": "code",
   "execution_count": null,
   "id": "7a84e830-9abe-4d9f-80d3-ca756623274b",
   "metadata": {},
   "outputs": [],
   "source": [
    "names.size"
   ]
  },
  {
   "cell_type": "code",
   "execution_count": null,
   "id": "4cdbc6e9-38e6-4408-bc08-1b9a74f28908",
   "metadata": {},
   "outputs": [],
   "source": [
    "names.dtype"
   ]
  },
  {
   "cell_type": "code",
   "execution_count": null,
   "id": "c42bd3c4-5aae-4e45-92d9-0ae45978bd94",
   "metadata": {},
   "outputs": [],
   "source": [
    "maths.dtype"
   ]
  },
  {
   "cell_type": "code",
   "execution_count": null,
   "id": "e8a45c37-aa5e-4a01-b060-770c8a492ad2",
   "metadata": {},
   "outputs": [],
   "source": [
    "names.ndim  # dimensions of array"
   ]
  },
  {
   "cell_type": "markdown",
   "id": "2e6e8a08-33cf-440e-8c85-650c6d76dc45",
   "metadata": {},
   "source": [
    "#### Accessing Array elemenets and Operations on Arrays"
   ]
  },
  {
   "cell_type": "markdown",
   "id": "eb83e6dc-4134-4e73-9817-bc628ee2f836",
   "metadata": {},
   "source": [
    "###### Ex. Who scored maximum marks in science?"
   ]
  },
  {
   "cell_type": "code",
   "execution_count": null,
   "id": "7675f397-ce92-4b8d-855e-45a034561e0d",
   "metadata": {},
   "outputs": [],
   "source": [
    "int(science.max())"
   ]
  },
  {
   "cell_type": "code",
   "execution_count": null,
   "id": "6bd8f956-29a2-4fce-b315-159dd9e6e481",
   "metadata": {},
   "outputs": [],
   "source": [
    "science.argmax()  # Returns the index position of largest element"
   ]
  },
  {
   "cell_type": "code",
   "execution_count": null,
   "id": "3132e825-cda7-40b8-b8d2-720771b9da68",
   "metadata": {},
   "outputs": [],
   "source": [
    "science == science.max()  # Returns a bool array after comparing based on condition"
   ]
  },
  {
   "cell_type": "code",
   "execution_count": null,
   "id": "68ed15ad-e224-43ca-9c95-b7934789f34c",
   "metadata": {},
   "outputs": [],
   "source": [
    "science[science == science.max()]"
   ]
  },
  {
   "cell_type": "code",
   "execution_count": null,
   "id": "33bd3f2c-43d3-4cb9-b267-ca45f03b2bc0",
   "metadata": {},
   "outputs": [],
   "source": [
    "names[science == science.max()]"
   ]
  },
  {
   "cell_type": "markdown",
   "id": "8e44c976-94c7-4aeb-ac8a-04b4d874c1ef",
   "metadata": {},
   "source": [
    "###### Ex. How many students have passed in maths?"
   ]
  },
  {
   "cell_type": "code",
   "execution_count": null,
   "id": "21d28df8-5bd0-472b-915f-018055a589e1",
   "metadata": {},
   "outputs": [],
   "source": [
    "names[maths >= 35]"
   ]
  },
  {
   "cell_type": "code",
   "execution_count": null,
   "id": "50ea7e34-8805-4e53-88cd-bcd279fc8738",
   "metadata": {},
   "outputs": [],
   "source": [
    "names[maths >= 35].size"
   ]
  },
  {
   "cell_type": "code",
   "execution_count": null,
   "id": "742cd044-3652-4224-8f42-adb23eea21f8",
   "metadata": {},
   "outputs": [],
   "source": [
    "sum(maths >= 35)"
   ]
  },
  {
   "cell_type": "markdown",
   "id": "87272b3c-3d49-4581-9274-6427110dc7be",
   "metadata": {},
   "source": [
    "###### Ex. Are there any students who have failed in maths? (True or False)"
   ]
  },
  {
   "cell_type": "code",
   "execution_count": null,
   "id": "8891ff9e-3412-4736-8432-afbe202a116e",
   "metadata": {},
   "outputs": [],
   "source": [
    "np.all(maths >= 35)   # returns True if all values are True else False"
   ]
  },
  {
   "cell_type": "code",
   "execution_count": null,
   "id": "a002f63d-f885-4c17-93cc-169d8af057ad",
   "metadata": {},
   "outputs": [],
   "source": [
    "np.any(english < 35)   # returns True if any one value is True else Falseb"
   ]
  },
  {
   "cell_type": "code",
   "execution_count": null,
   "id": "6b200b56-8783-439b-9e75-dae5f7cb1c3e",
   "metadata": {},
   "outputs": [],
   "source": [
    "lst = [True, False, True, ()]\n",
    "all(lst)"
   ]
  },
  {
   "cell_type": "code",
   "execution_count": null,
   "id": "0116d731-7c19-4a8a-9496-756fd4a29512",
   "metadata": {},
   "outputs": [],
   "source": [
    "lst = [True, True, True, ()]  # bool of empty tuple is always False\n",
    "all(lst)"
   ]
  },
  {
   "cell_type": "markdown",
   "id": "2eb0faca-87dd-49a3-ad2a-b58e3e4e37d4",
   "metadata": {},
   "source": [
    "###### Ex. Have all students cleared their math exams (True or False)"
   ]
  },
  {
   "cell_type": "code",
   "execution_count": null,
   "id": "b9f2f010-5ddb-4009-b2ea-24acd661d75f",
   "metadata": {},
   "outputs": [],
   "source": [
    "np.all(maths >= 35)"
   ]
  },
  {
   "cell_type": "markdown",
   "id": "a6602167-d5e9-43e0-9c20-65f0e059cc66",
   "metadata": {},
   "source": [
    "###### Ex. Who failed in maths? passing marks - 35"
   ]
  },
  {
   "cell_type": "code",
   "execution_count": null,
   "id": "c7995c0f-dff2-45c6-9214-61ab765262ff",
   "metadata": {},
   "outputs": [],
   "source": [
    "names[maths< 35]"
   ]
  },
  {
   "cell_type": "code",
   "execution_count": null,
   "id": "ebc6d83d-5dae-4cf6-ad35-1dd4a54fc421",
   "metadata": {},
   "outputs": [],
   "source": [
    "\", \".join(names[maths > 35])"
   ]
  },
  {
   "cell_type": "markdown",
   "id": "a04cecd3-77dc-4307-9d14-795ecde00382",
   "metadata": {},
   "source": [
    "###### Ex. Calculate percentage of all students and assign grades"
   ]
  },
  {
   "cell_type": "code",
   "execution_count": null,
   "id": "391c4b47-e505-448a-806c-af58e043c97d",
   "metadata": {},
   "outputs": [],
   "source": [
    "percentage = np.round((maths + english + science)/3, 2)\n",
    "percentage"
   ]
  },
  {
   "cell_type": "markdown",
   "id": "1f072d10-7b0f-47e6-947a-a62ebaad41e5",
   "metadata": {},
   "source": [
    "###### Assign grades to the students (Failed or pass)"
   ]
  },
  {
   "cell_type": "code",
   "execution_count": null,
   "id": "efe3adbd-b1c5-468b-bcf2-70a69bb26113",
   "metadata": {},
   "outputs": [],
   "source": [
    "grades_1 = np.where(percentage >= 35, \"Passed\", \"Failed\")\n",
    "grades_1"
   ]
  },
  {
   "cell_type": "markdown",
   "id": "e7e7f131-c5f3-4854-8b72-e70ae921f916",
   "metadata": {},
   "source": [
    "###### Assigning grades as A, B, C, D"
   ]
  },
  {
   "cell_type": "code",
   "execution_count": null,
   "id": "90a67aaa-41d5-4d2d-a06e-b4304ab4373a",
   "metadata": {},
   "outputs": [],
   "source": [
    "conditions = [percentage >= 75, percentage >= 60, percentage >= 40]\n",
    "results = [\"Grade A\", \"Grade B\", \"Grade C\"]\n",
    "np.select(conditions, results, \"Grade D\")"
   ]
  },
  {
   "cell_type": "code",
   "execution_count": null,
   "id": "012c5a17-47f5-496a-83aa-542832dfb63e",
   "metadata": {},
   "outputs": [],
   "source": [
    "help(np.select)"
   ]
  },
  {
   "cell_type": "markdown",
   "id": "9d2b8c1e-271f-499c-80d4-1d90c9502c8b",
   "metadata": {},
   "source": [
    "###### Ex. Display names of students who have scored above class average."
   ]
  },
  {
   "cell_type": "code",
   "execution_count": null,
   "id": "a9ac4542-15fa-40ca-826d-cf4a054081eb",
   "metadata": {},
   "outputs": [],
   "source": [
    "names[percentage >= percentage.mean()]"
   ]
  },
  {
   "cell_type": "code",
   "execution_count": null,
   "id": "de325811-f55f-4b2a-8d56-fb06493f9ac3",
   "metadata": {},
   "outputs": [],
   "source": [
    "names[maths >= maths.mean()]"
   ]
  },
  {
   "cell_type": "markdown",
   "id": "9cec6cc4-400f-4557-a5a4-b0715a65aca3",
   "metadata": {},
   "source": [
    "###### Ex. How many students are obve average in class also above avg in all three subject"
   ]
  },
  {
   "cell_type": "code",
   "execution_count": null,
   "id": "6f8fa149-1880-4fa8-a025-67d3b3dc4d8f",
   "metadata": {},
   "outputs": [],
   "source": [
    "above_class_avg = names[percentage >= percentage.mean()]\n",
    "above_maths_avg = names[maths >= maths.mean()]\n",
    "above_sci_avg = names[science >= science.mean()]\n",
    "above_eng_avg = names[english >= english.mean()]"
   ]
  },
  {
   "cell_type": "code",
   "execution_count": null,
   "id": "2199a129-1944-41e2-8cbe-93a6765f8384",
   "metadata": {},
   "outputs": [],
   "source": [
    "from functools import reduce\n",
    "# product of numbers in range of 1-10\n",
    "reduce(lambda x, y : x + y, range(1, 11))"
   ]
  },
  {
   "cell_type": "code",
   "execution_count": null,
   "id": "5bd42e35-f5e6-4a26-ba94-aaabc318a421",
   "metadata": {},
   "outputs": [],
   "source": [
    "results = [above_class_avg, above_eng_avg, above_maths_avg, above_sci_avg]\n",
    "reduce(np.intersect1d, results)"
   ]
  },
  {
   "cell_type": "code",
   "execution_count": null,
   "id": "85311650-8af5-4091-88d3-20b07755fddc",
   "metadata": {},
   "outputs": [],
   "source": [
    "np.intersect1d(np.intersect1d(np.intersect1d(above_class_avg, above_eng_avg), above_maths_avg), above_sci_avg)"
   ]
  },
  {
   "cell_type": "markdown",
   "id": "35d1358e-9a60-4fd0-a1fa-2cc9096e722b",
   "metadata": {},
   "source": [
    "## Working on Dataframes"
   ]
  },
  {
   "cell_type": "markdown",
   "id": "a6f7d4ea-c47b-41ba-a11d-7c17cdb1e27b",
   "metadata": {},
   "source": [
    "#### Reading data from various sources (excel/csv, database, json)"
   ]
  },
  {
   "cell_type": "code",
   "execution_count": null,
   "id": "3edca489-070b-4392-becc-0381481805b9",
   "metadata": {},
   "outputs": [],
   "source": [
    "import numpy as np\n",
    "import pandas as pd\n",
    "import matplotlib.pyplot as plt\n",
    "import seaborn as sns"
   ]
  },
  {
   "cell_type": "markdown",
   "id": "e5f5e554-7f5b-4a0a-8a24-9992fb15b0aa",
   "metadata": {},
   "source": [
    "#### Creating a Datafram from lists/arrays"
   ]
  },
  {
   "cell_type": "code",
   "execution_count": null,
   "id": "602029e2-eaff-4717-8e50-5f2288b8817c",
   "metadata": {},
   "outputs": [],
   "source": [
    "names = np.array([\"Olivia\", \"Liam\", \"Emma\", \"Noah\", \"Ava\", \"Sophia\", \"Jackson\", \"Isabella\", \"Lucas\", \"Mia\"])\n",
    "maths = np.array([93, 60, 68, 53, 63, 30, 46, 63, 66, 53])\n",
    "english = np.array([75, 69, 78, 66, 53, 26, 65, 62, 63, 70])\n",
    "science = np.array([96, 57, 55, 52, 52, 31, 96, 58, 52, 70])\n",
    "\n",
    "students = {\"Name\" : names, \"Maths\" : maths, \"English\" : english, \"Science\": science}\n",
    "df = pd.DataFrame(students)\n",
    "df"
   ]
  },
  {
   "cell_type": "code",
   "execution_count": null,
   "id": "f2c06292-8cc2-4328-bd22-5c25af602767",
   "metadata": {},
   "outputs": [],
   "source": [
    "df.shape"
   ]
  },
  {
   "cell_type": "code",
   "execution_count": null,
   "id": "aadfb089-8517-4757-8c08-6f5006d1825c",
   "metadata": {},
   "outputs": [],
   "source": [
    "df.dtypes"
   ]
  },
  {
   "cell_type": "code",
   "execution_count": null,
   "id": "58336aa8-348d-435f-9d63-0ebde1e420d3",
   "metadata": {},
   "outputs": [],
   "source": [
    "df.head(2)"
   ]
  },
  {
   "cell_type": "code",
   "execution_count": null,
   "id": "ade151ca-d017-4e15-a0b9-8d1ecb347319",
   "metadata": {},
   "outputs": [],
   "source": [
    "df.tail()"
   ]
  },
  {
   "cell_type": "code",
   "execution_count": null,
   "id": "04401d65-38ed-43a4-bed3-df48eeaf8b68",
   "metadata": {},
   "outputs": [],
   "source": [
    "df[df.Maths < 35]"
   ]
  },
  {
   "cell_type": "code",
   "execution_count": null,
   "id": "5e546efe-b968-4700-a32a-25d0d43061a7",
   "metadata": {},
   "outputs": [],
   "source": [
    "np.all(df.Maths >= 35) # Have all the srydents passed in maths?"
   ]
  },
  {
   "cell_type": "markdown",
   "id": "382ed68d-2b0b-491f-8298-517fabd81cbf",
   "metadata": {},
   "source": [
    "###### Ex. Create new columns as Total Marks, Percentage, Rank and Grade"
   ]
  },
  {
   "cell_type": "code",
   "execution_count": null,
   "id": "c106e886-2635-4e54-a9ca-911e3c1e188f",
   "metadata": {},
   "outputs": [],
   "source": [
    "df[\"Total Marks\"] = df.Maths + df.English + df.Science\n",
    "df[\"Percentage\"] = np.round(df[\"Total Marks\"]/3, 2)\n",
    "conditions = [df.Percentage >= 75, df.Percentage >= 60, df.Percentage >= 40]\n",
    "results = [\"Grade A\", \"Grade B\", \"Grade C\"]\n",
    "df[\"Grade\"] = np.select(conditions, results, \"Grade D\")\n",
    "df[\"Rank\"] = df.Percentage.rank(ascending=False).astype(int)\n",
    "df.sort_values(\"Rank\", inplace = True, ignore_index= True)\n",
    "df"
   ]
  },
  {
   "cell_type": "markdown",
   "id": "a59c1108-2029-4ee2-a846-ef21ac35d107",
   "metadata": {},
   "source": [
    "###### Ex. What is AVG marks scored by students in Maths getting Grade B "
   ]
  },
  {
   "cell_type": "code",
   "execution_count": null,
   "id": "75a4dc6e-46af-4c00-9d2c-f6b3f63ad8f2",
   "metadata": {},
   "outputs": [],
   "source": [
    "int(df[df.Grade == \"Grade B\"].Maths.mean())"
   ]
  },
  {
   "cell_type": "markdown",
   "id": "4a532e78-91bd-4566-a201-894f076cf6b9",
   "metadata": {
    "jp-MarkdownHeadingCollapsed": true
   },
   "source": [
    "### Conneting to database"
   ]
  },
  {
   "cell_type": "code",
   "execution_count": null,
   "id": "3ec0e572-fc29-4ed6-98aa-baebf9828c7c",
   "metadata": {},
   "outputs": [],
   "source": [
    "!pip install sqlalchemy"
   ]
  },
  {
   "cell_type": "code",
   "execution_count": null,
   "id": "d35fd20f-4512-44ad-8904-a0250d6aee2d",
   "metadata": {},
   "outputs": [],
   "source": [
    "from sqlalchemy import create_engine\n",
    "conn = create_engine(\"sqlite:///employee.sqlite3\")\n",
    "conn"
   ]
  },
  {
   "cell_type": "code",
   "execution_count": null,
   "id": "5596d834-eb61-4dc7-9796-5bf028d7a568",
   "metadata": {},
   "outputs": [],
   "source": [
    "pd.read_sql(\"Employee\", conn)"
   ]
  },
  {
   "cell_type": "code",
   "execution_count": null,
   "id": "ed411554-0c84-44d5-8f21-ab98ae7eef5f",
   "metadata": {},
   "outputs": [],
   "source": [
    "pd.read_sql_query(\"Select * from Employee where Designation = 'Manager'\", conn)"
   ]
  },
  {
   "cell_type": "code",
   "execution_count": null,
   "id": "ed995ea3-a402-40d9-bb2d-695f30c4eb54",
   "metadata": {},
   "outputs": [],
   "source": [
    "mssql://*server_name*/*database_name*?trusted_connection=yes"
   ]
  },
  {
   "cell_type": "markdown",
   "id": "cd3fa3b0-58af-4f8e-8465-cfdbb3f6927d",
   "metadata": {
    "jp-MarkdownHeadingCollapsed": true
   },
   "source": [
    "### Connect to Json Object"
   ]
  },
  {
   "cell_type": "code",
   "execution_count": null,
   "id": "89e3ecb5-7309-4db9-880b-6baeb45cf7b7",
   "metadata": {},
   "outputs": [],
   "source": [
    "import requests"
   ]
  },
  {
   "cell_type": "code",
   "execution_count": null,
   "id": "699e6421-2078-4da1-977e-65ff94664053",
   "metadata": {},
   "outputs": [],
   "source": [
    "json_obj = requests.get(\"http://127.0.0.1:5000/tasks\").json()"
   ]
  },
  {
   "cell_type": "code",
   "execution_count": null,
   "id": "f1f3442f-f6c0-4e72-9116-4b85265507e1",
   "metadata": {},
   "outputs": [],
   "source": [
    "pd.DataFrame(json_obj)"
   ]
  },
  {
   "cell_type": "code",
   "execution_count": null,
   "id": "78ef543c-4628-4703-9362-21178a062af9",
   "metadata": {},
   "outputs": [],
   "source": [
    "json_obj = requests.get(\"https://jsonplaceholder.typicode.com/posts\").json()\n",
    "\n",
    "pd.DataFrame(json_obj)"
   ]
  },
  {
   "cell_type": "code",
   "execution_count": null,
   "id": "abd404f3-0742-49ce-96ee-acd840154ac2",
   "metadata": {},
   "outputs": [],
   "source": []
  },
  {
   "cell_type": "code",
   "execution_count": null,
   "id": "57f9ea54-ee28-49b0-8c70-25a9107444d2",
   "metadata": {},
   "outputs": [],
   "source": []
  },
  {
   "cell_type": "markdown",
   "id": "51aed624-8e08-4f58-93f5-86cbb84a48c7",
   "metadata": {},
   "source": [
    "### Read data from CSV"
   ]
  },
  {
   "cell_type": "markdown",
   "id": "2dff0e4d-c27e-4777-8045-4e7e68ce18bc",
   "metadata": {},
   "source": [
    "Method 1 - Set the current working directory as the file path"
   ]
  },
  {
   "cell_type": "code",
   "execution_count": null,
   "id": "a24ab722-6134-4f1d-a34a-c773eeed65dd",
   "metadata": {},
   "outputs": [],
   "source": [
    "import os\n",
    "os.chdir(r\"./Datasets/\")"
   ]
  },
  {
   "cell_type": "markdown",
   "id": "63c4f5a0-b159-4ea7-840b-dd63dbf703a4",
   "metadata": {},
   "source": [
    "Method 2 - Upload the files to working environment using jupyter upload button"
   ]
  },
  {
   "cell_type": "markdown",
   "id": "b6300b58-26b5-4cb4-9d00-b7cd65b967e6",
   "metadata": {},
   "source": [
    "#### Reading data from csv file"
   ]
  },
  {
   "cell_type": "code",
   "execution_count": null,
   "id": "109a2a9e-f551-401f-92c4-8bc4a7537f68",
   "metadata": {},
   "outputs": [],
   "source": [
    "df = pd.read_csv(\"coffee_sales.csv\", header=3)\n",
    "df.head()"
   ]
  },
  {
   "cell_type": "markdown",
   "id": "7892424c-964b-470a-a748-fa43337523b6",
   "metadata": {},
   "source": [
    "#### Handling null values"
   ]
  },
  {
   "cell_type": "code",
   "execution_count": null,
   "id": "e194edc6-8f94-4bab-bb48-320dda832c95",
   "metadata": {},
   "outputs": [],
   "source": [
    "df.dropna(axis = 1, how=\"all\", inplace=True)\n",
    "# df.dropna(how=\"all\")\n",
    "df.head()"
   ]
  },
  {
   "cell_type": "code",
   "execution_count": null,
   "id": "f90f605c-8245-4f98-8f4c-d79c7cad6c15",
   "metadata": {},
   "outputs": [],
   "source": [
    "df.isna().any()"
   ]
  },
  {
   "cell_type": "code",
   "execution_count": null,
   "id": "0ed2411f-8f08-4bc9-a788-860c3e350a52",
   "metadata": {},
   "outputs": [],
   "source": [
    "df.isna().sum()"
   ]
  },
  {
   "cell_type": "markdown",
   "id": "e0f6366d-526f-4b9b-afc6-176db6b4372a",
   "metadata": {},
   "source": [
    "#### Remove nulls"
   ]
  },
  {
   "cell_type": "code",
   "execution_count": null,
   "id": "132f740a-8d9c-4fdc-8a93-d240031dd6d7",
   "metadata": {},
   "outputs": [],
   "source": [
    "df.dropna()  # Removes all the rows where a column value is null"
   ]
  },
  {
   "cell_type": "markdown",
   "id": "fa63edf1-96da-4766-8418-d1c2aebeacf8",
   "metadata": {},
   "source": [
    "#### Replacing nulls"
   ]
  },
  {
   "cell_type": "code",
   "execution_count": null,
   "id": "d3066827-f9fe-4360-8169-7c49678b15e4",
   "metadata": {},
   "outputs": [],
   "source": [
    "df[\"Target Profit\"].fillna(\"0\", inplace=True)  # Older technique depricated in pandas 3.0 "
   ]
  },
  {
   "cell_type": "code",
   "execution_count": null,
   "id": "a8a896fb-f7f1-4524-8a22-6302c8e447c9",
   "metadata": {},
   "outputs": [],
   "source": [
    "df.fillna({\"Target Profit\" : \"0\"}, inplace=True)  # New technique (python 12.x onwards)\n",
    "df.head()"
   ]
  },
  {
   "cell_type": "code",
   "execution_count": null,
   "id": "888e147d-d1bc-4606-9e1c-00d5397c76db",
   "metadata": {},
   "outputs": [],
   "source": [
    "df.isna().any()"
   ]
  },
  {
   "cell_type": "code",
   "execution_count": 45,
   "id": "010fe1fb-7ca4-408d-95b8-58f91e3fafbc",
   "metadata": {},
   "outputs": [
    {
     "data": {
      "text/plain": [
       "Date             object\n",
       "Franchise        object\n",
       "City             object\n",
       "Product          object\n",
       "Sales            object\n",
       "Profit           object\n",
       "Target Profit    object\n",
       "Target Sales     object\n",
       "dtype: object"
      ]
     },
     "execution_count": 45,
     "metadata": {},
     "output_type": "execute_result"
    }
   ],
   "source": [
    "df.dtypes"
   ]
  },
  {
   "cell_type": "markdown",
   "id": "1913a8c2-86f4-4714-b1b2-00be3e15afdf",
   "metadata": {},
   "source": [
    "#### Cleaning and Preparing Data"
   ]
  },
  {
   "cell_type": "code",
   "execution_count": 47,
   "id": "dcc45421-73b8-4e54-8813-e763fc3ea0a1",
   "metadata": {},
   "outputs": [],
   "source": [
    "strg = \"($1,200)\"  # -1200"
   ]
  },
  {
   "cell_type": "code",
   "execution_count": 50,
   "id": "4cc24693-7f95-4345-9686-31bbdfd76eb9",
   "metadata": {},
   "outputs": [
    {
     "data": {
      "text/plain": [
       "-1200"
      ]
     },
     "execution_count": 50,
     "metadata": {},
     "output_type": "execute_result"
    }
   ],
   "source": [
    "trans_obj = str.maketrans(\"(\", \"-\", \"$,)\")\n",
    "int(strg.translate(trans_obj))"
   ]
  },
  {
   "cell_type": "code",
   "execution_count": 59,
   "id": "b71054a0-3411-40f5-8703-4b6886e433ac",
   "metadata": {},
   "outputs": [
    {
     "data": {
      "text/html": [
       "<div>\n",
       "<style scoped>\n",
       "    .dataframe tbody tr th:only-of-type {\n",
       "        vertical-align: middle;\n",
       "    }\n",
       "\n",
       "    .dataframe tbody tr th {\n",
       "        vertical-align: top;\n",
       "    }\n",
       "\n",
       "    .dataframe thead th {\n",
       "        text-align: right;\n",
       "    }\n",
       "</style>\n",
       "<table border=\"1\" class=\"dataframe\">\n",
       "  <thead>\n",
       "    <tr style=\"text-align: right;\">\n",
       "      <th></th>\n",
       "      <th>Date</th>\n",
       "      <th>Franchise</th>\n",
       "      <th>City</th>\n",
       "      <th>Product</th>\n",
       "      <th>Sales</th>\n",
       "      <th>Profit</th>\n",
       "      <th>Target Profit</th>\n",
       "      <th>Target Sales</th>\n",
       "    </tr>\n",
       "  </thead>\n",
       "  <tbody>\n",
       "    <tr>\n",
       "      <th>0</th>\n",
       "      <td>1-Jan-21</td>\n",
       "      <td>M1</td>\n",
       "      <td>Mumbai</td>\n",
       "      <td>Amaretto</td>\n",
       "      <td>219.0</td>\n",
       "      <td>94.0</td>\n",
       "      <td>100.0</td>\n",
       "      <td>220.0</td>\n",
       "    </tr>\n",
       "    <tr>\n",
       "      <th>1</th>\n",
       "      <td>1-Feb-21</td>\n",
       "      <td>M1</td>\n",
       "      <td>Mumbai</td>\n",
       "      <td>Amaretto</td>\n",
       "      <td>140.0</td>\n",
       "      <td>34.0</td>\n",
       "      <td>50.0</td>\n",
       "      <td>140.0</td>\n",
       "    </tr>\n",
       "    <tr>\n",
       "      <th>2</th>\n",
       "      <td>1-Mar-21</td>\n",
       "      <td>M1</td>\n",
       "      <td>Mumbai</td>\n",
       "      <td>Amaretto</td>\n",
       "      <td>145.0</td>\n",
       "      <td>-2.0</td>\n",
       "      <td>30.0</td>\n",
       "      <td>180.0</td>\n",
       "    </tr>\n",
       "    <tr>\n",
       "      <th>3</th>\n",
       "      <td>1-Apr-21</td>\n",
       "      <td>M1</td>\n",
       "      <td>Mumbai</td>\n",
       "      <td>Amaretto</td>\n",
       "      <td>45.0</td>\n",
       "      <td>11.0</td>\n",
       "      <td>20.0</td>\n",
       "      <td>40.0</td>\n",
       "    </tr>\n",
       "    <tr>\n",
       "      <th>4</th>\n",
       "      <td>1-May-21</td>\n",
       "      <td>M1</td>\n",
       "      <td>Mumbai</td>\n",
       "      <td>Amaretto</td>\n",
       "      <td>120.0</td>\n",
       "      <td>13.0</td>\n",
       "      <td>30.0</td>\n",
       "      <td>120.0</td>\n",
       "    </tr>\n",
       "  </tbody>\n",
       "</table>\n",
       "</div>"
      ],
      "text/plain": [
       "       Date Franchise    City   Product  Sales  Profit  Target Profit  \\\n",
       "0  1-Jan-21        M1  Mumbai  Amaretto  219.0    94.0          100.0   \n",
       "1  1-Feb-21        M1  Mumbai  Amaretto  140.0    34.0           50.0   \n",
       "2  1-Mar-21        M1  Mumbai  Amaretto  145.0    -2.0           30.0   \n",
       "3  1-Apr-21        M1  Mumbai  Amaretto   45.0    11.0           20.0   \n",
       "4  1-May-21        M1  Mumbai  Amaretto  120.0    13.0           30.0   \n",
       "\n",
       "   Target Sales  \n",
       "0         220.0  \n",
       "1         140.0  \n",
       "2         180.0  \n",
       "3          40.0  \n",
       "4         120.0  "
      ]
     },
     "execution_count": 59,
     "metadata": {},
     "output_type": "execute_result"
    }
   ],
   "source": [
    "trans_obj = str.maketrans(\"\", \"\", \"$,\")  # Note - use translate if more than 1 replace statements are needed\n",
    "df.Sales = df.Sales.str.translate(trans_obj).astype(float)\n",
    "df[\"Target Sales\"] = df[\"Target Sales\"].str.translate(trans_obj).astype(float)\n",
    "df.Profit = df.Profit.str.replace(\"$\", \"\").astype(float)\n",
    "df[\"Target Profit\"] = df[\"Target Profit\"].str.replace(\"$\", \"\").astype(float)\n",
    "df.head()"
   ]
  },
  {
   "cell_type": "code",
   "execution_count": 60,
   "id": "6b18edb2-c795-4ac2-86e3-70d03fd8bd4a",
   "metadata": {},
   "outputs": [
    {
     "data": {
      "text/plain": [
       "Date              object\n",
       "Franchise         object\n",
       "City              object\n",
       "Product           object\n",
       "Sales            float64\n",
       "Profit           float64\n",
       "Target Profit    float64\n",
       "Target Sales     float64\n",
       "dtype: object"
      ]
     },
     "execution_count": 60,
     "metadata": {},
     "output_type": "execute_result"
    }
   ],
   "source": [
    "df.dtypes"
   ]
  },
  {
   "cell_type": "code",
   "execution_count": 61,
   "id": "e885a911-e0ad-4cb9-89e8-e7d467c9a3bd",
   "metadata": {},
   "outputs": [
    {
     "data": {
      "text/html": [
       "<div>\n",
       "<style scoped>\n",
       "    .dataframe tbody tr th:only-of-type {\n",
       "        vertical-align: middle;\n",
       "    }\n",
       "\n",
       "    .dataframe tbody tr th {\n",
       "        vertical-align: top;\n",
       "    }\n",
       "\n",
       "    .dataframe thead th {\n",
       "        text-align: right;\n",
       "    }\n",
       "</style>\n",
       "<table border=\"1\" class=\"dataframe\">\n",
       "  <thead>\n",
       "    <tr style=\"text-align: right;\">\n",
       "      <th></th>\n",
       "      <th>Date</th>\n",
       "      <th>Franchise</th>\n",
       "      <th>City</th>\n",
       "      <th>Product</th>\n",
       "      <th>Sales</th>\n",
       "      <th>Profit</th>\n",
       "      <th>Target Profit</th>\n",
       "      <th>Target Sales</th>\n",
       "    </tr>\n",
       "  </thead>\n",
       "  <tbody>\n",
       "    <tr>\n",
       "      <th>0</th>\n",
       "      <td>1-Jan-21</td>\n",
       "      <td>M1</td>\n",
       "      <td>Mumbai</td>\n",
       "      <td>Amaretto</td>\n",
       "      <td>219.0</td>\n",
       "      <td>94.0</td>\n",
       "      <td>100.0</td>\n",
       "      <td>220.0</td>\n",
       "    </tr>\n",
       "    <tr>\n",
       "      <th>1</th>\n",
       "      <td>1-Feb-21</td>\n",
       "      <td>M1</td>\n",
       "      <td>Mumbai</td>\n",
       "      <td>Amaretto</td>\n",
       "      <td>140.0</td>\n",
       "      <td>34.0</td>\n",
       "      <td>50.0</td>\n",
       "      <td>140.0</td>\n",
       "    </tr>\n",
       "    <tr>\n",
       "      <th>2</th>\n",
       "      <td>1-Mar-21</td>\n",
       "      <td>M1</td>\n",
       "      <td>Mumbai</td>\n",
       "      <td>Amaretto</td>\n",
       "      <td>145.0</td>\n",
       "      <td>-2.0</td>\n",
       "      <td>30.0</td>\n",
       "      <td>180.0</td>\n",
       "    </tr>\n",
       "    <tr>\n",
       "      <th>3</th>\n",
       "      <td>1-Apr-21</td>\n",
       "      <td>M1</td>\n",
       "      <td>Mumbai</td>\n",
       "      <td>Amaretto</td>\n",
       "      <td>45.0</td>\n",
       "      <td>11.0</td>\n",
       "      <td>20.0</td>\n",
       "      <td>40.0</td>\n",
       "    </tr>\n",
       "    <tr>\n",
       "      <th>4</th>\n",
       "      <td>1-May-21</td>\n",
       "      <td>M1</td>\n",
       "      <td>Mumbai</td>\n",
       "      <td>Amaretto</td>\n",
       "      <td>120.0</td>\n",
       "      <td>13.0</td>\n",
       "      <td>30.0</td>\n",
       "      <td>120.0</td>\n",
       "    </tr>\n",
       "  </tbody>\n",
       "</table>\n",
       "</div>"
      ],
      "text/plain": [
       "       Date Franchise    City   Product  Sales  Profit  Target Profit  \\\n",
       "0  1-Jan-21        M1  Mumbai  Amaretto  219.0    94.0          100.0   \n",
       "1  1-Feb-21        M1  Mumbai  Amaretto  140.0    34.0           50.0   \n",
       "2  1-Mar-21        M1  Mumbai  Amaretto  145.0    -2.0           30.0   \n",
       "3  1-Apr-21        M1  Mumbai  Amaretto   45.0    11.0           20.0   \n",
       "4  1-May-21        M1  Mumbai  Amaretto  120.0    13.0           30.0   \n",
       "\n",
       "   Target Sales  \n",
       "0         220.0  \n",
       "1         140.0  \n",
       "2         180.0  \n",
       "3          40.0  \n",
       "4         120.0  "
      ]
     },
     "execution_count": 61,
     "metadata": {},
     "output_type": "execute_result"
    }
   ],
   "source": [
    "# Final Code ------------------------------------------------------------\n",
    "import numpy as np\n",
    "import pandas as pd\n",
    "import matplotlib.pyplot as plt\n",
    "import seaborn as sns\n",
    "\n",
    "df = pd.read_csv(\"coffee_sales.csv\", header=3)\n",
    "\n",
    "df.dropna(axis = 1, how=\"all\", inplace=True)\n",
    "df.fillna({\"Target Profit\" : \"0\"}, inplace=True) \n",
    "\n",
    "trans_obj = str.maketrans(\"\", \"\", \"$,\")  # Note - use translate if more than 1 replace statements are needed\n",
    "df.Sales = df.Sales.str.translate(trans_obj).astype(float)\n",
    "df[\"Target Sales\"] = df[\"Target Sales\"].str.translate(trans_obj).astype(float)\n",
    "df.Profit = df.Profit.str.replace(\"$\", \"\").astype(float)\n",
    "df[\"Target Profit\"] = df[\"Target Profit\"].str.replace(\"$\", \"\").astype(float)\n",
    "\n",
    "df.head()"
   ]
  },
  {
   "cell_type": "markdown",
   "id": "28487602-6cfa-4d39-81f8-f85b38af6894",
   "metadata": {},
   "source": [
    "###### Ex. Find total avg sales (HINT - use mean() in Sales column)"
   ]
  },
  {
   "cell_type": "code",
   "execution_count": 64,
   "id": "6f5c2298-97b4-4732-8073-af07df9f1a51",
   "metadata": {},
   "outputs": [
    {
     "data": {
      "text/plain": [
       "192.99"
      ]
     },
     "execution_count": 64,
     "metadata": {},
     "output_type": "execute_result"
    }
   ],
   "source": [
    "float(np.round(df.Sales.mean(), 2))"
   ]
  },
  {
   "cell_type": "markdown",
   "id": "602d195a-3d7a-4dd8-835f-b454cd5d7c47",
   "metadata": {},
   "source": [
    "###### Ex. Find total profits generated by Product \"Amaretto\""
   ]
  },
  {
   "cell_type": "code",
   "execution_count": 67,
   "id": "c239a4cc-7460-4c03-a7cf-ed67b42b6736",
   "metadata": {},
   "outputs": [
    {
     "data": {
      "text/plain": [
       "np.float64(5915.0)"
      ]
     },
     "execution_count": 67,
     "metadata": {},
     "output_type": "execute_result"
    }
   ],
   "source": [
    "df[df.Product == \"Amaretto\"].Profit.sum()"
   ]
  },
  {
   "cell_type": "markdown",
   "id": "bde8bc75-1ef3-455f-b731-73d3b9176173",
   "metadata": {},
   "source": [
    "###### Ex. Find total profits generated by Product \"Amaretto\" and 'Caffe Latte'"
   ]
  },
  {
   "cell_type": "code",
   "execution_count": 71,
   "id": "5d3e66d5-d47d-4eb2-bf69-e25d87a641b9",
   "metadata": {},
   "outputs": [
    {
     "data": {
      "text/plain": [
       "np.float64(17290.0)"
      ]
     },
     "execution_count": 71,
     "metadata": {},
     "output_type": "execute_result"
    }
   ],
   "source": [
    "df[df.Product.isin((\"Amaretto\", 'Caffe Latte'))].Profit.sum()"
   ]
  },
  {
   "cell_type": "markdown",
   "id": "2b4cc7d7-5d93-4e9d-bb82-b3034d35f9df",
   "metadata": {},
   "source": [
    "###### Ex. Find total profits generated by Product \"Amaretto\" in City \"Mumbai\""
   ]
  },
  {
   "cell_type": "code",
   "execution_count": 73,
   "id": "54aad837-790a-4fbf-af2b-07374a1af62b",
   "metadata": {},
   "outputs": [
    {
     "data": {
      "text/plain": [
       "np.float64(5915.0)"
      ]
     },
     "execution_count": 73,
     "metadata": {},
     "output_type": "execute_result"
    }
   ],
   "source": [
    "df[(df.Product == \"Amaretto\") & (df.City == \"Mumbai\")].Profit.sum()"
   ]
  },
  {
   "cell_type": "code",
   "execution_count": 74,
   "id": "4c794620-cf66-498b-a366-75a3e7bcf993",
   "metadata": {},
   "outputs": [
    {
     "data": {
      "text/plain": [
       "np.float64(5915.0)"
      ]
     },
     "execution_count": 74,
     "metadata": {},
     "output_type": "execute_result"
    }
   ],
   "source": [
    "df[np.logical_and((df.Product == \"Amaretto\"),(df.City == \"Mumbai\"))].Profit.sum()"
   ]
  },
  {
   "cell_type": "markdown",
   "id": "4b4f97dc-00a0-465e-9f3f-38148e098a55",
   "metadata": {},
   "source": [
    "<br><br><br><br><br><br><br><br><br><br><br><br><br><br><br><br><br><br><br><br><br><br><br><br><br><br>"
   ]
  },
  {
   "cell_type": "markdown",
   "id": "bcafc8db-3f8a-49bc-bc7d-aaea1c8545c7",
   "metadata": {},
   "source": [
    "###### Converting date field"
   ]
  },
  {
   "cell_type": "code",
   "execution_count": null,
   "id": "c33ec719-496c-4f88-825c-1dbecc39c7a7",
   "metadata": {},
   "outputs": [],
   "source": []
  },
  {
   "cell_type": "markdown",
   "id": "daa540e2-f986-4874-93bd-6bc973d19a88",
   "metadata": {},
   "source": [
    "###### Ex. Create column for Target Status"
   ]
  },
  {
   "cell_type": "code",
   "execution_count": null,
   "id": "3e0e3703-2f9a-4230-a3fa-e531bf42641e",
   "metadata": {},
   "outputs": [],
   "source": []
  },
  {
   "cell_type": "markdown",
   "id": "3a78e97a-7c5f-4d61-80c1-b267f34db007",
   "metadata": {},
   "source": [
    "###### Ex. Visualise Target status on a bar chart"
   ]
  },
  {
   "cell_type": "code",
   "execution_count": null,
   "id": "23ce17a8-45fb-485f-8520-0b3e5ef44846",
   "metadata": {},
   "outputs": [],
   "source": []
  },
  {
   "cell_type": "markdown",
   "id": "0bc4b5c7-7951-47e1-850e-420cf3650b80",
   "metadata": {},
   "source": [
    "###### Ex. Visualise product-wise Sales"
   ]
  },
  {
   "cell_type": "code",
   "execution_count": null,
   "id": "cd30ef44-9b99-462f-ac46-d9e4f2793d8e",
   "metadata": {},
   "outputs": [],
   "source": []
  },
  {
   "cell_type": "markdown",
   "id": "55234250-62ba-4eed-9365-f35d57f91258",
   "metadata": {},
   "source": [
    "###### Ex. Display product-wise total sales across state Manipur in DESC Order. Find the product generating maximum sales."
   ]
  },
  {
   "cell_type": "code",
   "execution_count": null,
   "id": "b6583fbd-a643-4f02-a920-c40dbebb09d2",
   "metadata": {},
   "outputs": [],
   "source": []
  }
 ],
 "metadata": {
  "kernelspec": {
   "display_name": "Python 3 (ipykernel)",
   "language": "python",
   "name": "python3"
  },
  "language_info": {
   "codemirror_mode": {
    "name": "ipython",
    "version": 3
   },
   "file_extension": ".py",
   "mimetype": "text/x-python",
   "name": "python",
   "nbconvert_exporter": "python",
   "pygments_lexer": "ipython3",
   "version": "3.12.4"
  }
 },
 "nbformat": 4,
 "nbformat_minor": 5
}
