{
 "cells": [
  {
   "cell_type": "markdown",
   "id": "87c6fe79-3327-45e0-9a89-ab71c067898d",
   "metadata": {},
   "source": [
    "# Data Analytics and Visualization with Python\n",
    "\n",
    "### Learning Objective - \n",
    "\n",
    "- Descriptive Statistics\n",
    "- Visualizing Data\n",
    "    - Introduction to matplotlib library\n",
    "    - Anatomy of a figure\n",
    "    - Creating sub-plots\n",
    "    - Chart aesthetics\n",
    "- Visual Data Analytics\n",
    "    - Univariate Analysis\n",
    "        - count plots\n",
    "        - histograms and boxplot\n",
    "    - Bivariate Analysis\n",
    "        - scatter plot\n",
    "        - bar plot\n",
    "        - line charts\n",
    "        - pair plots, heatmaps\n",
    "- Create and publish interactive charts using plotly and Dash"
   ]
  },
  {
   "cell_type": "markdown",
   "id": "17d4de77-637a-4287-9774-37d34b112eca",
   "metadata": {},
   "source": [
    "### Final Code ------------------------------------------------------------"
   ]
  },
  {
   "cell_type": "code",
   "execution_count": null,
   "id": "ae8caa44-c53c-4eec-85ce-b3fdb628b3f2",
   "metadata": {},
   "outputs": [],
   "source": [
    "import numpy as np\n",
    "import pandas as pd\n",
    "import matplotlib.pyplot as plt\n",
    "import seaborn as sns\n",
    "\n",
    "plt.rcParams['figure.figsize'] = [3, 2]\n",
    "\n",
    "df = pd.read_csv(r\"./Datasets/coffee_sales.csv\", header=3)\n",
    "\n",
    "df.dropna(axis = 1, how=\"all\", inplace=True)\n",
    "df.fillna({\"Target Profit\" : \"0\"}, inplace=True) \n",
    "\n",
    "trans_obj = str.maketrans(\"\", \"\", \"$,\")  # Note - use translate if more than 1 replace statements are needed\n",
    "df.Sales = df.Sales.str.translate(trans_obj).astype(float)\n",
    "df[\"Target Sales\"] = df[\"Target Sales\"].str.translate(trans_obj).astype(float)\n",
    "df.Profit = df.Profit.str.replace(\"$\", \"\").astype(float)\n",
    "df[\"Target Profit\"] = df[\"Target Profit\"].str.replace(\"$\", \"\").astype(float)\n",
    "\n",
    "df[\"Sales Target Status\"] = np.where(df.Sales >= df[\"Target Sales\"], \"Achieved\", \"Not-Achieved\")\n",
    "df[\"Profit Target Status\"] = np.where(df.Profit >= df[\"Target Profit\"], \"Achieved\", \"Not-Achieved\")\n",
    "\n",
    "df[\"Date\"] = pd.to_datetime(df[\"Date\"], format = \"mixed\")\n",
    "df.insert(1, \"Year\", df.Date.dt.year)\n",
    "df.insert(2, \"Month\", df.Date.dt.month_name())\n",
    "\n",
    "df.head()"
   ]
  },
  {
   "cell_type": "markdown",
   "id": "959a87e2-3520-4dfc-9663-4753e1748a19",
   "metadata": {},
   "source": [
    "## Data Visualisation"
   ]
  },
  {
   "cell_type": "markdown",
   "id": "9e2cb990-9d48-4ceb-828d-0b99b3d9d1e7",
   "metadata": {},
   "source": [
    "### Primary Objects of matplotlib\n",
    "<img src = \"./images/figure.png\" align = left width = 300>\n",
    "<br><br><br><br><br><br><br><br>\n",
    "\n",
    "- The [figure] is the overall figure space that can contain one or more plots\n",
    "- The [axes] is the individual plots that are rendered within the figure"
   ]
  },
  {
   "cell_type": "markdown",
   "id": "0e0aff8c-0fde-4845-b57b-bcafae12d6f7",
   "metadata": {},
   "source": [
    "### Anatomy of a figure\n",
    "\n",
    "<img src = \"./images/figure_anatomy.jpg\" align = left width = 400>"
   ]
  },
  {
   "cell_type": "markdown",
   "id": "5d7d730f-636a-4c72-90fb-8e5d4389cb01",
   "metadata": {},
   "source": [
    "#### Dataset"
   ]
  },
  {
   "cell_type": "code",
   "execution_count": null,
   "id": "2265d69e-ce63-4f1c-9db3-88d0e9df9692",
   "metadata": {},
   "outputs": [],
   "source": [
    "import numpy as np\n",
    "import matplotlib.pyplot as plt\n",
    "dates = np.arange('2019-01', '2022-01', dtype='datetime64[M]')\n",
    "sales = np.array([42390, 77560, 77385, 76039, 42968, 53833, 47205, 68936, 51175, 48186, 71520, 66387, 62717, 52614, 42866, 64275, 44749, 68560,66258, 62221, 66303, 52428, 42300, 65645, 59215, 66944, 67519,46231, 79780, 59746, 59992, 70805, 64609, 72995, 60402, 76956])\n",
    "profits = np.array([ 7206.3 ,  8531.6 , 13155.45,  9885.07,  7304.56,  9689.94, 5664.6 , 11029.76,  6141.  ,  5300.46,  9297.6 , 11285.79, 7526.04,  5787.54,  6429.9 , 12212.25,  5369.88, 12340.8 , 12589.02,  6222.1 ,  7293.33,  8388.48,  6768.  , 11816.1 , 7697.95, 11380.48,  7427.09,  6934.65,  8775.8 ,  7169.52, 7199.04,  9204.65, 10337.44,  9489.35, 10268.34, 14621.64])"
   ]
  },
  {
   "cell_type": "markdown",
   "id": "2df25c86-b950-411e-9e6c-0db027d08189",
   "metadata": {},
   "source": [
    "### Line Chart"
   ]
  },
  {
   "cell_type": "code",
   "execution_count": null,
   "id": "91649beb-aa65-431b-becb-3cfa005d7b58",
   "metadata": {},
   "outputs": [],
   "source": [
    "fig = plt.figure(figsize=(10, 2))\n",
    "plt.plot(dates, sales, ls = \"-.\", c = \"Green\", marker = \"o\")\n",
    "plt.show()"
   ]
  },
  {
   "cell_type": "code",
   "execution_count": null,
   "id": "0e6cce26-8ca1-41b2-9cc5-8411b3b10f0c",
   "metadata": {},
   "outputs": [],
   "source": [
    "fig = plt.figure(figsize=(12,5))\n",
    "plt.plot(dates, sales, ls = \"-.\", c = \"Green\", marker = \"o\")\n",
    "plt.plot(dates, profits, ls = \"-.\", c = \"Orange\", marker = \"o\")\n",
    "\n",
    "plt.title(\"Sales and Profits over Months\", loc = \"left\", fontdict= {\"color\" : \"midnightblue\", \"fontsize\" : 14})\n",
    "plt.grid(visible=True, axis=\"y\", c = \"lightgrey\", alpha = 0.4)\n",
    "\n",
    "plt.yticks(range(0, sales.max() + 100, 5000))\n",
    "plt.xticks(dates, rotation = 60)\n",
    "\n",
    "plt.show()"
   ]
  },
  {
   "cell_type": "code",
   "execution_count": null,
   "id": "1d4b8aa5-be31-4b86-a411-a531f77364d6",
   "metadata": {},
   "outputs": [],
   "source": [
    "fig, ax = plt.subplots(figsize = (12, 5), nrows=2, sharex=True)\n",
    "\n",
    "ax[0].plot(dates, sales, ls = \"-.\", c = \"Green\", marker = \"o\")\n",
    "ax[1].plot(dates, profits, ls = \"-.\", c = \"Orange\", marker = \"o\")\n",
    "\n",
    "ax[0].set_title(\"Sales over Months\", loc = \"left\", fontdict= {\"color\" : \"midnightblue\", \"fontsize\" : 14})\n",
    "ax[1].set_title(\"Profits over Months\", loc = \"left\", fontdict= {\"color\" : \"midnightblue\", \"fontsize\" : 14})\n",
    "\n",
    "ax[0].grid(visible=True, axis=\"y\", c = \"lightgrey\", alpha = 0.4)\n",
    "ax[1].grid(visible=True, axis=\"y\", c = \"lightgrey\", alpha = 0.4)\n",
    "\n",
    "# ax[1].set_yticks(np.arange(0, profits.max() + 1000, 1000))\n",
    "ax[0].set_xticks([])\n",
    "\n",
    "plt.show()"
   ]
  },
  {
   "cell_type": "markdown",
   "id": "9ddd1cc7-0c22-4063-9531-727a44b17a32",
   "metadata": {},
   "source": [
    "#### Dataset using coffeesales"
   ]
  },
  {
   "cell_type": "code",
   "execution_count": null,
   "id": "7d2a6bc6-b133-4646-902f-edd89833327a",
   "metadata": {},
   "outputs": [],
   "source": [
    "data = df.groupby(\"Product\")[[\"Sales\", \"Profit\"]].sum()\n",
    "products = data.index\n",
    "sales = data.Sales\n",
    "profits = data.Profit"
   ]
  },
  {
   "cell_type": "markdown",
   "id": "0ccf09c8-0689-4d67-a333-0d4820cb692e",
   "metadata": {},
   "source": [
    "### Bar Chart"
   ]
  },
  {
   "cell_type": "code",
   "execution_count": null,
   "id": "134ef103-fa9b-413c-8130-2625bc68ece0",
   "metadata": {},
   "outputs": [],
   "source": [
    "plt.figure(figsize = (14, 2))\n",
    "\n",
    "plt.bar(products, sales, color = \"teal\", edgecolor = \"midnightblue\", width = 0.6)\n",
    "\n",
    "plt.xticks(fontsize = 8, rotation = 10)\n",
    "plt.yticks(fontsize = 8)\n",
    "\n",
    "plt.title(\"Product wise Sales\", loc = \"left\", fontdict= {\"color\" : \"midnightblue\", \"fontsize\" : 12})\n",
    "\n",
    "plt.axhline(sales.mean(), color = \"orange\", ls = \"--\", label = \"Average Sales\")\n",
    "\n",
    "plt.annotate(f\"Avg - {sales.mean().round()}\", xy = (0, sales.mean()))\n",
    "\n",
    "plt.annotate(f\"max sales\", xy = (sales.argmax(), sales.max()+ 10))\n",
    "\n",
    "plt.show()"
   ]
  },
  {
   "cell_type": "markdown",
   "id": "0ca624d7-ed36-44e9-81be-980645c5b963",
   "metadata": {},
   "source": [
    "### Sorted Bar Chart"
   ]
  },
  {
   "cell_type": "code",
   "execution_count": null,
   "id": "c241106c-c9de-48c6-9129-ee2d46fcf11d",
   "metadata": {},
   "outputs": [],
   "source": [
    "plt.figure(figsize = (14, 2))\n",
    "\n",
    "sort_ord = np.argsort(sales)[::-1]\n",
    "\n",
    "plt.bar(products[sort_ord], sales.iloc[sort_ord], color = \"teal\", edgecolor = \"midnightblue\", width = 0.6)\n",
    "\n",
    "plt.xticks(fontsize = 8, rotation = 10)\n",
    "plt.yticks(fontsize = 8)\n",
    "\n",
    "plt.title(\"Product wise Sales\", loc = \"left\", fontdict= {\"color\" : \"midnightblue\", \"fontsize\" : 12})\n",
    "\n",
    "plt.axhline(sales.mean(), color = \"orange\", ls = \"--\", label = \"Average Sales\")\n",
    "\n",
    "plt.annotate(f\"Avg - {sales.mean().round()}\", xy = (0, sales.mean()))\n",
    "\n",
    "plt.show()"
   ]
  },
  {
   "cell_type": "markdown",
   "id": "dc4c7667-a416-49b8-9cb6-d4950b107bb7",
   "metadata": {},
   "source": [
    "### Stacked Bar Chart"
   ]
  },
  {
   "cell_type": "code",
   "execution_count": null,
   "id": "50420c0f-6a93-4973-85b6-2a0b72c8a01c",
   "metadata": {},
   "outputs": [],
   "source": [
    "plt.figure(figsize = (14, 2))\n",
    "\n",
    "plt.bar(products, sales, color = \"teal\", edgecolor = \"midnightblue\", width = 0.6)\n",
    "plt.bar(products, profits, color = \"cyan\", edgecolor = \"midnightblue\", width = 0.6)\n",
    "\n",
    "plt.xticks(fontsize = 8, rotation = 10)\n",
    "plt.yticks(fontsize = 8)\n",
    "\n",
    "plt.title(\"Product wise Sales and Profits\", loc = \"left\", fontdict= {\"color\" : \"midnightblue\", \"fontsize\" : 12})\n",
    "plt.legend([\"Sales\", \"Profits\"])\n",
    "\n",
    "plt.show()"
   ]
  },
  {
   "cell_type": "markdown",
   "id": "3f5fa05d-ba19-4968-93d3-a5b90450d25d",
   "metadata": {},
   "source": [
    "### Side-by-Side Bar chart"
   ]
  },
  {
   "cell_type": "code",
   "execution_count": null,
   "id": "acc8ae3c-e3a7-40cf-9b5f-e87993d2ba32",
   "metadata": {},
   "outputs": [],
   "source": [
    "plt.figure(figsize = (14, 2))\n",
    "\n",
    "plt.bar(products, sales, color = \"teal\", edgecolor = \"midnightblue\", width = -0.4, align=\"edge\")\n",
    "plt.bar(products, profits, color = \"cyan\", edgecolor = \"midnightblue\", width = 0.4, align=\"edge\")\n",
    "\n",
    "plt.xticks(fontsize = 8, rotation = 10)\n",
    "plt.yticks(fontsize = 8)\n",
    "\n",
    "plt.title(\"Product wise Sales and Profits\", loc = \"left\", fontdict= {\"color\" : \"midnightblue\", \"fontsize\" : 12})\n",
    "plt.legend([\"Sales\", \"Profits\"])\n",
    "\n",
    "plt.show()"
   ]
  },
  {
   "cell_type": "markdown",
   "id": "2c0d38e0-0255-4ffb-ab28-ea10a4ddefe4",
   "metadata": {},
   "source": [
    "### Bullet Chart"
   ]
  },
  {
   "cell_type": "code",
   "execution_count": null,
   "id": "9019a57c-0425-487d-8ef4-6b7411fb0e4e",
   "metadata": {},
   "outputs": [],
   "source": [
    "data = df.groupby(\"Product\")[[\"Profit\", \"Target Profit\"]].sum()\n",
    "products = data.index\n",
    "profits = data.Profit\n",
    "t_profit = data[\"Target Profit\"]"
   ]
  },
  {
   "cell_type": "code",
   "execution_count": null,
   "id": "730b37f0-3996-4264-b25f-26819fc12de2",
   "metadata": {},
   "outputs": [],
   "source": [
    "colors = np.where(profits >= t_profit, \"yellowgreen\", \"lightcoral\")\n",
    "colors"
   ]
  },
  {
   "cell_type": "code",
   "execution_count": null,
   "id": "17851bf7-5db2-41fe-80f7-66d9efe95aa0",
   "metadata": {},
   "outputs": [],
   "source": [
    "plt.barh(products, profits, height = 0.6, color = colors, edgecolor = \"grey\")\n",
    "plt.plot(t_profit, products, marker = \"|\", markersize = 15, ls = \"\", c = \"navy\")"
   ]
  },
  {
   "cell_type": "markdown",
   "id": "b1ec604e-3813-4f89-a3b5-57ad25cb2ec0",
   "metadata": {},
   "source": [
    "## Visual Data Analytics"
   ]
  },
  {
   "cell_type": "markdown",
   "id": "3cec14fb-ec05-4a9c-b966-e9d5c813b256",
   "metadata": {},
   "source": [
    "### Univariate Analysis\n",
    "Univariate analysis is a statistical method used to describe and analyze data consisting of only one variable. It focuses on understanding the characteristics and distribution of a single variable without considering the relationship with other variables.\n",
    "\n",
    "- Descriptive Statistics\n",
    "- Frequency Distribution\n",
    "- Measures of Central Tendency\n",
    "- Measures of Dispersion\n",
    "- Visualization:\n",
    "    - Box plots: Displaying the distribution of data using quartiles.\n",
    "    - Histograms: Showing the frequency distribution of continuous variables.\n",
    "    - Bar charts: Displaying the frequency distribution of categorical variables.\n",
    "- Probability Distribution:\n",
    "  - Normal distribution: Assessing if the data follows a normal distribution using graphical methods or statistical tests."
   ]
  },
  {
   "cell_type": "markdown",
   "id": "a3af46ee-17a1-4303-a811-644f393d7496",
   "metadata": {},
   "source": [
    "#### Categorial variable "
   ]
  },
  {
   "cell_type": "markdown",
   "id": "fa1720e3-0104-4615-a566-a34e2f6fe085",
   "metadata": {},
   "source": [
    "###### Ex. Visualise Target status on a bar chart"
   ]
  },
  {
   "cell_type": "code",
   "execution_count": null,
   "id": "fe755bfd-ff0d-425e-b13b-e0d16d04feea",
   "metadata": {},
   "outputs": [],
   "source": [
    "df[\"Sales Target Status\"].value_counts()"
   ]
  },
  {
   "cell_type": "code",
   "execution_count": null,
   "id": "0b5a16c2-a629-43e7-abed-bfbe01bfe003",
   "metadata": {},
   "outputs": [],
   "source": [
    "data = np.round(df[\"Sales Target Status\"].value_counts(normalize=True) * 100, 2)\n",
    "data"
   ]
  },
  {
   "cell_type": "code",
   "execution_count": null,
   "id": "61a9ce0c-530a-4433-a0d2-7b920a7196d6",
   "metadata": {},
   "outputs": [],
   "source": [
    "_ = data.plot(kind = \"bar\", xlabel = \"\")\n",
    "plt.xticks(rotation = 0)\n",
    "plt.show()"
   ]
  },
  {
   "cell_type": "code",
   "execution_count": null,
   "id": "5026bf3c-c735-4a7f-988c-fb24f501e0f3",
   "metadata": {},
   "outputs": [],
   "source": [
    "# directly using seaborn\n",
    "_ = sns.countplot(data= df, x = \"Sales Target Status\")\n",
    "plt.ylabel(\"\")"
   ]
  },
  {
   "cell_type": "code",
   "execution_count": null,
   "id": "9b6fd0dc-5f99-47ec-8ddd-21952fe591a5",
   "metadata": {},
   "outputs": [],
   "source": [
    "# directly using seaborn\n",
    "ax = sns.countplot(data= df, hue = \"Sales Target Status\", x = \"City\")\n",
    "# ax.legend_.remove()\n",
    "ax.legend(fontsize = 'x-small')\n",
    "plt.xlabel(\"\", fontsize = 4)\n",
    "_ = ax.set_ylabel(\"\")"
   ]
  },
  {
   "cell_type": "markdown",
   "id": "d45e6bab-fd5d-45ff-b3cc-fe60aa4313db",
   "metadata": {},
   "source": [
    "### Numeric Variable\n",
    "\n",
    "Descriptive statistics deals with summarizing and describing the features of a dataset or sample. Descriptive statistics provides a summary of the main features of the data, including measures of central tendency, dispersion, shape, and relationships between variables.\n",
    "\n",
    "**Measures of Central Tendency:**\n",
    "\n",
    "    - Mean: The average value of the data points.\n",
    "    - Median: The middle value of the data when arranged in ascending order.\n",
    "    - Mode: The most frequently occurring value in the dataset.\n",
    "\n",
    "**Measures of Dispersion:**\n",
    "\n",
    "    - Range: The difference between the maximum and minimum values in the dataset.\n",
    "    - Variance: The average of the squared differences from the mean.\n",
    "    - Standard Deviation: The square root of the variance, representing the average deviation from the mean.\n",
    "\n",
    "**Measures of Shape:**\n",
    "\n",
    "    - Skewness: A measure of the asymmetry of the distribution.\n",
    "        - Positive skewness indicates a longer right tail and a concentration of data on the left side.\n",
    "        - Negative skewness indicates a longer left tail and a concentration of data on the right side.\n",
    "        - Skewness close to zero indicates approximate symmetry around the mean.\n",
    "\n",
    "    - Kurtosis: A measure of the \"peakedness\" or \"flatness\" of the distribution.\n",
    "        - Positive kurtosis indicates heavy tails and a sharp peak (leptokurtic).\n",
    "        - Negative kurtosis indicates light tails and a flat peak (platykurtic).\n",
    "        - A kurtosis of 0 indicates a distribution with similar tails to the normal distribution (mesokurtic).\n",
    "\n",
    "**Frequency Distribution:**\n",
    "\n",
    "    - Frequency table: A table that shows the frequency or count of each value in the dataset.\n",
    "    - Histogram: A graphical representation of the frequency distribution, showing the distribution of values in bins or intervals."
   ]
  },
  {
   "cell_type": "code",
   "execution_count": null,
   "id": "ac65f649-03f0-4e80-aa4c-0c02a559d711",
   "metadata": {},
   "outputs": [],
   "source": [
    "data = df[[\"Sales\", \"Profit\"]]"
   ]
  },
  {
   "cell_type": "markdown",
   "id": "0b96fa54-e4f8-408c-ab83-24b42995c620",
   "metadata": {},
   "source": [
    "#### df.describe()"
   ]
  },
  {
   "cell_type": "code",
   "execution_count": null,
   "id": "343860cf-2c23-43ab-803c-badcd4549f8f",
   "metadata": {},
   "outputs": [],
   "source": [
    "data.describe().round(2)"
   ]
  },
  {
   "cell_type": "markdown",
   "id": "8006dcd5-3756-44c2-9e4a-e20bd46a9645",
   "metadata": {},
   "source": [
    "#### Histogram"
   ]
  },
  {
   "cell_type": "code",
   "execution_count": null,
   "id": "8ac06d43-1c94-42f1-a7f2-711a3dc2415c",
   "metadata": {},
   "outputs": [],
   "source": [
    "_ = plt.hist(df.Sales)"
   ]
  },
  {
   "cell_type": "code",
   "execution_count": null,
   "id": "ef8f46e6-7c23-49a6-ad24-7ead5f8edffa",
   "metadata": {},
   "outputs": [],
   "source": [
    "_ = data.plot(kind = \"hist\", y = \"Sales\")"
   ]
  },
  {
   "cell_type": "code",
   "execution_count": null,
   "id": "26e9c7ec-6add-46b4-b307-8ea30d7bd531",
   "metadata": {},
   "outputs": [],
   "source": [
    "_ = sns.histplot(data, x = \"Sales\", kde = True)\n",
    "plt.axvline(data.Sales.mean(), color = \"orange\", label = \"Average\")\n",
    "plt.axvline(np.median(data.Sales), color = \"green\", label = \"Median\")\n",
    "plt.legend()"
   ]
  },
  {
   "cell_type": "code",
   "execution_count": null,
   "id": "5b0f8972-e83e-4d70-bdf5-5e975510dc57",
   "metadata": {},
   "outputs": [],
   "source": [
    "from scipy import stats\n",
    "stats.kurtosis(data.Sales)"
   ]
  },
  {
   "cell_type": "code",
   "execution_count": null,
   "id": "071d7bf6-8f45-4bd2-a036-60d05de633d1",
   "metadata": {},
   "outputs": [],
   "source": [
    "stats.skew(data.Sales)"
   ]
  },
  {
   "cell_type": "code",
   "execution_count": null,
   "id": "492fd138-ab9b-447c-80f2-9caf52a684ca",
   "metadata": {},
   "outputs": [],
   "source": [
    "_ = sns.histplot(data, x = \"Profit\", kde = True)\n",
    "# plt.axvline(data.Profit.mean(), color = \"orange\", label = \"Average\")\n",
    "# plt.axvline(np.median(data.Profit), color = \"green\", label = \"Median\")\n",
    "# plt.legend()"
   ]
  },
  {
   "cell_type": "code",
   "execution_count": null,
   "id": "908fe160-a398-4192-a1ec-0a8bc6ca0c5c",
   "metadata": {},
   "outputs": [],
   "source": [
    "stats.kurtosis(data.Profit)"
   ]
  },
  {
   "cell_type": "code",
   "execution_count": null,
   "id": "a274668c-5513-4f69-b4ae-7872271c288d",
   "metadata": {},
   "outputs": [],
   "source": [
    "stats.skew(data.Profit)"
   ]
  },
  {
   "cell_type": "markdown",
   "id": "6cdfd4dc-1880-4a45-b2f4-03bcc07eea59",
   "metadata": {},
   "source": [
    "### Handling Outliers - \n",
    "\n",
    "#### `Z-Score Method:`\n",
    "\n",
    "- The z-score method involves calculating the z-score for each data point, which represents the number of standard deviations away from the mean.\n",
    "Data points with z-scores beyond a certain threshold (e.g., |z-score| > 3) are considered outliers and can be removed or treated separately.\n",
    "The z-score method is sensitive to the mean and standard deviation of the data, and it assumes that the data is normally distributed.\n",
    "This method is useful when the data is approximately normally distributed and when the goal is to identify outliers based on their deviation from the mean.\n",
    "\n",
    "#### `IQR Method:`\n",
    "\n",
    "- The IQR method involves calculating the interquartile range (IQR), which is the difference between the third quartile (Q3) and the first quartile (Q1) of the data.\n",
    "Outliers are defined as data points that fall below Q1 - 1.5 * IQR or above Q3 + 1.5 * IQR.\n",
    "The IQR method is robust to outliers and does not assume any specific distribution of the data.\n",
    "This method is useful when the data is skewed or not normally distributed, as it focuses on the middle 50% of the data and is less influenced by extreme values.\n",
    "In general, if the data is approximately normally distributed and the goal is to identify outliers based on their deviation from the mean, the z-score method may be more appropriate. On the other hand, if the data is skewed or not normally distributed, or if the goal is to identify outliers based on their relative position within the dataset, the IQR method may be a better choice."
   ]
  },
  {
   "cell_type": "markdown",
   "id": "192cc809-5744-4529-8002-fa9cb8d2ab7e",
   "metadata": {},
   "source": [
    "#### Box and Whisker Plot"
   ]
  },
  {
   "cell_type": "code",
   "execution_count": null,
   "id": "4eae11e4-1284-4b00-9ace-4c570556a9bd",
   "metadata": {},
   "outputs": [],
   "source": [
    "_ = sns.boxplot(data, y = \"Sales\")"
   ]
  },
  {
   "cell_type": "code",
   "execution_count": null,
   "id": "2eaa856f-b6cb-4ce0-b1b3-b264036c6b57",
   "metadata": {},
   "outputs": [],
   "source": [
    "median = np.median(df.Sales)\n",
    "Q1 = np.percentile(df.Sales, 25)\n",
    "Q3 = np.percentile(df.Sales, 75)\n",
    "\n",
    "IQR = Q3 - Q1\n",
    "min_w = Q1 - 1.5 * IQR\n",
    "max_w = Q3 + 1.5 * IQR"
   ]
  },
  {
   "cell_type": "markdown",
   "id": "7f90de1a-8e3d-4572-9a33-ca5db5cca797",
   "metadata": {},
   "source": [
    "###### Ex. Find number of outliers in Sales column using IQR method"
   ]
  },
  {
   "cell_type": "code",
   "execution_count": null,
   "id": "f3eb56d4-53ed-4e83-bdff-3dcff01efb66",
   "metadata": {},
   "outputs": [],
   "source": [
    "sum(df.Sales > max_w)"
   ]
  },
  {
   "cell_type": "code",
   "execution_count": null,
   "id": "260317af-f844-40a3-9adf-0ab7c77a048b",
   "metadata": {},
   "outputs": [],
   "source": [
    "_ = sns.boxplot(data, y = \"Profit\")"
   ]
  },
  {
   "cell_type": "code",
   "execution_count": null,
   "id": "65904738-faa3-4e93-b2b1-5f9920958182",
   "metadata": {},
   "outputs": [],
   "source": [
    "median = np.median(df.Profit)\n",
    "Q1 = np.percentile(df.Profit, 25)\n",
    "Q3 = np.percentile(df.Profit, 75)\n",
    "\n",
    "IQR = Q3 - Q1\n",
    "min_w = Q1 - 1.5 * IQR\n",
    "max_w = Q3 + 1.5 * IQR"
   ]
  },
  {
   "cell_type": "code",
   "execution_count": null,
   "id": "7f775c24-9e23-488e-a166-c7c49315ba22",
   "metadata": {},
   "outputs": [],
   "source": [
    "sum(~df.Profit.between(min_w, max_w))"
   ]
  },
  {
   "cell_type": "markdown",
   "id": "a4e3498c-548f-46c1-b356-ea192ee6255e",
   "metadata": {},
   "source": [
    "#### Z-Scores"
   ]
  },
  {
   "cell_type": "markdown",
   "id": "95af74a9-075b-4c17-889f-2e84b705dbf9",
   "metadata": {},
   "source": [
    "If data is normally distributed - \n",
    "\n",
    "- 68% of data will be have zscore = 1 or will 1 std away from the mean.\n",
    "- 95% of daa will be 2 std away from the mean\n",
    "- 99.7% of data will be 3 std away from mean"
   ]
  },
  {
   "cell_type": "code",
   "execution_count": null,
   "id": "a261f36d-5abf-4d2a-bce7-dab7f88923ad",
   "metadata": {},
   "outputs": [],
   "source": [
    "# dataset consists of weights children in the age group of 0 to 10 years\n",
    "weights = np.array([20.8,15.3,23.2,15.5,17.5,27.3,23.3,20.5,16.4,17.4,22.6,20.8,16.7,29.1,14.2,18.5,17.6,17.1,18.2,26.0,25.6,19.1,17.8,21.6,19.6,28.4,19.4,22.8,25.9,27.1,20.8,21.9,15.4,30.2,23.0,25.0,24.0,17.1,18.8,25.8,23.2,14.9,20.4,15.0,12.3,17.6,10.3,12.1,25.8,21.9,9.9,24.8,17.9,22.0,27.6,21.7,26.3,19.9,16.6,17.8,8.0,21.5,17.9,33.6,20.4,21.9,19.8,15.3,25.6,24.7,10.6,22.1,18.8,9.8,14.9,18.7,27.6,21.2,25.1,21.9,22.1,19.6,10.4,17.2,18.3,21.2,21.1,21.0,19.1,14.8,19.2,18.3,22.1,14.1,19.3,16.2,25.6,14.8,22.3,25.0,20.8,21.2,16.6,15.0,15.6,24.7,26.1,18.1,14.1,25.5,21.4,32.7,13.8,27.4,15.8,18.4,21.3,27.5,15.8,27.2,26.9,16.2,22.6,15.3,22.5,26.6,24.7,28.4,28.0,19.9,9.9,16.5,19.5,11.7,27.9,28.1,21.1,20.0,14.5,25.9,13.3,15.8,21.3,10.7,14.6,19.9,21.6,26.6,26.0,23.7,20.5,11.8,15.6,14.9,24.6,20.9,24.5,26.8,25.3,30.9,26.1,14.9,17.9,18.5,25.7,16.4,8.2,24.1,19.5,13.1,17.6,13.4,24.4,16.4,19.9,12.9,14.3,25.4,15.4,17.7,17.3,18.7,16.1,7.4,18.4,16.2,18.7,19.8,25.6,23.7,22.5,20.5,14.9,25.0,4.7,6.8,21.8,22.2,24.4,13.4,32.1,26.6,27.2,17.8,19.6,16.8,14.4,24.9,12.6,15.0,15.4,10.1,12.9,15.9,22.3,15.0,24.4,21.0,17.2,25.2,15.6,24.6,24.9,13.6,10.3,25.6,18.3,25.1,18.1,20.2,29.1,25.7,14.9,11.4,19.2,21.5,13.9,19.5,19.1,23.0,26.8,14.8,24.4,14.7,24.3,24.5,19.9,12.1,21.2,16.4,19.5,25.8,8.5,19.8,23.4,21.3,14.7,17.9,15.7,14.9,5.2,3.8,31.5,17.4,16.0,20.7,18.4,8.1,22.9,32.8,19.0,33.0,26.0,14.2,18.4,15.1,29.5,13.9,5.1,28.1,18.2,10.5,27.8,19.4,13.1,21.9,18.6,11.0,19.7,20.2,20.1,17.6,21.6,21.2,30.0,26.1,20.5,22.8,20.5,19.6,18.0,19.8,21.8,7.0,21.4,22.5,18.9,15.1,22.0,25.5,11.1,15.4,21.5,13.5,11.2,19.3,25.5,20.2,18.3,15.3,40.3,22.1,23.2,17.1,19.4,15.3,28.6,23.0,19.4,16.7,20.9,21.1,15.9,29.6,17.0,19.0,20.8,20.4,9.8,24.0,15.2,26.2,22.0,21.4,16.2,29.2,21.4,28.9,16.9,21.9,11.2,19.0,21.2,20.8,9.3,12.5,26.9,10.7,18.9,17.5,23.3,12.5,13.4,26.3,23.0,21.8,25.6,20.7,18.0,32.5,25.6,8.4,19.8,24.5,18.0,24.7,21.3,12.9,21.6,29.1,25.8,26.4,27.0,25.6,19.0,20.0,10.4,17.5,19.5,17.5,21.1,19.6,23.1,18.2,27.0,18.5,19.3,25.4,20.8,20.8,20.6,20.4,23.1,17.6,18.7,16.2,18.9,15.2,22.5,10.0,21.1,29.3,17.8,27.1,16.8,18.0,28.3,16.5,19.8,16.7,23.2,23.6,18.5,29.8,24.2,22.4,29.3,29.3,21.5,15.5,23.0,12.8,20.8,11.5,20.0,15.2,18.7,17.2,22.5,13.5,13.1,17.6,12.1,23.2,18.0,24.2,7.3,17.0,17.0,22.7,22.1,18.0,15.6,13.9,17.7,14.7,26.1,12.2,20.3,17.8,16.5,10.2,18.2,22.2,26.3,26.6,19.2,19.5,14.3,15.6,13.9,20.2,11.6,31.2,6.3,23.4,21.1,22.0,8.5,11.5,19.3,17.7,11.9,14.8,16.9,16.1,13.0,17.9,22.0,14.2,13.9,25.4,21.1,16.3,16.4,19.3,18.3,23.0,27.4,24.2,14.9,12.7,16.7,17.8,19.5,14.9,23.9,15.2,25.4,22.9,25.2,12.7,26.0,26.7,15.8,24.9,24.4,15.5,20.0,7.8,20.6,19.0,29.8,14.1,14.1,17.8,24.9,20.7,19.8,24.2,16.7,21.3,23.7,20.9,23.6,25.3,9.9,21.7,16.7,10.3,18.9,25.2,12.7,27.4,21.4,23.0,11.8,22.1,13.0,20.0,27.2,19.8,16.9,18.8,25.0,9.0,19.0,11.1,19.6,24.0,29.3,20.7,10.7,26.9,18.6,21.5,26.2,21.5,27.9,22.1,25.1,27.9,18.9,26.4,20.0,25.6,27.5,17.7,18.9,27.0,14.9,27.6,19.6,18.1,19.2,20.2,16.4,16.6,14.1,8.9,17.6,17.3,21.0,14.3,18.7,19.9,12.3,24.4,23.3,25.1,27.9,15.1,18.3,23.2,17.8,15.5,22.0,23.0,20.4,15.5,22.8,19.5,22.2,22.3,25.1,15.0,19.9,23.8,18.8,17.0,7.9,24.0,31.4,17.6,27.4,28.1,17.9,18.3,17.3,21.6,17.8,22.4,19.2,22.8,21.4,19.1,22.4,29.4,13.6,15.0,28.8,18.2,25.8,15.1,23.6,12.2,10.1,15.4,27.0,17.2,11.6,20.8,18.8,20.4,18.1,20.9,31.1,19.0,18.5,17.9,23.1,32.0,21.7,23.4,17.1,19.0,18.1,19.3,18.8,25.8,19.8,22.1,15.8,15.9,21.3,18.4,17.8,23.1,22.2,15.3,20.0,20.8,30.2,24.0,12.6,9.2,21.7,19.8,16.6,16.5,18.0,21.1,10.0,23.5,26.9,23.7,16.8,12.7,29.8,17.9,18.6,19.9,23.6,26.4,18.2,18.1,19.2,15.3,19.4,20.2,33.2,26.2,26.9,15.3,18.9,18.3,27.6,29.0,22.5,30.2,22.8,13.8,21.4,27.3,25.1,26.7,7.9,27.3,21.9,15.6,18.1,19.9,23.0,22.9,15.0,16.5,18.9,24.8,4.9,16.7,20.2,7.9,19.3,16.1,22.5,27.4,29.6,18.7,21.9,9.9,24.6,10.1,21.5,20.6,11.4,14.0,18.4,6.5,12.8,25.5,19.5,14.6,20.5,18.9,14.8,21.7,17.3,33.1,23.1,25.1,30.2,17.0,13.2,29.2,14.8,13.5,22.3,9.0,19.2,19.1,20.4,14.2,20.6,19.3,27.6,21.4,15.5,23.4,13.2,12.1,23.2,33.8,17.5,19.1,23.2,12.6,24.6,14.6,19.5,20.1,13.4,12.4,14.6,16.8,27.5,19.5,11.5,15.4,24.0,21.1,21.8,29.1,18.9,21.3,18.9,20.1,13.7,19.7,17.0,34.0,24.0,16.9,19.3,19.9,19.4,19.3,21.5,20.8,20.1,27.1,23.5,22.9,19.4,14.8,28.6,23.2,8.7,30.1,19.1,15.1,22.3,17.4,23.8,18.1,20.4,23.1,22.4,13.7,25.5,25.9,21.3,21.6,21.4,29.7,18.1,10.3,23.6,21.0,13.1,10.6,20.8,21.7,19.4,21.4,25.1,16.6,11.1,13.8,21.1,22.0,20.8,19.1,24.4,15.2,25.1,19.2,10.5,21.8,17.5,19.6,8.2,22.1,21.8,13.6,15.1,28.4,22.0,28.6,25.3,29.3,19.1,20.8,10.8,23.6,13.5,23.2,16.9,22.9,21.3,21.8,31.3,21.1,17.1,25.5,26.1,19.2,19.9,26.4,34.9,17.4,24.2,17.5,21.7,11.3,4.9,21.3,17.2,15.6,22.4,28.2,22.3,21.3,20.5,18.4,17.5,9.7,21.4,12.8,20.0,20.7,16.1,26.2,20.9,19.2,23.6,22.4,31.7,22.5,20.3,13.8,23.3,17.4,3.0,16.6,17.1,27.8,17.4,13.7,14.1,26.4,23.9,21.2,27.4,9.9,18.7,17.0,21.1,22.9,8.7,19.1,25.1,21.0,22.3,21.5,19.6,17.6,22.7,14.7,11.5,28.6,19.9,13.5,27.3,19.6,18.7,14.0,11.6,15.0,26.5,21.7,22.1,5.7,18.3,23.4,19.5,15.8,18.6,19.3,27.0,21.7,21.9,20.7,13.5,29.7,22.3,24.0,31.1,23.9,15.7,19.6])\n",
    "sns.histplot(weights, kde = True)"
   ]
  },
  {
   "cell_type": "code",
   "execution_count": null,
   "id": "a8cffa57-c3d8-479a-aee7-cbe0027e4929",
   "metadata": {},
   "outputs": [],
   "source": [
    "weights.mean()"
   ]
  },
  {
   "cell_type": "code",
   "execution_count": null,
   "id": "8c9e6cc4-a778-4dfe-90df-62d8d6fca5b9",
   "metadata": {},
   "outputs": [],
   "source": [
    "weights.std()"
   ]
  },
  {
   "cell_type": "code",
   "execution_count": null,
   "id": "71eaa4d3-7cd6-4a02-8a73-1b93c1164073",
   "metadata": {},
   "outputs": [],
   "source": [
    "scores = stats.zscore(weights)\n",
    "sns.histplot(scores, kde = True)"
   ]
  },
  {
   "cell_type": "code",
   "execution_count": null,
   "id": "953ca7cd-f139-4461-91d4-e5bcd4e456f2",
   "metadata": {},
   "outputs": [],
   "source": [
    "stats.skew(weights)"
   ]
  },
  {
   "cell_type": "code",
   "execution_count": null,
   "id": "d082f62a-cfc3-47d1-b389-c70f147eab06",
   "metadata": {},
   "outputs": [],
   "source": [
    "stats.kurtosis(weights)"
   ]
  },
  {
   "cell_type": "markdown",
   "id": "61c5ec59-43f3-4288-85a2-546d82908115",
   "metadata": {},
   "source": [
    "#### Calculating z-scores for Sales"
   ]
  },
  {
   "cell_type": "code",
   "execution_count": null,
   "id": "8254adb0-67b8-4d17-bdea-f52f1da21cfb",
   "metadata": {},
   "outputs": [],
   "source": [
    "zscores = stats.zscore(df.Sales)\n",
    "sns.histplot(zscores, kde = True)"
   ]
  },
  {
   "cell_type": "code",
   "execution_count": null,
   "id": "813f6849-7a35-4f3f-89f3-627cec41531a",
   "metadata": {},
   "outputs": [],
   "source": [
    "# dataset consists of Salaries of employees in an organisation\n",
    "salaries = np.array([29756,20014,20347,57214,41327,40209,93390,122004,17725,47210,44386,48407,16837,83731,9130,66723,72525,57347,10941,18726,8913,59251,13090,37983,134656,45499,59533,82998,31440,11672,16295,30676,21822,35263,27340,65522,23380,11662,7066,22403,41230,46693,22478,82491,7347,16263,72672,20522,38409,30175,31383,98820,13605,45096,12397,90988,6602,29786,102559,31790,29768,50085,22649,24426,4059,95210,68657,17799,37370,46160,35133,40969,57201,54757,17973,13610,46004,91341,24474,48005,9473,10277,71287,9383,36492,104352,13473,51293,51911,10026,39992,125885,44462,76531,41512,47267,33231,14180,44474,55702,39554,8359,51892,98574,43638,90568,40508,34129,98497,74784,63383,47197,83519,26458,38642,9629,18404,47324,15793,120345,61126,64613,57964,47582,77944,27082,51891,98126,69008,23284,49785,72406,56418,36769,58715,42999,47333,45733,141091,3848,57584,48356,95301,95269,49894,101380,44028,54577,71055,32066,26596,66653,3179,44484,62889,62952,50903,74656,50733,38180,59410,105003,73854,33579,150293,26348,6769,26315,53038,35766,50517,64714,27523,26867,46607,9882,60052,46653,42143,37371,14475,103629,55402,6149,65128,32861,27603,75553,35641,21457,106916,50369,37731,6473,73858,7716,21144,34340,27917,18150,49270,16344,84532,28616,18452,84678,17990,26463,13671,70005,26237,7245,16941,64383,3317,7275,26981,12600,36983,40054,7283,82140,65120,8259,44235,30682,68578,80737,14009,88942,48374,43148,11447,32203,67168,50149,8607,9680,35442,47306,67316,52503,89884,18337,11798,40659,90852,25479,4737,107231,40006,34020,61695,12128,14126,71024,42150,54591,93625,23809,9698,50910,75967,36494,53497,28006,16650,50352,42133,10915,50698,19962,30772,23430,75790,72083,162101,75728,60565,40074,58299,18280,128972,76801,38314,12744,25607,22188,31862,15955,31175,11044,44390,49677,33251,85617,81684,48054,63108,33461,39505,51449,47547,49199,152777,49820,23147,35010,44921,39633,16546,35436,32229,28603,31804,21668,102866,58514,140647,22149,26732,88552,77813,75665,38038,123394,9457,28241,52657,9075,148287,70362,27398,18672,19003,17600,114609,4318,19729,23148,32015,87090,5342,56550,38458,5400,50686,46353,14777,19302,16606,21645,37117,22488,5465,28650,57321,34736,43956,37151,9776,37461,17631,98557,18773,15927,62892,35395,23658,27429,22496,60550,36644,38050,79320,7934,30101,71573,14389,4701,31291,11384,39725,123530,44408,58972,95799,10389,46232,3432,40560,35984,4665,169950,111402,18065,21540,70358,51973,26344,101435,5668,28783,6701,64979,30591,53626,89555,54550,47720,72312,32532,81224,32367,12856,45452,23288,68436,11028,48698,59988,25334,12898,76129,76496,66076,28330,66192,34221,24405,81851,52335,38502,25430,29421,7258,23734,12534,60625,23697,17543,35830,5033,17253,27189,48127,91649,58796,46586,42569,40202,70022,3922,41658,66536,67928,13621,71191,63947,89954,7543,20366,73226,55216,63823,20147,28646,62441,10910,21883,40687,5770,12349,59303,82027,45440,12710,126532,87569,69111,27004,13098,37670,125784,37616,46404,36971,20823,44255,53184,53752,9362,16464,13631,24283,57198,27205,60289,35590,21193,59034,71649,40198,22347,37446,30613,39731,23986,65414,6705,23140,42971,9792,23886,16397,17598,42024,32014,78351,31432,3978,34883,19845,10204,56595,25611,58573,31771,60213,24678,85938,22206,27750,43462,24977,22131,65617,70257,71995,75183,106608,54436,44381,61439,41163,81099,34095,36953,14703,23992,105384,20334,34145,48786,72804,71943,32757,77178,6381,77041,85234,31634,62231,7004,66194,23721,18122,82066,43339,13417,28110,26647,11703,160005,55765,78251,35519,22708,66840,6126,37952,31632,55294,13842,57847,43009,57445,41641,13437,41892,8126,55609,71439,65768,3032,12225,16758,12150,110890,58822,80581,12690,69074,49169,118185,9745,24482,35611,21100,13245,25269,26177,60738,119320,13615,120677,36560,14048,16249,73591,11789,42419,8691,44373,5698,38758,39244,36214,7654,26381,42371,42425,5167,38173,28250,11362,41671,38101,22759,29654,16846,42528,32035,51949,34841,65641,94153,55081,42157,53629,5482,6064,33333,53055,38653,54655,25486,28830,18681,38431,89032,38939,44533,44382,7073,93080,39698,68653,14900,4180,26923,27360,30629,33018,23166,4915,50098,31775,14625,48831,53413,50677,16354,24128,49869,23038,53312,43846,11263,19507,11322,86895,60729,144564,33429,36964,4437,48013,39779,71605,45697,20501,3059,39338,3228,22719,37974,72431,8486,24363,19558,64046,35799,20259,79873,13544,36404,55886,13904,42955,43750,17743,107390,86058,40137,65042,29084,8999,6357,29914,45867,75705,19543,64725,60567,58452,5015,50256,60877,91907,42209,13678,7797,23545,65227,86909,18614,12483,34314,52497,28754,112096,30756,16519,18075,9958,14076,16114,5200,40241,14275,53117,50561,27253,3998,85851,32716,44901,40698,42272,67106,73621,23828,50619,64147,89432,67240,119266,15347,50315,39374,27347,21786,7037,33320,9277,14225,25474,50546,61235,64796,38341,46464,38388,53785,8315,29782,35079,5943,9616,73662,52409,28236,40773,84419,49739,8678,46548,16583,15864,5920,42891,6635,91882,54534,32013,105413,11681,18153,98213,60754,53642,40221,43931,60076,9481,17046,26098,22609,21386,2797,11266,59378,57464,46271,10182,53724,89160,33549,19557,8022,43213,62795,42025,74820,49326,55701,65268,49257,38526,47121,32407,100592,21980,10691,10664,13298,58489,81011,24481,30354,5334,11554,62781,80241,17457,13682,12911,32340,54094,4987,15562,19126,58105,62497,34333,74015,78119,27715,20098,37580,14200,24208,36266,68885,66174,3965,143792,35892,43824,14009,7294,69932,11540,31644,55554,6756,69754,65940,26128,88712,11048,14382,34369,3908,30339,9290,22745,49669,93604,62655,50036,60244,52406,44821,37915,4894,38413,44612,19168,26668,20326,45231,12448,35082,121782,4863,7291,24332,42551,28462,67887,21226,41026,137990,53668,40922,15485,21118,118903,77715,24519,58873,61054,25674,2960,30624,103189,48284,40536,56053,37084,50773,11615,83270,4311,30367,6372,56358,14518,10602,35857,93798,51500,69148,51610,27676,16157,92788,4395,23687,11944,57418,71058,37037,23290,34201,84364,68400,24135,18615,15050,113480,83720,52761,26031,43187,11278,3710,27465,97386,3393,65371,5707,106125,46278,12099,17823,39132,34422])\n",
    "print(f\"Mean - {np.mean(salaries)}\")\n",
    "print(f\"Median - {np.median(salaries)}\")\n",
    "print(f\"Mode - {stats.mode(salaries)}\")\n",
    "print(f\"Range - {np.min(salaries)} - {np.max(salaries)}\")\n",
    "print(f\"Standard Deviation - {np.std(salaries)}\")\n",
    "print(f\"skewness - {stats.skew(salaries)}\")\n",
    "print(f\"kurtosis - {stats.kurtosis(salaries)}\")\n",
    "\n",
    "sns.histplot(x = salaries, kde = True)\n",
    "plt.axvline(salaries.mean(), color = \"red\")\n",
    "_ = plt.axvline(np.median(salaries), color = \"Green\")"
   ]
  },
  {
   "cell_type": "code",
   "execution_count": null,
   "id": "194271df-cf67-4a16-901e-242517b4b0a1",
   "metadata": {},
   "outputs": [],
   "source": [
    "# dataset consists of life-expectancy data \n",
    "life_expectancy = np.array([52, 61, 58, 75, 74, 77, 58, 74, 54, 65, 67, 75, 74, 70, 36, 65, 35,55, 64, 28, 46, 52, 75, 42, 64, 75, 44, 65, 58, 65, 45, 73, 79, 48,55, 65, 53, 66, 56, 40, 76, 52, 77, 63, 74, 53, 22, 43, 33, 75, 60,58, 44, 69, 73, 36, 74, 72, 65, 56, 67, 68, 56, 67, 62, 59, 68, 53,59, 61, 59, 77, 76, 70, 78, 74, 64, 15, 42, 65, 70, 65, 64, 67, 65,66, 25, 65, 63, 75, 78, 63, 81, 80, 82, 66, 42, 26, 64, 72, 59, 78,69, 73, 79, 65, 60, 39, 64, 44, 77, 74, 42, 13, 73, 64, 65, 75, 78,72, 49, 75, 65, 59, 40, 70, 31, 58, 61, 79, 56, 67, 79, 61, 48, 68,52, 79, 70, 70, 59, 53, 75, 63, 31, 25, 63, 79, 60, 77, 77, 64, 33,52, 64, 40, 59, 80, 36, 64, 61, 54, 73, 21, 67, 45, 77, 78, 56, 32,81, 69, 82, 33, 16, 41, 79, 34, 77, 71, 74, 73, 44, 33, 59, 74, 43,67, 63, 73, 58, 59, 65, 55, 64, 76, 71, 60, 79, 76, 62, 50, 42, 72,60, 77, 44, 72, 54, 58, 56, 40, 61, 25, 47, 66, 74, 79, 62, 69, 22,67, 71, 40, 74, 80, 45, 68, 64, 55, 48, 52, 48, 49, 60, 62, 57, 23,67, 72, 76, 69, 56, 67, 58, 40, 78, 50, 53, 73, 66, 69, 73, 73, 37,60, 65, 60, 60, 68, 50, 33, 68, 24, 79, 52, 78, 30, 58, 81, 72, 79,75, 52, 51, 74, 66, 65, 41, 53, 57, 76, 63, 64, 48, 48, 77, 52, 60,61, 52, 39, 71, 26, 54, 68, 77, 64, 67, 62, 40, 67, 66, 47, 33, 69,74, 76, 62, 69, 54, 67, 33, 71, 56, 41, 79, 37, 64, 37, 70, 49, 60,74, 79, 65, 79, 79, 75, 78, 72, 76, 31, 70, 24, 59, 28, 78, 61, 75,40, 51, 74, 53, 72, 71, 55, 67, 39, 60, 67, 60, 72, 81, 75, 52, 63,66, 38, 57, 58, 71, 40, 72, 70,  6, 81, 41, 79, 46, 28, 48, 50, 65,76, 75, 32, 75, 70, 46, 73, 61, 48, 55, 41, 52, 48, 53, 62, 65, 69,18, 79, 78, 66, 65, 72, 65, 69, 69, 75, 83, 62, 78, 51, 46, 47, 46,82, 76, 64, 54, 72, 62, 47, 59, 63, 72, 55, 63, 78, 68, 73, 82, 61,47, 52, 78, 75, 42, 53, 65, 60, 48, 59, 52, 58, 76, 63, 76, 58, 67,40, 69, 74, 48, 60, 56, 75, 75, 54, 26, 50, 67, 59, 50, 70, 70, 62,38, 42, 63, 39, 72, 63, 42, 79, 69, 53, 59, 72, 75, 65, 37, 71, 39,43, 64, 84, 75, 80, 54, 66, 44, 60, 72, 73, 50, 62, 62, 58, 42, 61,80, 55, 73, 59, 60, 67, 50, 64, 74, 58, 73, 60, 57, 30, 70, 72, 63,54, 77, 56, 53, 73, 49, 75, 49, 47, 71, 77, 19, 77, 72, 63, 49, 67,65, 47, 71, 77, 71, 71, 53, 78, 76, 67, 65, 61, 60, 21, 60, 59, 68,43, 64, 76, 59, 72, 64, 38, 61, 65, 77, 64, 52, 78, 80, 35, 37, 80,58, 62, 71, 23, 67, 39, 67, 62, 52, 49, 61, 76, 66, 59, 42, 68, 75,60, 52, 73, 60, 70, 62, 74, 74, 61, 51, 23,  2, 39, 69, 52, 40, 46,72, 82, 77, 71, 82, 75, 77, 37, 52, 53, 70, 69, 65, 29, 54, 55, 55,75, 62, 46, 66, 77, 75, 73, 77, 71, 72, 77, 55, 51, 58, 66, 58, 80,75, 47, 78, 59, 66, 30, 76, 63, 57, 29, 53, 78, 71, 48, 58, 45, 59,63, 46, 68, 73, 69, 42, 63, 76, 59, 61, 65, 55, 70, 68, 38, 21, 64,71, 74, 77, 61, 67, 73, 78, 49, 31, 46, 64, 72, 33, 68, 76, 82, 59,59, 52, 66, 63, 11, 61, 74, 60, 61, 73, 54, 70, 45, 42, 58, 73, 36,82, 75, 51, 79, 58, 59, 68,  0, 78, 52, 61, 65, 73, 46, 81, 63, 27,82, 68, 80, 61, 79, 69, 42, 66, 52, 45, 62, 27, 76, 62, 64, 67, 43,51, 71, 77, 43, 24, 53, 52, 36, 52, 76, 69, 65, 73, 62, 68, 70, 75,70, 48, 58, 56, 66, 55, 62, 77, 62, 65, 51, 70, 60, 76, 74, 65, 72,62, 72, 42, 41, 43, 77, 68, 76, 76, 72, 56, 80, 77, 66, 57,  5, 72,67, 78, 81, 77, 66, 35, 54, 37, 42, 71, 78, 66, 68, 33, 25, 54,  8,72, 63, 38, 45, 67, 56, 64, 36, 54, 70, 71, 64, 72, 57, 59, 66, 51,77, 72, 36, 71, 70, 80, 39, 72, 74, 50, 58, 79, 25, 35, 61, 63, 50,68, 60, 82, 58, 14, 32, 77, 70, 65, 81, 73, 48, 67, 67, 30, 69, 69,59, 67, 74, 46, 53, 64, 75, 67, 54, 75, 61, 67, 19, 30, 62, 70, 76,47, 70, 73, 34, 57, 71, 56, 68, 44, 38, 47, 66, 72, 46, 68, 72, 44,58, 42, 62, 79, 45, 75, 37, 44, 24, 78, 52, 40, 75, 45, 52, 34, 74,82,  6, 78, 70, 36, 42, 75, 58, 20,  4, 53, 57, 69, 71, 53, 61, 26,67, 60, 76, 44, 68, 78, 80, 76, 55, 66, 67, 69, 71, 58, 69, 42, 53,35, 74, 56, 59, 41, 71, 64, 49, 68, 58, 69, 52, 75, 47, 77, 63, 53,42, 44, 72, 60, 59, 55, 57, 35, 78, 66, 73, 61, 47, 74, 75, 71, 45,43, 60, 53, 54, 79, 69, 46, 57, 64, 58, 36, 51, 77, 64, 72, 64, 44,54, 69, 59, 54, 58, 59, 68, 58, 75, 73, 62, 78, 51, 60])\n",
    "\n",
    "print(f\"Mean - {np.mean(life_expectancy)}\")\n",
    "print(f\"Median - {np.median(life_expectancy)}\")\n",
    "print(f\"Mode - {stats.mode(life_expectancy)}\")\n",
    "print(f\"Range - {np.min(life_expectancy)} - {np.max(life_expectancy)}\")\n",
    "print(f\"Standard Deviation - {np.std(life_expectancy)}\")\n",
    "print(f\"skewness - {stats.skew(life_expectancy)}\")\n",
    "print(f\"kurtosis - {stats.kurtosis(life_expectancy)}\")\n",
    "\n",
    "sns.histplot(x = life_expectancy, kde = True)\n",
    "plt.axvline(life_expectancy.mean(), color = \"red\")\n",
    "_ = plt.axvline(np.median(life_expectancy), color = \"Green\")\n"
   ]
  },
  {
   "cell_type": "markdown",
   "id": "6a7ff427-4cd7-4e16-bcd1-32f44498944e",
   "metadata": {},
   "source": [
    "### Bivariate Analysis\n",
    "\n",
    "Bivariate analysis is a statistical method used to analyze the relationship between two variables simultaneously. \n",
    "\n",
    "#### Numerical-Numerical Analysis:\n",
    "\n",
    "- Scatter Plots: Scatter plots with a regression line can show the relationship between two continuous variables. Each data point represents a combination of values from both variables.\n",
    "\n",
    "- Correlation Analysis: Quantifies the strength and direction of the linear relationship between two continuous variables. Pearson correlation coefficient (r) measures the degree of linear association between variables. \n",
    "\t- It ranges from -1 to 1, where:\n",
    "\t- r = 1: Perfect positive correlation\n",
    "\t- r = -1: Perfect negative correlation\n",
    "\t- r = 0: No correlation\n",
    "\n",
    "#### Categorical-Categorical Analysis:\n",
    "\n",
    "- Contingency tables (also known as cross-tabulations) display the frequency distribution of categories for two categorical variables. \n",
    "\n",
    "#### Categorical-Numerical Analysis:\n",
    "\n",
    "- Box plots or bar charts with groupings display the distribution of a numerical variable across different categories of a categorical variable."
   ]
  },
  {
   "cell_type": "markdown",
   "id": "919bcc8d-64d9-4feb-a27b-a1edf53eabee",
   "metadata": {},
   "source": [
    "#### Categorial vs Numeric"
   ]
  },
  {
   "cell_type": "markdown",
   "id": "d397ec21-4ff0-44cd-bbfb-1f4338973bdf",
   "metadata": {},
   "source": [
    "###### Ex. Visualise product-wise Sales"
   ]
  },
  {
   "cell_type": "code",
   "execution_count": 293,
   "id": "7e13d650-63eb-4ff0-9d49-22d63b4dbf22",
   "metadata": {},
   "outputs": [
    {
     "data": {
      "image/png": "[encoded data removed]",
      "text/plain": [
       "<Figure size 300x200 with 1 Axes>"
      ]
     },
     "metadata": {},
     "output_type": "display_data"
    }
   ],
   "source": [
    "data = df.groupby(\"Product\")[\"Profit\"].sum()\n",
    "_ = data.plot(kind = \"bar\")\n",
    "_ = plt.xlabel(\"\", fontsize = 10)"
   ]
  },
  {
   "cell_type": "code",
   "execution_count": 295,
   "id": "d61b4120-c816-47ef-80b9-0feb410e66d7",
   "metadata": {},
   "outputs": [
    {
     "data": {
      "image/png": "[encoded data removed]",
      "text/plain": [
       "<Figure size 1200x200 with 1 Axes>"
      ]
     },
     "metadata": {},
     "output_type": "display_data"
    }
   ],
   "source": [
    "plt.figure(figsize=(12, 2))\n",
    "_ = sns.barplot(df, y = \"Profit\", x = \"Product\", estimator = np.sum)"
   ]
  },
  {
   "cell_type": "markdown",
   "id": "7ba6f22e-102a-47a1-a92e-e6daf2955584",
   "metadata": {},
   "source": [
    "###### Ex. Display product-wise total sales across City Mumbai in DESC Order. Find the product generating maximum sales."
   ]
  },
  {
   "cell_type": "code",
   "execution_count": 298,
   "id": "94bf6cd3-0a85-4b92-a91e-c7b001ec6ff3",
   "metadata": {},
   "outputs": [
    {
     "data": {
      "image/png": "[encoded data removed]",
      "text/plain": [
       "<Figure size 1200x200 with 1 Axes>"
      ]
     },
     "metadata": {},
     "output_type": "display_data"
    }
   ],
   "source": [
    "plt.figure(figsize=(12, 2))\n",
    "_= sns.barplot(data = df[df.City == \"Mumbai\"], x = \"Product\", y = \"Sales\")"
   ]
  },
  {
   "cell_type": "markdown",
   "id": "4f7a9074-20cf-44fd-940a-fb19886dcabb",
   "metadata": {},
   "source": [
    "###### Ex. Display sales over year - month"
   ]
  },
  {
   "cell_type": "code",
   "execution_count": 304,
   "id": "4e828e99-786c-4835-bef8-bf7077e49098",
   "metadata": {},
   "outputs": [
    {
     "data": {
      "text/plain": [
       "<Axes: xlabel='Date', ylabel='Sales'>"
      ]
     },
     "execution_count": 304,
     "metadata": {},
     "output_type": "execute_result"
    },
    {
     "data": {
      "image/png": "[encoded data removed]",
      "text/plain": [
       "<Figure size 1200x200 with 1 Axes>"
      ]
     },
     "metadata": {},
     "output_type": "display_data"
    }
   ],
   "source": [
    "plt.figure(figsize=(12, 2))\n",
    "sns.lineplot(df, x = \"Date\", y = \"Sales\", estimator=np.sum)"
   ]
  },
  {
   "cell_type": "markdown",
   "id": "5b211075-7736-4018-9b17-db7889bf3fad",
   "metadata": {},
   "source": [
    "#### Numerical vs Numerical"
   ]
  },
  {
   "cell_type": "code",
   "execution_count": 306,
   "id": "81e7fe98-46d3-4147-8ab7-65bfb48bca77",
   "metadata": {},
   "outputs": [
    {
     "data": {
      "text/plain": [
       "<Axes: xlabel='Sales', ylabel='Profit'>"
      ]
     },
     "execution_count": 306,
     "metadata": {},
     "output_type": "execute_result"
    },
    {
     "data": {
      "image/png": "[encoded data removed]",
      "text/plain": [
       "<Figure size 300x200 with 1 Axes>"
      ]
     },
     "metadata": {},
     "output_type": "display_data"
    }
   ],
   "source": [
    "sns.scatterplot(df, x = \"Sales\", y = \"Profit\")"
   ]
  },
  {
   "cell_type": "code",
   "execution_count": 309,
   "id": "30039aef-7ecb-44c6-b77e-4feabac1eb6e",
   "metadata": {},
   "outputs": [
    {
     "data": {
      "image/png": "[encoded data removed]",
      "text/plain": [
       "<Figure size 500x500 with 1 Axes>"
      ]
     },
     "metadata": {},
     "output_type": "display_data"
    }
   ],
   "source": [
    "_ = sns.lmplot(df, x = \"Sales\", y = \"Profit\", line_kws = {\"color\" : \"red\"})"
   ]
  },
  {
   "cell_type": "markdown",
   "id": "6afef299-fa23-4d8e-91ad-f9786d4124f2",
   "metadata": {},
   "source": [
    "#### Categorial vs categorial"
   ]
  },
  {
   "cell_type": "code",
   "execution_count": 311,
   "id": "1c0c63d0-1fa2-4993-87c5-09e89dada032",
   "metadata": {},
   "outputs": [
    {
     "data": {
      "text/html": [
       "<div>\n",
       "<style scoped>\n",
       "    .dataframe tbody tr th:only-of-type {\n",
       "        vertical-align: middle;\n",
       "    }\n",
       "\n",
       "    .dataframe tbody tr th {\n",
       "        vertical-align: top;\n",
       "    }\n",
       "\n",
       "    .dataframe thead th {\n",
       "        text-align: right;\n",
       "    }\n",
       "</style>\n",
       "<table border=\"1\" class=\"dataframe\">\n",
       "  <thead>\n",
       "    <tr style=\"text-align: right;\">\n",
       "      <th>Sales Target Status</th>\n",
       "      <th>Achieved</th>\n",
       "      <th>Not-Achieved</th>\n",
       "    </tr>\n",
       "    <tr>\n",
       "      <th>Product</th>\n",
       "      <th></th>\n",
       "      <th></th>\n",
       "    </tr>\n",
       "  </thead>\n",
       "  <tbody>\n",
       "    <tr>\n",
       "      <th>Amaretto</th>\n",
       "      <td>107</td>\n",
       "      <td>109</td>\n",
       "    </tr>\n",
       "    <tr>\n",
       "      <th>Caffe Latte</th>\n",
       "      <td>216</td>\n",
       "      <td>0</td>\n",
       "    </tr>\n",
       "    <tr>\n",
       "      <th>Caffe Mocha</th>\n",
       "      <td>305</td>\n",
       "      <td>127</td>\n",
       "    </tr>\n",
       "    <tr>\n",
       "      <th>Chamomile</th>\n",
       "      <td>360</td>\n",
       "      <td>0</td>\n",
       "    </tr>\n",
       "    <tr>\n",
       "      <th>Colombian</th>\n",
       "      <td>191</td>\n",
       "      <td>241</td>\n",
       "    </tr>\n",
       "    <tr>\n",
       "      <th>Darjeeling</th>\n",
       "      <td>308</td>\n",
       "      <td>52</td>\n",
       "    </tr>\n",
       "    <tr>\n",
       "      <th>Decaf Espresso</th>\n",
       "      <td>284</td>\n",
       "      <td>148</td>\n",
       "    </tr>\n",
       "    <tr>\n",
       "      <th>Decaf Irish Cream</th>\n",
       "      <td>104</td>\n",
       "      <td>256</td>\n",
       "    </tr>\n",
       "    <tr>\n",
       "      <th>Earl Grey</th>\n",
       "      <td>326</td>\n",
       "      <td>34</td>\n",
       "    </tr>\n",
       "    <tr>\n",
       "      <th>Green Tea</th>\n",
       "      <td>294</td>\n",
       "      <td>66</td>\n",
       "    </tr>\n",
       "    <tr>\n",
       "      <th>Lemon Tea</th>\n",
       "      <td>432</td>\n",
       "      <td>0</td>\n",
       "    </tr>\n",
       "    <tr>\n",
       "      <th>Mint Tea</th>\n",
       "      <td>216</td>\n",
       "      <td>0</td>\n",
       "    </tr>\n",
       "    <tr>\n",
       "      <th>Regular Espresso</th>\n",
       "      <td>72</td>\n",
       "      <td>0</td>\n",
       "    </tr>\n",
       "  </tbody>\n",
       "</table>\n",
       "</div>"
      ],
      "text/plain": [
       "Sales Target Status  Achieved  Not-Achieved\n",
       "Product                                    \n",
       "Amaretto                  107           109\n",
       "Caffe Latte               216             0\n",
       "Caffe Mocha               305           127\n",
       "Chamomile                 360             0\n",
       "Colombian                 191           241\n",
       "Darjeeling                308            52\n",
       "Decaf Espresso            284           148\n",
       "Decaf Irish Cream         104           256\n",
       "Earl Grey                 326            34\n",
       "Green Tea                 294            66\n",
       "Lemon Tea                 432             0\n",
       "Mint Tea                  216             0\n",
       "Regular Espresso           72             0"
      ]
     },
     "execution_count": 311,
     "metadata": {},
     "output_type": "execute_result"
    }
   ],
   "source": [
    "pd.crosstab(df.Product, df[\"Sales Target Status\"])"
   ]
  },
  {
   "cell_type": "markdown",
   "id": "a52f72ed-fdcd-4554-ac2f-8e222b3bccfa",
   "metadata": {},
   "source": [
    "###### How many franchises in each city are selling the product?"
   ]
  },
  {
   "cell_type": "code",
   "execution_count": 316,
   "id": "740b0ba5-4964-4b03-a560-3c42311f0171",
   "metadata": {},
   "outputs": [
    {
     "data": {
      "text/html": [
       "<div>\n",
       "<style scoped>\n",
       "    .dataframe tbody tr th:only-of-type {\n",
       "        vertical-align: middle;\n",
       "    }\n",
       "\n",
       "    .dataframe tbody tr th {\n",
       "        vertical-align: top;\n",
       "    }\n",
       "\n",
       "    .dataframe thead th {\n",
       "        text-align: right;\n",
       "    }\n",
       "</style>\n",
       "<table border=\"1\" class=\"dataframe\">\n",
       "  <thead>\n",
       "    <tr style=\"text-align: right;\">\n",
       "      <th>City</th>\n",
       "      <th>Banglore</th>\n",
       "      <th>Hyderabad</th>\n",
       "      <th>Mumbai</th>\n",
       "    </tr>\n",
       "    <tr>\n",
       "      <th>Product</th>\n",
       "      <th></th>\n",
       "      <th></th>\n",
       "      <th></th>\n",
       "    </tr>\n",
       "  </thead>\n",
       "  <tbody>\n",
       "    <tr>\n",
       "      <th>Amaretto</th>\n",
       "      <td>0</td>\n",
       "      <td>0</td>\n",
       "      <td>3</td>\n",
       "    </tr>\n",
       "    <tr>\n",
       "      <th>Caffe Latte</th>\n",
       "      <td>1</td>\n",
       "      <td>0</td>\n",
       "      <td>2</td>\n",
       "    </tr>\n",
       "    <tr>\n",
       "      <th>Caffe Mocha</th>\n",
       "      <td>2</td>\n",
       "      <td>1</td>\n",
       "      <td>3</td>\n",
       "    </tr>\n",
       "    <tr>\n",
       "      <th>Chamomile</th>\n",
       "      <td>2</td>\n",
       "      <td>0</td>\n",
       "      <td>3</td>\n",
       "    </tr>\n",
       "    <tr>\n",
       "      <th>Colombian</th>\n",
       "      <td>2</td>\n",
       "      <td>1</td>\n",
       "      <td>3</td>\n",
       "    </tr>\n",
       "    <tr>\n",
       "      <th>Darjeeling</th>\n",
       "      <td>2</td>\n",
       "      <td>1</td>\n",
       "      <td>2</td>\n",
       "    </tr>\n",
       "    <tr>\n",
       "      <th>Decaf Espresso</th>\n",
       "      <td>2</td>\n",
       "      <td>1</td>\n",
       "      <td>3</td>\n",
       "    </tr>\n",
       "    <tr>\n",
       "      <th>Decaf Irish Cream</th>\n",
       "      <td>2</td>\n",
       "      <td>0</td>\n",
       "      <td>3</td>\n",
       "    </tr>\n",
       "    <tr>\n",
       "      <th>Earl Grey</th>\n",
       "      <td>1</td>\n",
       "      <td>1</td>\n",
       "      <td>3</td>\n",
       "    </tr>\n",
       "    <tr>\n",
       "      <th>Green Tea</th>\n",
       "      <td>1</td>\n",
       "      <td>1</td>\n",
       "      <td>3</td>\n",
       "    </tr>\n",
       "    <tr>\n",
       "      <th>Lemon Tea</th>\n",
       "      <td>2</td>\n",
       "      <td>1</td>\n",
       "      <td>3</td>\n",
       "    </tr>\n",
       "    <tr>\n",
       "      <th>Mint Tea</th>\n",
       "      <td>0</td>\n",
       "      <td>0</td>\n",
       "      <td>3</td>\n",
       "    </tr>\n",
       "    <tr>\n",
       "      <th>Regular Espresso</th>\n",
       "      <td>0</td>\n",
       "      <td>0</td>\n",
       "      <td>1</td>\n",
       "    </tr>\n",
       "  </tbody>\n",
       "</table>\n",
       "</div>"
      ],
      "text/plain": [
       "City               Banglore  Hyderabad  Mumbai\n",
       "Product                                       \n",
       "Amaretto                  0          0       3\n",
       "Caffe Latte               1          0       2\n",
       "Caffe Mocha               2          1       3\n",
       "Chamomile                 2          0       3\n",
       "Colombian                 2          1       3\n",
       "Darjeeling                2          1       2\n",
       "Decaf Espresso            2          1       3\n",
       "Decaf Irish Cream         2          0       3\n",
       "Earl Grey                 1          1       3\n",
       "Green Tea                 1          1       3\n",
       "Lemon Tea                 2          1       3\n",
       "Mint Tea                  0          0       3\n",
       "Regular Espresso          0          0       1"
      ]
     },
     "execution_count": 316,
     "metadata": {},
     "output_type": "execute_result"
    }
   ],
   "source": [
    "df.pivot_table(index=\"Product\", columns=\"City\", values=\"Franchise\", aggfunc=lambda x : x.nunique()).fillna(0).astype(int)"
   ]
  },
  {
   "cell_type": "code",
   "execution_count": 320,
   "id": "9fe0dbec-10cb-4627-9cfa-b6f7aadbce72",
   "metadata": {},
   "outputs": [
    {
     "data": {
      "text/html": [
       "<div>\n",
       "<style scoped>\n",
       "    .dataframe tbody tr th:only-of-type {\n",
       "        vertical-align: middle;\n",
       "    }\n",
       "\n",
       "    .dataframe tbody tr th {\n",
       "        vertical-align: top;\n",
       "    }\n",
       "\n",
       "    .dataframe thead th {\n",
       "        text-align: right;\n",
       "    }\n",
       "</style>\n",
       "<table border=\"1\" class=\"dataframe\">\n",
       "  <thead>\n",
       "    <tr style=\"text-align: right;\">\n",
       "      <th>City</th>\n",
       "      <th>Banglore</th>\n",
       "      <th>Hyderabad</th>\n",
       "      <th>Mumbai</th>\n",
       "    </tr>\n",
       "    <tr>\n",
       "      <th>Product</th>\n",
       "      <th></th>\n",
       "      <th></th>\n",
       "      <th></th>\n",
       "    </tr>\n",
       "  </thead>\n",
       "  <tbody>\n",
       "    <tr>\n",
       "      <th>Amaretto</th>\n",
       "      <td>0.0</td>\n",
       "      <td>0.0</td>\n",
       "      <td>30425.0</td>\n",
       "    </tr>\n",
       "    <tr>\n",
       "      <th>Caffe Latte</th>\n",
       "      <td>11923.0</td>\n",
       "      <td>0.0</td>\n",
       "      <td>23976.0</td>\n",
       "    </tr>\n",
       "    <tr>\n",
       "      <th>Caffe Mocha</th>\n",
       "      <td>25079.0</td>\n",
       "      <td>13866.0</td>\n",
       "      <td>37523.0</td>\n",
       "    </tr>\n",
       "    <tr>\n",
       "      <th>Chamomile</th>\n",
       "      <td>28726.0</td>\n",
       "      <td>0.0</td>\n",
       "      <td>42168.0</td>\n",
       "    </tr>\n",
       "    <tr>\n",
       "      <th>Colombian</th>\n",
       "      <td>37735.0</td>\n",
       "      <td>21644.0</td>\n",
       "      <td>57168.0</td>\n",
       "    </tr>\n",
       "    <tr>\n",
       "      <th>Darjeeling</th>\n",
       "      <td>27123.0</td>\n",
       "      <td>14463.0</td>\n",
       "      <td>27202.0</td>\n",
       "    </tr>\n",
       "    <tr>\n",
       "      <th>Decaf Espresso</th>\n",
       "      <td>28487.0</td>\n",
       "      <td>13193.0</td>\n",
       "      <td>40762.0</td>\n",
       "    </tr>\n",
       "    <tr>\n",
       "      <th>Decaf Irish Cream</th>\n",
       "      <td>23890.0</td>\n",
       "      <td>0.0</td>\n",
       "      <td>34566.0</td>\n",
       "    </tr>\n",
       "    <tr>\n",
       "      <th>Earl Grey</th>\n",
       "      <td>16877.0</td>\n",
       "      <td>17225.0</td>\n",
       "      <td>46346.0</td>\n",
       "    </tr>\n",
       "    <tr>\n",
       "      <th>Green Tea</th>\n",
       "      <td>8263.0</td>\n",
       "      <td>8522.0</td>\n",
       "      <td>32192.0</td>\n",
       "    </tr>\n",
       "    <tr>\n",
       "      <th>Lemon Tea</th>\n",
       "      <td>28831.0</td>\n",
       "      <td>15236.0</td>\n",
       "      <td>41975.0</td>\n",
       "    </tr>\n",
       "    <tr>\n",
       "      <th>Mint Tea</th>\n",
       "      <td>0.0</td>\n",
       "      <td>0.0</td>\n",
       "      <td>40394.0</td>\n",
       "    </tr>\n",
       "    <tr>\n",
       "      <th>Regular Espresso</th>\n",
       "      <td>0.0</td>\n",
       "      <td>0.0</td>\n",
       "      <td>24031.0</td>\n",
       "    </tr>\n",
       "  </tbody>\n",
       "</table>\n",
       "</div>"
      ],
      "text/plain": [
       "City               Banglore  Hyderabad   Mumbai\n",
       "Product                                        \n",
       "Amaretto                0.0        0.0  30425.0\n",
       "Caffe Latte         11923.0        0.0  23976.0\n",
       "Caffe Mocha         25079.0    13866.0  37523.0\n",
       "Chamomile           28726.0        0.0  42168.0\n",
       "Colombian           37735.0    21644.0  57168.0\n",
       "Darjeeling          27123.0    14463.0  27202.0\n",
       "Decaf Espresso      28487.0    13193.0  40762.0\n",
       "Decaf Irish Cream   23890.0        0.0  34566.0\n",
       "Earl Grey           16877.0    17225.0  46346.0\n",
       "Green Tea            8263.0     8522.0  32192.0\n",
       "Lemon Tea           28831.0    15236.0  41975.0\n",
       "Mint Tea                0.0        0.0  40394.0\n",
       "Regular Espresso        0.0        0.0  24031.0"
      ]
     },
     "execution_count": 320,
     "metadata": {},
     "output_type": "execute_result"
    }
   ],
   "source": [
    "df.pivot_table(index=\"Product\", columns=\"City\", values=\"Sales\", aggfunc=\"sum\").fillna(0)"
   ]
  },
  {
   "cell_type": "markdown",
   "id": "ce33ae1d-7972-49e8-93b8-19d9e8630692",
   "metadata": {},
   "source": [
    "<br><br><br><br><br><br><br><br><br><br><br><br><br><br><br><br><br><br><br><br><br><br><br><br><br><br><br><br><br><br>"
   ]
  },
  {
   "cell_type": "markdown",
   "id": "d48b7418-eff1-47cc-9b8d-e15b64a8b499",
   "metadata": {},
   "source": [
    "### Example on Multivariate Analysis"
   ]
  },
  {
   "cell_type": "markdown",
   "id": "b831f552-5a9c-45d0-8372-d85199cfed4c",
   "metadata": {},
   "source": [
    "###### Ex. Number of franchises the product being sold in each city"
   ]
  },
  {
   "cell_type": "code",
   "execution_count": null,
   "id": "d4cfcaea-9624-47fd-915a-258595f46ddc",
   "metadata": {},
   "outputs": [],
   "source": []
  },
  {
   "cell_type": "code",
   "execution_count": null,
   "id": "0b6d2ef7-d9dd-4789-88f7-1dc1854248b6",
   "metadata": {},
   "outputs": [],
   "source": []
  }
 ],
 "metadata": {
  "kernelspec": {
   "display_name": "Python 3 (ipykernel)",
   "language": "python",
   "name": "python3"
  },
  "language_info": {
   "codemirror_mode": {
    "name": "ipython",
    "version": 3
   },
   "file_extension": ".py",
   "mimetype": "text/x-python",
   "name": "python",
   "nbconvert_exporter": "python",
   "pygments_lexer": "ipython3",
   "version": "3.12.4"
  }
 },
 "nbformat": 4,
 "nbformat_minor": 5
}
